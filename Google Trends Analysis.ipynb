{
 "cells": [
  {
   "attachments": {},
   "cell_type": "markdown",
   "metadata": {},
   "source": [
    "# Which Kardashian/Jenner sister is the most famous ?  - Google Search Trends Analysis\n",
    "\n",
    "The Kardashian/Jenner clan are sisters who have gained fame and success in various industries. The sisters include Kourtney, Kim, Khloe, Kendall, and Kylie. They first rose to fame through their reality TV show, \"Keeping Up with the Kardashians,\" which premiered in 2007 and has since become one of the longest-running reality TV shows in history.\n",
    "\n",
    "- **Kim Kardashian**: known for her successful career in the entertainment industry, including her reality TV show, her various business ventures, and her social media presence. She is also known for her role as a legal advocate and her work to reform the criminal justice system.\n",
    "\n",
    "- **Kourtney Kardashian**: known for her minimalistic lifestyle and her focus on health and wellness. She is also known for her various business ventures and her social media presence.\n",
    "\n",
    "- **Khloe Kardashian**: known for her successful career as a television personality and her work as a fitness and lifestyle influencer. She is also known for her role as a legal advocate and her work to reform the criminal justice system.\n",
    "\n",
    "- **Kendall Jenner**: a successful model, who has walked in various fashion shows and has modeled for some of the most famous fashion brands in the world. She is also known for her work as a television personality and her social media presence.\n",
    "\n",
    "- **Kylie Jenner**: a businesswoman and social media influencer, she founded Kylie Cosmetics, which became one of the most successful makeup companies in the world. She is also known for her successful career as a television personality.\n",
    "\n",
    "<p><img src=\"https://images.ctfassets.net/iyiurthvosft/3m77F6haKwcXqNoKExLISu/fe04d04b910d06269a93dba967d91d3d/Kardashian_Jenner_Family.jpg?fm=jpg&fl=progressive&q=50&w=1200\" alt=\"Kardashian Jenner family\"></p> \n",
    "\n",
    "The Kardashian/Jenner sisters have become household names and have a significant influence in the entertainment industry and the fashion world. They are known for their unique personalities, their business acumen, and their ability to adapt to changing trends and technologies.\n",
    "\n",
    "Here we will study how this influence translates over time in Google searches. Because as their mother Kris Jenner would say, it doesn't matter if you're talked about good or bad, as long as you're talked about. So who is the sister who has best applied this philosophy of life? Who is the sister who gets the most interest on Google? "
   ]
  },
  {
   "cell_type": "code",
   "execution_count": 32,
   "metadata": {},
   "outputs": [],
   "source": [
    "#Libraries \n",
    "import pandas as pd\n",
    "from bokeh.io import show, output_notebook, push_notebook\n",
    "from bokeh.plotting import figure\n",
    "from bokeh.models import HoverTool, Legend, LegendItem\n",
    "from bokeh.palettes import Set1, Bokeh\n",
    "import matplotlib.pyplot as plt\n",
    "import plotly.express as px"
   ]
  },
  {
   "attachments": {},
   "cell_type": "markdown",
   "metadata": {},
   "source": [
    "## 1. Google Trends Data\n",
    "\n",
    "Google Trends is a tool provided by Google that allows users to view how often certain search terms have been entered into the search engine over a specified period of time. This data can be used to identify patterns and trends in user behavior, such as seasonal fluctuations or changes in interest over time. The data can be viewed in various formats, such as line charts or maps, and can be filtered by location, language, and category. Google Trends data can be useful for a wide range of applications, such as market research, SEO, and content creation, as it provides insights into what people are searching for online.\n",
    "\n",
    "We have extracted the data concerning the Kardashian/Jenner sisters from 2007 to nowadays - 2007 because it is the beginning of the family reality TV - on the site google.trends.com. We have received the worldwide search interests for each month. Search interest is defined by Google in the following way:\n",
    "\n",
    "<blockquote>\n",
    "  <p>Numbers represent search interest relative to the highest point on the chart for the given region and time. A value of 100 is the peak popularity for the term. A value of 50 means that the term is half as popular. A score of 0 means there was not enough data for this term.</p>\n",
    "</blockquote>"
   ]
  },
  {
   "cell_type": "code",
   "execution_count": 33,
   "metadata": {},
   "outputs": [
    {
     "data": {
      "text/html": [
       "<div>\n",
       "<style scoped>\n",
       "    .dataframe tbody tr th:only-of-type {\n",
       "        vertical-align: middle;\n",
       "    }\n",
       "\n",
       "    .dataframe tbody tr th {\n",
       "        vertical-align: top;\n",
       "    }\n",
       "\n",
       "    .dataframe thead th {\n",
       "        text-align: right;\n",
       "    }\n",
       "</style>\n",
       "<table border=\"1\" class=\"dataframe\">\n",
       "  <thead>\n",
       "    <tr style=\"text-align: right;\">\n",
       "      <th></th>\n",
       "      <th>Mois</th>\n",
       "      <th>Kim Kardashian: (Dans tous les pays)</th>\n",
       "      <th>Khloé Kardashian: (Dans tous les pays)</th>\n",
       "      <th>Kourtney Kardashian: (Dans tous les pays)</th>\n",
       "      <th>Kendall Jenner: (Dans tous les pays)</th>\n",
       "      <th>Kylie Jenner: (Dans tous les pays)</th>\n",
       "    </tr>\n",
       "  </thead>\n",
       "  <tbody>\n",
       "    <tr>\n",
       "      <th>0</th>\n",
       "      <td>2007-01</td>\n",
       "      <td>3</td>\n",
       "      <td>&lt; 1</td>\n",
       "      <td>&lt; 1</td>\n",
       "      <td>&lt; 1</td>\n",
       "      <td>1</td>\n",
       "    </tr>\n",
       "    <tr>\n",
       "      <th>1</th>\n",
       "      <td>2007-02</td>\n",
       "      <td>13</td>\n",
       "      <td>&lt; 1</td>\n",
       "      <td>&lt; 1</td>\n",
       "      <td>&lt; 1</td>\n",
       "      <td>1</td>\n",
       "    </tr>\n",
       "    <tr>\n",
       "      <th>2</th>\n",
       "      <td>2007-03</td>\n",
       "      <td>9</td>\n",
       "      <td>&lt; 1</td>\n",
       "      <td>&lt; 1</td>\n",
       "      <td>&lt; 1</td>\n",
       "      <td>1</td>\n",
       "    </tr>\n",
       "    <tr>\n",
       "      <th>3</th>\n",
       "      <td>2007-04</td>\n",
       "      <td>6</td>\n",
       "      <td>&lt; 1</td>\n",
       "      <td>&lt; 1</td>\n",
       "      <td>&lt; 1</td>\n",
       "      <td>1</td>\n",
       "    </tr>\n",
       "    <tr>\n",
       "      <th>4</th>\n",
       "      <td>2007-05</td>\n",
       "      <td>6</td>\n",
       "      <td>&lt; 1</td>\n",
       "      <td>&lt; 1</td>\n",
       "      <td>&lt; 1</td>\n",
       "      <td>1</td>\n",
       "    </tr>\n",
       "  </tbody>\n",
       "</table>\n",
       "</div>"
      ],
      "text/plain": [
       "      Mois  Kim Kardashian: (Dans tous les pays)  \\\n",
       "0  2007-01                                     3   \n",
       "1  2007-02                                    13   \n",
       "2  2007-03                                     9   \n",
       "3  2007-04                                     6   \n",
       "4  2007-05                                     6   \n",
       "\n",
       "  Khloé Kardashian: (Dans tous les pays)  \\\n",
       "0                                    < 1   \n",
       "1                                    < 1   \n",
       "2                                    < 1   \n",
       "3                                    < 1   \n",
       "4                                    < 1   \n",
       "\n",
       "  Kourtney Kardashian: (Dans tous les pays)  \\\n",
       "0                                       < 1   \n",
       "1                                       < 1   \n",
       "2                                       < 1   \n",
       "3                                       < 1   \n",
       "4                                       < 1   \n",
       "\n",
       "  Kendall Jenner: (Dans tous les pays) Kylie Jenner: (Dans tous les pays)  \n",
       "0                                  < 1                                  1  \n",
       "1                                  < 1                                  1  \n",
       "2                                  < 1                                  1  \n",
       "3                                  < 1                                  1  \n",
       "4                                  < 1                                  1  "
      ]
     },
     "execution_count": 33,
     "metadata": {},
     "output_type": "execute_result"
    }
   ],
   "source": [
    "# Read in dataset\n",
    "trends = pd.read_csv('datasets/google_trends_kardashian_jenner.csv', skiprows=1)\n",
    "trends.head()"
   ]
  },
  {
   "attachments": {},
   "cell_type": "markdown",
   "metadata": {},
   "source": [
    "## 2. Data Cleaning"
   ]
  },
  {
   "attachments": {},
   "cell_type": "markdown",
   "metadata": {},
   "source": [
    "We proceed to the cleaning of the data, the data are complete and reliable but not easily exploitable. Indeed we find the presence of string in the numerical data of spaces as well as special characters. "
   ]
  },
  {
   "cell_type": "code",
   "execution_count": 34,
   "metadata": {},
   "outputs": [
    {
     "name": "stdout",
     "output_type": "stream",
     "text": [
      "<class 'pandas.core.frame.DataFrame'>\n",
      "RangeIndex: 193 entries, 0 to 192\n",
      "Data columns (total 6 columns):\n",
      " #   Column                                     Non-Null Count  Dtype \n",
      "---  ------                                     --------------  ----- \n",
      " 0   Mois                                       193 non-null    object\n",
      " 1   Kim Kardashian: (Dans tous les pays)       193 non-null    int64 \n",
      " 2   Khloé Kardashian: (Dans tous les pays)     193 non-null    object\n",
      " 3   Kourtney Kardashian: (Dans tous les pays)  193 non-null    object\n",
      " 4   Kendall Jenner: (Dans tous les pays)       193 non-null    object\n",
      " 5   Kylie Jenner: (Dans tous les pays)         193 non-null    object\n",
      "dtypes: int64(1), object(5)\n",
      "memory usage: 9.2+ KB\n"
     ]
    }
   ],
   "source": [
    "trends.info()"
   ]
  },
  {
   "cell_type": "code",
   "execution_count": 35,
   "metadata": {},
   "outputs": [],
   "source": [
    "# Rename the columns\n",
    "trends.columns = [\"month\", \"kim\", \"khloe\", \"kourtney\", \"kendall\", \"kylie\"]"
   ]
  },
  {
   "cell_type": "code",
   "execution_count": 36,
   "metadata": {},
   "outputs": [
    {
     "name": "stdout",
     "output_type": "stream",
     "text": [
      "<class 'pandas.core.frame.DataFrame'>\n",
      "DatetimeIndex: 193 entries, 2007-01-01 to 2023-01-01\n",
      "Data columns (total 5 columns):\n",
      " #   Column    Non-Null Count  Dtype\n",
      "---  ------    --------------  -----\n",
      " 0   kim       193 non-null    int64\n",
      " 1   khloe     193 non-null    int64\n",
      " 2   kourtney  193 non-null    int64\n",
      " 3   kendall   193 non-null    int64\n",
      " 4   kylie     193 non-null    int64\n",
      "dtypes: int64(5)\n",
      "memory usage: 9.0 KB\n"
     ]
    },
    {
     "data": {
      "text/html": [
       "<div>\n",
       "<style scoped>\n",
       "    .dataframe tbody tr th:only-of-type {\n",
       "        vertical-align: middle;\n",
       "    }\n",
       "\n",
       "    .dataframe tbody tr th {\n",
       "        vertical-align: top;\n",
       "    }\n",
       "\n",
       "    .dataframe thead th {\n",
       "        text-align: right;\n",
       "    }\n",
       "</style>\n",
       "<table border=\"1\" class=\"dataframe\">\n",
       "  <thead>\n",
       "    <tr style=\"text-align: right;\">\n",
       "      <th></th>\n",
       "      <th>kim</th>\n",
       "      <th>khloe</th>\n",
       "      <th>kourtney</th>\n",
       "      <th>kendall</th>\n",
       "      <th>kylie</th>\n",
       "    </tr>\n",
       "    <tr>\n",
       "      <th>month</th>\n",
       "      <th></th>\n",
       "      <th></th>\n",
       "      <th></th>\n",
       "      <th></th>\n",
       "      <th></th>\n",
       "    </tr>\n",
       "  </thead>\n",
       "  <tbody>\n",
       "    <tr>\n",
       "      <th>2007-01-01</th>\n",
       "      <td>3</td>\n",
       "      <td>1</td>\n",
       "      <td>1</td>\n",
       "      <td>1</td>\n",
       "      <td>1</td>\n",
       "    </tr>\n",
       "    <tr>\n",
       "      <th>2007-02-01</th>\n",
       "      <td>13</td>\n",
       "      <td>1</td>\n",
       "      <td>1</td>\n",
       "      <td>1</td>\n",
       "      <td>1</td>\n",
       "    </tr>\n",
       "    <tr>\n",
       "      <th>2007-03-01</th>\n",
       "      <td>9</td>\n",
       "      <td>1</td>\n",
       "      <td>1</td>\n",
       "      <td>1</td>\n",
       "      <td>1</td>\n",
       "    </tr>\n",
       "    <tr>\n",
       "      <th>2007-04-01</th>\n",
       "      <td>6</td>\n",
       "      <td>1</td>\n",
       "      <td>1</td>\n",
       "      <td>1</td>\n",
       "      <td>1</td>\n",
       "    </tr>\n",
       "    <tr>\n",
       "      <th>2007-05-01</th>\n",
       "      <td>6</td>\n",
       "      <td>1</td>\n",
       "      <td>1</td>\n",
       "      <td>1</td>\n",
       "      <td>1</td>\n",
       "    </tr>\n",
       "  </tbody>\n",
       "</table>\n",
       "</div>"
      ],
      "text/plain": [
       "            kim  khloe  kourtney  kendall  kylie\n",
       "month                                           \n",
       "2007-01-01    3      1         1        1      1\n",
       "2007-02-01   13      1         1        1      1\n",
       "2007-03-01    9      1         1        1      1\n",
       "2007-04-01    6      1         1        1      1\n",
       "2007-05-01    6      1         1        1      1"
      ]
     },
     "execution_count": 36,
     "metadata": {},
     "output_type": "execute_result"
    }
   ],
   "source": [
    "# Remove spaces and special characters\n",
    "for column in trends.columns:\n",
    "    if \"<\" in trends[column].to_string(): \n",
    "        trends[column] = trends[column].str.replace(\"<\", \"\").str.strip()\n",
    "        trends[column] = pd.to_numeric(trends[column])\n",
    "\n",
    "# Convert month and set index\n",
    "trends['month'] = pd.to_datetime(trends['month'])\n",
    "trends = trends.set_index('month')\n",
    "\n",
    "# Inspect data types and data\n",
    "trends.info()\n",
    "trends.head()"
   ]
  },
  {
   "attachments": {},
   "cell_type": "markdown",
   "metadata": {},
   "source": [
    "## 3. Data Visualization\n",
    "\n",
    "### 3.1 Over-time trends"
   ]
  },
  {
   "attachments": {},
   "cell_type": "markdown",
   "metadata": {},
   "source": [
    "With the clean data obtained we can now have fun. Let's visualize our data! \n",
    "\n",
    "First we reproduce the graph of google trends, which is the interest rating by sister over time. We use the Bokeh library to obtain interactive and nicer representations."
   ]
  },
  {
   "cell_type": "code",
   "execution_count": 37,
   "metadata": {},
   "outputs": [
    {
     "data": {
      "text/html": [
       "\n",
       "    <div class=\"bk-root\">\n",
       "        <a href=\"https://bokeh.org\" target=\"_blank\" class=\"bk-logo bk-logo-small bk-logo-notebook\"></a>\n",
       "        <span id=\"1746\">Loading BokehJS ...</span>\n",
       "    </div>"
      ]
     },
     "metadata": {},
     "output_type": "display_data"
    },
    {
     "data": {
      "application/javascript": "\n(function(root) {\n  function now() {\n    return new Date();\n  }\n\n  const force = true;\n\n  if (typeof root._bokeh_onload_callbacks === \"undefined\" || force === true) {\n    root._bokeh_onload_callbacks = [];\n    root._bokeh_is_loading = undefined;\n  }\n\n  const JS_MIME_TYPE = 'application/javascript';\n  const HTML_MIME_TYPE = 'text/html';\n  const EXEC_MIME_TYPE = 'application/vnd.bokehjs_exec.v0+json';\n  const CLASS_NAME = 'output_bokeh rendered_html';\n\n  /**\n   * Render data to the DOM node\n   */\n  function render(props, node) {\n    const script = document.createElement(\"script\");\n    node.appendChild(script);\n  }\n\n  /**\n   * Handle when an output is cleared or removed\n   */\n  function handleClearOutput(event, handle) {\n    const cell = handle.cell;\n\n    const id = cell.output_area._bokeh_element_id;\n    const server_id = cell.output_area._bokeh_server_id;\n    // Clean up Bokeh references\n    if (id != null && id in Bokeh.index) {\n      Bokeh.index[id].model.document.clear();\n      delete Bokeh.index[id];\n    }\n\n    if (server_id !== undefined) {\n      // Clean up Bokeh references\n      const cmd_clean = \"from bokeh.io.state import curstate; print(curstate().uuid_to_server['\" + server_id + \"'].get_sessions()[0].document.roots[0]._id)\";\n      cell.notebook.kernel.execute(cmd_clean, {\n        iopub: {\n          output: function(msg) {\n            const id = msg.content.text.trim();\n            if (id in Bokeh.index) {\n              Bokeh.index[id].model.document.clear();\n              delete Bokeh.index[id];\n            }\n          }\n        }\n      });\n      // Destroy server and session\n      const cmd_destroy = \"import bokeh.io.notebook as ion; ion.destroy_server('\" + server_id + \"')\";\n      cell.notebook.kernel.execute(cmd_destroy);\n    }\n  }\n\n  /**\n   * Handle when a new output is added\n   */\n  function handleAddOutput(event, handle) {\n    const output_area = handle.output_area;\n    const output = handle.output;\n\n    // limit handleAddOutput to display_data with EXEC_MIME_TYPE content only\n    if ((output.output_type != \"display_data\") || (!Object.prototype.hasOwnProperty.call(output.data, EXEC_MIME_TYPE))) {\n      return\n    }\n\n    const toinsert = output_area.element.find(\".\" + CLASS_NAME.split(' ')[0]);\n\n    if (output.metadata[EXEC_MIME_TYPE][\"id\"] !== undefined) {\n      toinsert[toinsert.length - 1].firstChild.textContent = output.data[JS_MIME_TYPE];\n      // store reference to embed id on output_area\n      output_area._bokeh_element_id = output.metadata[EXEC_MIME_TYPE][\"id\"];\n    }\n    if (output.metadata[EXEC_MIME_TYPE][\"server_id\"] !== undefined) {\n      const bk_div = document.createElement(\"div\");\n      bk_div.innerHTML = output.data[HTML_MIME_TYPE];\n      const script_attrs = bk_div.children[0].attributes;\n      for (let i = 0; i < script_attrs.length; i++) {\n        toinsert[toinsert.length - 1].firstChild.setAttribute(script_attrs[i].name, script_attrs[i].value);\n        toinsert[toinsert.length - 1].firstChild.textContent = bk_div.children[0].textContent\n      }\n      // store reference to server id on output_area\n      output_area._bokeh_server_id = output.metadata[EXEC_MIME_TYPE][\"server_id\"];\n    }\n  }\n\n  function register_renderer(events, OutputArea) {\n\n    function append_mime(data, metadata, element) {\n      // create a DOM node to render to\n      const toinsert = this.create_output_subarea(\n        metadata,\n        CLASS_NAME,\n        EXEC_MIME_TYPE\n      );\n      this.keyboard_manager.register_events(toinsert);\n      // Render to node\n      const props = {data: data, metadata: metadata[EXEC_MIME_TYPE]};\n      render(props, toinsert[toinsert.length - 1]);\n      element.append(toinsert);\n      return toinsert\n    }\n\n    /* Handle when an output is cleared or removed */\n    events.on('clear_output.CodeCell', handleClearOutput);\n    events.on('delete.Cell', handleClearOutput);\n\n    /* Handle when a new output is added */\n    events.on('output_added.OutputArea', handleAddOutput);\n\n    /**\n     * Register the mime type and append_mime function with output_area\n     */\n    OutputArea.prototype.register_mime_type(EXEC_MIME_TYPE, append_mime, {\n      /* Is output safe? */\n      safe: true,\n      /* Index of renderer in `output_area.display_order` */\n      index: 0\n    });\n  }\n\n  // register the mime type if in Jupyter Notebook environment and previously unregistered\n  if (root.Jupyter !== undefined) {\n    const events = require('base/js/events');\n    const OutputArea = require('notebook/js/outputarea').OutputArea;\n\n    if (OutputArea.prototype.mime_types().indexOf(EXEC_MIME_TYPE) == -1) {\n      register_renderer(events, OutputArea);\n    }\n  }\n\n  \n  if (typeof (root._bokeh_timeout) === \"undefined\" || force === true) {\n    root._bokeh_timeout = Date.now() + 5000;\n    root._bokeh_failed_load = false;\n  }\n\n  const NB_LOAD_WARNING = {'data': {'text/html':\n     \"<div style='background-color: #fdd'>\\n\"+\n     \"<p>\\n\"+\n     \"BokehJS does not appear to have successfully loaded. If loading BokehJS from CDN, this \\n\"+\n     \"may be due to a slow or bad network connection. Possible fixes:\\n\"+\n     \"</p>\\n\"+\n     \"<ul>\\n\"+\n     \"<li>re-rerun `output_notebook()` to attempt to load from CDN again, or</li>\\n\"+\n     \"<li>use INLINE resources instead, as so:</li>\\n\"+\n     \"</ul>\\n\"+\n     \"<code>\\n\"+\n     \"from bokeh.resources import INLINE\\n\"+\n     \"output_notebook(resources=INLINE)\\n\"+\n     \"</code>\\n\"+\n     \"</div>\"}};\n\n  function display_loaded() {\n    const el = document.getElementById(\"1746\");\n    if (el != null) {\n      el.textContent = \"BokehJS is loading...\";\n    }\n    if (root.Bokeh !== undefined) {\n      if (el != null) {\n        el.textContent = \"BokehJS \" + root.Bokeh.version + \" successfully loaded.\";\n      }\n    } else if (Date.now() < root._bokeh_timeout) {\n      setTimeout(display_loaded, 100)\n    }\n  }\n\n\n  function run_callbacks() {\n    try {\n      root._bokeh_onload_callbacks.forEach(function(callback) {\n        if (callback != null)\n          callback();\n      });\n    } finally {\n      delete root._bokeh_onload_callbacks\n    }\n    console.debug(\"Bokeh: all callbacks have finished\");\n  }\n\n  function load_libs(css_urls, js_urls, callback) {\n    if (css_urls == null) css_urls = [];\n    if (js_urls == null) js_urls = [];\n\n    root._bokeh_onload_callbacks.push(callback);\n    if (root._bokeh_is_loading > 0) {\n      console.debug(\"Bokeh: BokehJS is being loaded, scheduling callback at\", now());\n      return null;\n    }\n    if (js_urls == null || js_urls.length === 0) {\n      run_callbacks();\n      return null;\n    }\n    console.debug(\"Bokeh: BokehJS not loaded, scheduling load and callback at\", now());\n    root._bokeh_is_loading = css_urls.length + js_urls.length;\n\n    function on_load() {\n      root._bokeh_is_loading--;\n      if (root._bokeh_is_loading === 0) {\n        console.debug(\"Bokeh: all BokehJS libraries/stylesheets loaded\");\n        run_callbacks()\n      }\n    }\n\n    function on_error(url) {\n      console.error(\"failed to load \" + url);\n    }\n\n    for (let i = 0; i < css_urls.length; i++) {\n      const url = css_urls[i];\n      const element = document.createElement(\"link\");\n      element.onload = on_load;\n      element.onerror = on_error.bind(null, url);\n      element.rel = \"stylesheet\";\n      element.type = \"text/css\";\n      element.href = url;\n      console.debug(\"Bokeh: injecting link tag for BokehJS stylesheet: \", url);\n      document.body.appendChild(element);\n    }\n\n    for (let i = 0; i < js_urls.length; i++) {\n      const url = js_urls[i];\n      const element = document.createElement('script');\n      element.onload = on_load;\n      element.onerror = on_error.bind(null, url);\n      element.async = false;\n      element.src = url;\n      console.debug(\"Bokeh: injecting script tag for BokehJS library: \", url);\n      document.head.appendChild(element);\n    }\n  };\n\n  function inject_raw_css(css) {\n    const element = document.createElement(\"style\");\n    element.appendChild(document.createTextNode(css));\n    document.body.appendChild(element);\n  }\n\n  \n  const js_urls = [\"https://cdn.bokeh.org/bokeh/release/bokeh-2.4.2.min.js\", \"https://cdn.bokeh.org/bokeh/release/bokeh-gl-2.4.2.min.js\", \"https://cdn.bokeh.org/bokeh/release/bokeh-widgets-2.4.2.min.js\", \"https://cdn.bokeh.org/bokeh/release/bokeh-tables-2.4.2.min.js\", \"https://cdn.bokeh.org/bokeh/release/bokeh-mathjax-2.4.2.min.js\"];\n  const css_urls = [];\n  \n\n  const inline_js = [\n    function(Bokeh) {\n      Bokeh.set_log_level(\"info\");\n    },\n    function(Bokeh) {\n    \n    \n    }\n  ];\n\n  function run_inline_js() {\n    \n    if (root.Bokeh !== undefined || force === true) {\n      \n    for (let i = 0; i < inline_js.length; i++) {\n      inline_js[i].call(root, root.Bokeh);\n    }\n    if (force === true) {\n        display_loaded();\n      }} else if (Date.now() < root._bokeh_timeout) {\n      setTimeout(run_inline_js, 100);\n    } else if (!root._bokeh_failed_load) {\n      console.log(\"Bokeh: BokehJS failed to load within specified timeout.\");\n      root._bokeh_failed_load = true;\n    } else if (force !== true) {\n      const cell = $(document.getElementById(\"1746\")).parents('.cell').data().cell;\n      cell.output_area.append_execute_result(NB_LOAD_WARNING)\n    }\n\n  }\n\n  if (root._bokeh_is_loading === 0) {\n    console.debug(\"Bokeh: BokehJS loaded, going straight to plotting\");\n    run_inline_js();\n  } else {\n    load_libs(css_urls, js_urls, function() {\n      console.debug(\"Bokeh: BokehJS plotting callback run at\", now());\n      run_inline_js();\n    });\n  }\n}(window));",
      "application/vnd.bokehjs_load.v0+json": ""
     },
     "metadata": {},
     "output_type": "display_data"
    }
   ],
   "source": [
    "output_notebook()"
   ]
  },
  {
   "cell_type": "code",
   "execution_count": 38,
   "metadata": {},
   "outputs": [
    {
     "data": {
      "text/html": [
       "\n",
       "\n",
       "\n",
       "\n",
       "\n",
       "\n",
       "  <div class=\"bk-root\" id=\"ca0fd169-badc-4b61-824c-59a5ea1b366d\" data-root-id=\"1748\"></div>\n"
      ]
     },
     "metadata": {},
     "output_type": "display_data"
    },
    {
     "data": {
      "application/javascript": "(function(root) {\n  function embed_document(root) {\n    \n  const docs_json = {\"1acc9648-628f-4887-9f07-81a6157a1a1d\":{\"defs\":[],\"roots\":{\"references\":[{\"attributes\":{\"below\":[{\"id\":\"1759\"}],\"center\":[{\"id\":\"1762\"},{\"id\":\"1766\"},{\"id\":\"1796\"}],\"height\":400,\"left\":[{\"id\":\"1763\"}],\"renderers\":[{\"id\":\"1773\"},{\"id\":\"1802\"},{\"id\":\"1832\"},{\"id\":\"1864\"},{\"id\":\"1898\"}],\"sizing_mode\":\"stretch_width\",\"title\":{\"id\":\"1749\"},\"toolbar\":{\"id\":\"1767\"},\"x_range\":{\"id\":\"1751\"},\"x_scale\":{\"id\":\"1755\"},\"y_range\":{\"id\":\"1753\"},\"y_scale\":{\"id\":\"1757\"}},\"id\":\"1748\",\"subtype\":\"Figure\",\"type\":\"Plot\"},{\"attributes\":{},\"id\":\"1915\",\"type\":\"UnionRenderers\"},{\"attributes\":{\"days\":[1,8,15,22]},\"id\":\"1789\",\"type\":\"DaysTicker\"},{\"attributes\":{\"axis\":{\"id\":\"1759\"},\"coordinates\":null,\"group\":null,\"ticker\":null},\"id\":\"1762\",\"type\":\"Grid\"},{\"attributes\":{\"line_alpha\":0.1,\"line_color\":\"#F05223\",\"line_width\":2,\"x\":{\"field\":\"x\"},\"y\":{\"field\":\"y\"}},\"id\":\"1800\",\"type\":\"Line\"},{\"attributes\":{},\"id\":\"1764\",\"type\":\"BasicTicker\"},{\"attributes\":{\"line_alpha\":0.2,\"line_color\":\"#F6A91B\",\"line_width\":2,\"x\":{\"field\":\"x\"},\"y\":{\"field\":\"y\"}},\"id\":\"1831\",\"type\":\"Line\"},{\"attributes\":{\"label\":{\"value\":\"kourtney\"},\"renderers\":[{\"id\":\"1832\"}]},\"id\":\"1859\",\"type\":\"LegendItem\"},{\"attributes\":{\"days\":[1,2,3,4,5,6,7,8,9,10,11,12,13,14,15,16,17,18,19,20,21,22,23,24,25,26,27,28,29,30,31]},\"id\":\"1787\",\"type\":\"DaysTicker\"},{\"attributes\":{},\"id\":\"1753\",\"type\":\"DataRange1d\"},{\"attributes\":{\"line_alpha\":0.8,\"line_color\":\"#20B254\",\"line_width\":2,\"x\":{\"field\":\"x\"},\"y\":{\"field\":\"y\"}},\"id\":\"1895\",\"type\":\"Line\"},{\"attributes\":{},\"id\":\"1795\",\"type\":\"YearsTicker\"},{\"attributes\":{\"line_alpha\":0.1,\"line_color\":\"#20B254\",\"line_width\":2,\"x\":{\"field\":\"x\"},\"y\":{\"field\":\"y\"}},\"id\":\"1896\",\"type\":\"Line\"},{\"attributes\":{\"coordinates\":null,\"group\":null,\"text\":\"Google trends for the Kardashian/Jenner family\"},\"id\":\"1749\",\"type\":\"Title\"},{\"attributes\":{\"line_alpha\":0.1,\"line_color\":\"#F6A91B\",\"line_width\":2,\"x\":{\"field\":\"x\"},\"y\":{\"field\":\"y\"}},\"id\":\"1830\",\"type\":\"Line\"},{\"attributes\":{\"months\":[0,6]},\"id\":\"1794\",\"type\":\"MonthsTicker\"},{\"attributes\":{\"months\":[0,2,4,6,8,10]},\"id\":\"1792\",\"type\":\"MonthsTicker\"},{\"attributes\":{},\"id\":\"1846\",\"type\":\"Selection\"},{\"attributes\":{},\"id\":\"1916\",\"type\":\"Selection\"},{\"attributes\":{\"source\":{\"id\":\"1894\"}},\"id\":\"1899\",\"type\":\"CDSView\"},{\"attributes\":{\"axis\":{\"id\":\"1763\"},\"coordinates\":null,\"dimension\":1,\"group\":null,\"ticker\":null},\"id\":\"1766\",\"type\":\"Grid\"},{\"attributes\":{\"line_alpha\":0.2,\"line_color\":\"#EC1557\",\"line_width\":2,\"x\":{\"field\":\"x\"},\"y\":{\"field\":\"y\"}},\"id\":\"1772\",\"type\":\"Line\"},{\"attributes\":{\"label\":{\"value\":\"kylie\"},\"renderers\":[{\"id\":\"1898\"}]},\"id\":\"1929\",\"type\":\"LegendItem\"},{\"attributes\":{\"base\":60,\"mantissas\":[1,2,5,10,15,20,30],\"max_interval\":1800000.0,\"min_interval\":1000.0,\"num_minor_ticks\":0},\"id\":\"1785\",\"type\":\"AdaptiveTicker\"},{\"attributes\":{\"num_minor_ticks\":5,\"tickers\":[{\"id\":\"1784\"},{\"id\":\"1785\"},{\"id\":\"1786\"},{\"id\":\"1787\"},{\"id\":\"1788\"},{\"id\":\"1789\"},{\"id\":\"1790\"},{\"id\":\"1791\"},{\"id\":\"1792\"},{\"id\":\"1793\"},{\"id\":\"1794\"},{\"id\":\"1795\"}]},\"id\":\"1760\",\"type\":\"DatetimeTicker\"},{\"attributes\":{\"coordinates\":null,\"formatter\":{\"id\":\"1780\"},\"group\":null,\"major_label_policy\":{\"id\":\"1781\"},\"ticker\":{\"id\":\"1760\"}},\"id\":\"1759\",\"type\":\"DatetimeAxis\"},{\"attributes\":{\"line_alpha\":0.2,\"line_color\":\"#20B254\",\"line_width\":2,\"x\":{\"field\":\"x\"},\"y\":{\"field\":\"y\"}},\"id\":\"1897\",\"type\":\"Line\"},{\"attributes\":{\"line_alpha\":0.8,\"line_color\":\"#A5CD39\",\"line_width\":2,\"x\":{\"field\":\"x\"},\"y\":{\"field\":\"y\"}},\"id\":\"1861\",\"type\":\"Line\"},{\"attributes\":{\"line_alpha\":0.2,\"line_color\":\"#A5CD39\",\"line_width\":2,\"x\":{\"field\":\"x\"},\"y\":{\"field\":\"y\"}},\"id\":\"1863\",\"type\":\"Line\"},{\"attributes\":{\"base\":24,\"mantissas\":[1,2,4,6,8,12],\"max_interval\":43200000.0,\"min_interval\":3600000.0,\"num_minor_ticks\":0},\"id\":\"1786\",\"type\":\"AdaptiveTicker\"},{\"attributes\":{\"coordinates\":null,\"data_source\":{\"id\":\"1798\"},\"glyph\":{\"id\":\"1799\"},\"group\":null,\"hover_glyph\":null,\"muted_glyph\":{\"id\":\"1801\"},\"nonselection_glyph\":{\"id\":\"1800\"},\"view\":{\"id\":\"1803\"}},\"id\":\"1802\",\"type\":\"GlyphRenderer\"},{\"attributes\":{},\"id\":\"1783\",\"type\":\"Selection\"},{\"attributes\":{},\"id\":\"1781\",\"type\":\"AllLabels\"},{\"attributes\":{\"coordinates\":null,\"data_source\":{\"id\":\"1828\"},\"glyph\":{\"id\":\"1829\"},\"group\":null,\"hover_glyph\":null,\"muted_glyph\":{\"id\":\"1831\"},\"nonselection_glyph\":{\"id\":\"1830\"},\"view\":{\"id\":\"1833\"}},\"id\":\"1832\",\"type\":\"GlyphRenderer\"},{\"attributes\":{},\"id\":\"1757\",\"type\":\"LinearScale\"},{\"attributes\":{\"source\":{\"id\":\"1798\"}},\"id\":\"1803\",\"type\":\"CDSView\"},{\"attributes\":{\"coordinates\":null,\"data_source\":{\"id\":\"1894\"},\"glyph\":{\"id\":\"1895\"},\"group\":null,\"hover_glyph\":null,\"muted_glyph\":{\"id\":\"1897\"},\"nonselection_glyph\":{\"id\":\"1896\"},\"view\":{\"id\":\"1899\"}},\"id\":\"1898\",\"type\":\"GlyphRenderer\"},{\"attributes\":{\"coordinates\":null,\"data_source\":{\"id\":\"1769\"},\"glyph\":{\"id\":\"1770\"},\"group\":null,\"hover_glyph\":null,\"muted_glyph\":{\"id\":\"1772\"},\"nonselection_glyph\":{\"id\":\"1771\"},\"view\":{\"id\":\"1774\"}},\"id\":\"1773\",\"type\":\"GlyphRenderer\"},{\"attributes\":{},\"id\":\"1755\",\"type\":\"LinearScale\"},{\"attributes\":{\"line_alpha\":0.8,\"line_color\":\"#F6A91B\",\"line_width\":2,\"x\":{\"field\":\"x\"},\"y\":{\"field\":\"y\"}},\"id\":\"1829\",\"type\":\"Line\"},{\"attributes\":{},\"id\":\"1813\",\"type\":\"UnionRenderers\"},{\"attributes\":{\"months\":[0,4,8]},\"id\":\"1793\",\"type\":\"MonthsTicker\"},{\"attributes\":{\"coordinates\":null,\"data_source\":{\"id\":\"1860\"},\"glyph\":{\"id\":\"1861\"},\"group\":null,\"hover_glyph\":null,\"muted_glyph\":{\"id\":\"1863\"},\"nonselection_glyph\":{\"id\":\"1862\"},\"view\":{\"id\":\"1865\"}},\"id\":\"1864\",\"type\":\"GlyphRenderer\"},{\"attributes\":{},\"id\":\"1780\",\"type\":\"DatetimeTickFormatter\"},{\"attributes\":{},\"id\":\"1778\",\"type\":\"AllLabels\"},{\"attributes\":{\"days\":[1,4,7,10,13,16,19,22,25,28]},\"id\":\"1788\",\"type\":\"DaysTicker\"},{\"attributes\":{\"line_alpha\":0.1,\"line_color\":\"#EC1557\",\"line_width\":2,\"x\":{\"field\":\"x\"},\"y\":{\"field\":\"y\"}},\"id\":\"1771\",\"type\":\"Line\"},{\"attributes\":{\"data\":{\"x\":{\"__ndarray__\":\"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\",\"dtype\":\"float64\",\"order\":\"little\",\"shape\":[193]},\"y\":[1,1,1,1,1,1,1,1,1,1,1,1,1,1,1,1,1,1,1,1,1,1,1,1,1,1,1,1,1,1,1,2,6,4,3,4,2,2,2,2,2,4,3,4,2,2,2,3,3,2,2,4,4,5,3,3,3,3,3,4,6,4,4,5,5,3,3,3,3,4,5,3,4,3,3,4,3,4,5,8,7,6,5,7,6,5,6,4,5,6,6,5,4,4,7,6,5,7,5,5,5,5,7,6,5,13,8,8,8,8,6,5,5,7,6,4,5,5,5,4,4,4,4,3,3,5,3,3,6,6,5,6,6,5,5,24,7,5,4,4,3,3,4,3,3,9,7,3,3,4,3,2,2,2,2,2,2,2,2,3,5,3,3,2,3,2,2,2,2,2,3,10,3,3,2,2,2,2,2,3,4,3,2,3,3,4,4,2,4,3,3,2,2]},\"selected\":{\"id\":\"1814\"},\"selection_policy\":{\"id\":\"1813\"}},\"id\":\"1798\",\"type\":\"ColumnDataSource\"},{\"attributes\":{},\"id\":\"1782\",\"type\":\"UnionRenderers\"},{\"attributes\":{\"line_alpha\":0.2,\"line_color\":\"#F05223\",\"line_width\":2,\"x\":{\"field\":\"x\"},\"y\":{\"field\":\"y\"}},\"id\":\"1801\",\"type\":\"Line\"},{\"attributes\":{\"axis_label\":\"Google Trends Score\",\"coordinates\":null,\"formatter\":{\"id\":\"1777\"},\"group\":null,\"major_label_policy\":{\"id\":\"1778\"},\"ticker\":{\"id\":\"1764\"}},\"id\":\"1763\",\"type\":\"LinearAxis\"},{\"attributes\":{\"tools\":[{\"id\":\"1747\"}]},\"id\":\"1767\",\"type\":\"Toolbar\"},{\"attributes\":{\"callback\":null,\"tooltips\":\"Score:@y\"},\"id\":\"1747\",\"type\":\"HoverTool\"},{\"attributes\":{\"months\":[0,1,2,3,4,5,6,7,8,9,10,11]},\"id\":\"1791\",\"type\":\"MonthsTicker\"},{\"attributes\":{},\"id\":\"1777\",\"type\":\"BasicTickFormatter\"},{\"attributes\":{},\"id\":\"1880\",\"type\":\"Selection\"},{\"attributes\":{},\"id\":\"1845\",\"type\":\"UnionRenderers\"},{\"attributes\":{\"source\":{\"id\":\"1860\"}},\"id\":\"1865\",\"type\":\"CDSView\"},{\"attributes\":{\"line_alpha\":0.8,\"line_color\":\"#F05223\",\"line_width\":2,\"x\":{\"field\":\"x\"},\"y\":{\"field\":\"y\"}},\"id\":\"1799\",\"type\":\"Line\"},{\"attributes\":{},\"id\":\"1814\",\"type\":\"Selection\"},{\"attributes\":{\"mantissas\":[1,2,5],\"max_interval\":500.0,\"num_minor_ticks\":0},\"id\":\"1784\",\"type\":\"AdaptiveTicker\"},{\"attributes\":{\"line_alpha\":0.1,\"line_color\":\"#A5CD39\",\"line_width\":2,\"x\":{\"field\":\"x\"},\"y\":{\"field\":\"y\"}},\"id\":\"1862\",\"type\":\"Line\"},{\"attributes\":{\"days\":[1,15]},\"id\":\"1790\",\"type\":\"DaysTicker\"},{\"attributes\":{\"data\":{\"x\":{\"__ndarray__\":\"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\",\"dtype\":\"float64\",\"order\":\"little\",\"shape\":[193]},\"y\":[3,13,9,6,6,5,7,6,7,15,19,17,13,10,14,16,15,14,13,16,14,14,12,13,13,11,14,16,15,13,15,17,14,13,13,16,18,19,18,26,20,21,22,25,26,27,21,25,26,36,22,18,23,25,22,48,28,36,52,30,28,25,25,29,26,31,27,28,26,23,23,29,36,30,32,35,31,64,30,27,21,34,28,27,25,22,24,24,37,31,34,35,44,28,100,38,32,40,35,31,32,35,31,33,27,26,23,37,25,27,45,25,24,23,28,25,25,43,20,21,20,16,14,20,16,16,17,14,17,18,21,15,23,21,15,18,17,16,15,17,13,16,15,13,13,12,11,13,17,12,10,10,11,11,11,11,10,9,10,12,10,11,16,9,9,11,8,9,17,12,10,10,9,11,8,9,14,10,15,12,12,13,12,14,18,13,10,13,10,10,9,8,8]},\"selected\":{\"id\":\"1783\"},\"selection_policy\":{\"id\":\"1782\"}},\"id\":\"1769\",\"type\":\"ColumnDataSource\"},{\"attributes\":{\"label\":{\"value\":\"khloe\"},\"renderers\":[{\"id\":\"1802\"}]},\"id\":\"1827\",\"type\":\"LegendItem\"},{\"attributes\":{},\"id\":\"1879\",\"type\":\"UnionRenderers\"},{\"attributes\":{\"data\":{\"x\":{\"__ndarray__\":\"AACASa/9cEIAAMCbqQdxQgAAwLysEHFCAAAAD6cacUIAAID7TiRxQgAAwE1JLnFCAABAOvE3cUIAAICM60FxQgAAwN7lS3FCAABAy41VcUIAAIAdiF9xQgAAAAowaXFCAABAXCpzcUIAAICuJH1xQgAAQDV6hnFCAACAh3SQcUIAAAB0HJpxQgAAQMYWpHFCAADAsr6tcUIAAAAFubdxQgAAQFezwXFCAADAQ1vLcUIAAACWVdVxQgAAgIL93nFCAADA1PfocUIAAAAn8vJxQgAAAEj1+3FCAABAmu8FckIAAMCGlw9yQgAAANmRGXJCAACAxTkjckIAAMAXNC1yQgAAAGouN3JCAACAVtZAckIAAMCo0EpyQgAAQJV4VHJCAACA53JeckIAAMA5bWhyQgAAwFpwcXJCAAAArWp7ckIAAICZEoVyQgAAwOsMj3JCAABA2LSYckIAAIAqr6JyQgAAwHyprHJCAABAaVG2ckIAAIC7S8ByQgAAAKjzyXJCAABA+u3TckIAAIBM6N1yQgAAgG3r5nJCAADAv+XwckIAAECsjfpyQgAAgP6HBHNCAAAA6y8Oc0IAAEA9KhhzQgAAgI8kInNCAAAAfMwrc0IAAEDOxjVzQgAAwLpuP3NCAAAADWlJc0IAAEBfY1NzQgAAAOa4XHNCAABAOLNmc0IAAMAkW3BzQgAAAHdVenNCAACAY/2Dc0IAAMC1941zQgAAAAjyl3NCAACA9Jmhc0IAAMBGlKtzQgAAQDM8tXNCAACAhTa/c0IAAMDXMMlzQgAAwPgz0nNCAAAASy7cc0IAAIA31uVzQgAAwInQ73NCAABAdnj5c0IAAIDIcgN0QgAAwBptDXRCAABABxUXdEIAAIBZDyF0QgAAAEa3KnRCAABAmLE0dEIAAIDqqz50QgAAgAuvR3RCAADAXalRdEIAAEBKUVt0QgAAgJxLZXRCAAAAifNudEIAAEDb7Xh0QgAAgC3ognRCAAAAGpCMdEIAAEBsipZ0QgAAwFgyoHRCAAAAqyyqdEIAAED9JrR0QgAAQB4qvXRCAACAcCTHdEIAAABdzNB0QgAAQK/G2nRCAADAm27kdEIAAADuaO50QgAAQEBj+HRCAADALAsCdUIAAAB/BQx1QgAAgGutFXVCAADAvacfdUIAAAAQoil1QgAAwJb3MnVCAAAA6fE8dUIAAIDVmUZ1QgAAwCeUUHVCAABAFDxadUIAAIBmNmR1QgAAwLgwbnVCAABApdh3dUIAAID30oF1QgAAAOR6i3VCAABANnWVdUIAAICIb591QgAAgKlyqHVCAADA+2yydUIAAEDoFLx1QgAAgDoPxnVCAAAAJ7fPdUIAAEB5sdl1QgAAgMur43VCAAAAuFPtdUIAAEAKTvd1QgAAwPb1AHZCAAAASfAKdkIAAECb6hR2QgAAQLztHXZCAACADugndkIAAAD7jzF2QgAAQE2KO3ZCAADAOTJFdkIAAACMLE92QgAAQN4mWXZCAADAys5idkIAAAAdyWx2QgAAgAlxdnZCAADAW2uAdkIAAACuZYp2QgAAAM9ok3ZCAABAIWOddkIAAMANC6d2QgAAAGAFsXZCAACATK26dkIAAMCep8R2QgAAAPGhznZCAACA3UnYdkIAAMAvROJ2QgAAQBzs63ZCAACAbub1dkIAAMDA4P92QgAAgEc2CXdCAADAmTATd0IAAECG2Bx3QgAAgNjSJndCAAAAxXowd0IAAEAXdTp3QgAAgGlvRHdCAAAAVhdOd0IAAECoEVh3QgAAwJS5YXdCAAAA57Nrd0IAAEA5rnV3QgAAQFqxfndCAACArKuId0IAAACZU5J3QgAAQOtNnHdCAADA1/Wld0IAAAAq8K93QgAAQHzquXdCAADAaJLDd0IAAAC7jM13QgAAgKc013dCAADA+S7hd0IAAABMKet3QgAAAG0s9HdCAABAvyb+d0IAAMCrzgd4QgAAAP7IEXhCAACA6nAbeEIAAMA8ayV4QgAAAI9lL3hCAACAew05eEIAAMDNB0N4QgAAQLqvTHhCAACADKpWeEI=\",\"dtype\":\"float64\",\"order\":\"little\",\"shape\":[193]},\"y\":[1,1,1,1,1,1,1,1,1,1,1,1,1,1,1,1,1,1,1,1,1,1,1,1,1,1,1,1,1,1,1,4,3,2,1,4,2,3,2,2,1,2,3,4,2,2,2,2,3,3,2,2,2,3,2,3,2,2,3,5,4,3,3,3,3,4,7,4,4,3,3,2,4,3,3,4,2,3,3,4,2,2,2,2,2,2,2,2,2,5,4,3,3,2,4,8,4,3,3,3,3,3,9,4,3,5,4,8,5,4,4,4,4,3,4,3,3,3,3,3,3,2,2,3,4,2,2,2,2,3,3,3,3,3,3,3,2,2,3,5,3,2,2,2,2,2,2,3,2,2,2,1,2,1,1,2,1,1,2,3,2,3,2,2,2,2,1,1,2,2,2,4,2,2,2,2,3,5,2,2,2,2,2,4,7,3,2,2,2,2,1,1,1]},\"selected\":{\"id\":\"1846\"},\"selection_policy\":{\"id\":\"1845\"}},\"id\":\"1828\",\"type\":\"ColumnDataSource\"},{\"attributes\":{\"line_alpha\":0.8,\"line_color\":\"#EC1557\",\"line_width\":2,\"x\":{\"field\":\"x\"},\"y\":{\"field\":\"y\"}},\"id\":\"1770\",\"type\":\"Line\"},{\"attributes\":{\"data\":{\"x\":{\"__ndarray__\":\"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\",\"dtype\":\"float64\",\"order\":\"little\",\"shape\":[193]},\"y\":[1,1,1,1,1,1,1,1,1,1,1,1,1,1,1,1,1,1,1,1,1,1,1,1,1,1,1,1,1,1,1,1,1,1,1,1,1,1,1,1,1,1,1,1,1,1,1,1,1,1,1,1,1,1,1,1,1,1,1,1,1,1,1,1,1,2,2,2,2,1,1,1,2,2,2,2,2,2,3,4,2,3,3,2,3,3,3,4,5,5,5,6,5,6,8,7,10,12,10,27,16,14,17,26,19,14,19,19,15,16,15,19,20,17,19,20,15,15,16,18,14,12,10,12,11,12,12,14,32,15,13,14,18,37,11,10,12,7,16,13,8,8,8,9,10,13,13,7,8,9,9,9,10,15,9,8,8,7,7,10,11,9,8,9,7,7,7,7,7,6,6,6,6,6,6,10,9,6,8,6,6,8,6,7,7,6,5,6,5,6,5,4,5]},\"selected\":{\"id\":\"1916\"},\"selection_policy\":{\"id\":\"1915\"}},\"id\":\"1894\",\"type\":\"ColumnDataSource\"},{\"attributes\":{},\"id\":\"1751\",\"type\":\"DataRange1d\"},{\"attributes\":{\"coordinates\":null,\"group\":null,\"items\":[{\"id\":\"1797\"},{\"id\":\"1827\"},{\"id\":\"1859\"},{\"id\":\"1893\"},{\"id\":\"1929\"}]},\"id\":\"1796\",\"type\":\"Legend\"},{\"attributes\":{\"label\":{\"value\":\"kim\"},\"renderers\":[{\"id\":\"1773\"}]},\"id\":\"1797\",\"type\":\"LegendItem\"},{\"attributes\":{\"source\":{\"id\":\"1769\"}},\"id\":\"1774\",\"type\":\"CDSView\"},{\"attributes\":{\"label\":{\"value\":\"kendall\"},\"renderers\":[{\"id\":\"1864\"}]},\"id\":\"1893\",\"type\":\"LegendItem\"},{\"attributes\":{\"source\":{\"id\":\"1828\"}},\"id\":\"1833\",\"type\":\"CDSView\"},{\"attributes\":{\"data\":{\"x\":{\"__ndarray__\":\"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\",\"dtype\":\"float64\",\"order\":\"little\",\"shape\":[193]},\"y\":[1,1,1,1,1,1,1,1,1,1,1,1,1,1,1,1,1,1,1,1,1,1,1,1,1,1,1,1,1,1,1,1,1,1,1,1,1,1,1,1,1,1,1,2,1,1,1,1,1,1,1,1,1,1,1,3,2,1,2,2,2,2,2,2,2,2,3,3,2,2,2,2,2,2,2,3,3,3,3,3,2,3,8,6,6,7,4,4,6,6,5,6,6,4,6,6,6,7,6,10,9,8,9,9,7,7,11,9,12,8,8,8,7,7,7,7,6,5,8,6,5,4,4,10,6,4,4,4,5,6,4,4,4,5,5,4,6,4,4,4,6,3,4,4,4,5,3,3,4,3,3,2,3,3,3,5,3,3,3,4,4,5,3,4,3,3,3,3,3,5,4,4,4,4,4,3,4,3,4,3,4,4,3,4,5,4,3,3,3,3,3,2,2]},\"selected\":{\"id\":\"1880\"},\"selection_policy\":{\"id\":\"1879\"}},\"id\":\"1860\",\"type\":\"ColumnDataSource\"}],\"root_ids\":[\"1748\"]},\"title\":\"Bokeh Application\",\"version\":\"2.4.2\"}};\n  const render_items = [{\"docid\":\"1acc9648-628f-4887-9f07-81a6157a1a1d\",\"root_ids\":[\"1748\"],\"roots\":{\"1748\":\"ca0fd169-badc-4b61-824c-59a5ea1b366d\"}}];\n  root.Bokeh.embed.embed_items_notebook(docs_json, render_items);\n\n  }\n  if (root.Bokeh !== undefined) {\n    embed_document(root);\n  } else {\n    let attempts = 0;\n    const timer = setInterval(function(root) {\n      if (root.Bokeh !== undefined) {\n        clearInterval(timer);\n        embed_document(root);\n      } else {\n        attempts++;\n        if (attempts > 100) {\n          clearInterval(timer);\n          console.log(\"Bokeh: ERROR: Unable to run BokehJS code because BokehJS library is missing\");\n        }\n      }\n    }, 10, root)\n  }\n})(window);",
      "application/vnd.bokehjs_exec.v0+json": ""
     },
     "metadata": {
      "application/vnd.bokehjs_exec.v0+json": {
       "id": "1748"
      }
     },
     "output_type": "display_data"
    }
   ],
   "source": [
    "# Figure params\n",
    "p = figure(title=\"Google trends for the Kardashian/Jenner family\", \n",
    "            y_axis_label = 'Google Trends Score',\n",
    "            sizing_mode=\"stretch_width\",\n",
    "            height=400, \n",
    "            x_axis_type=\"datetime\",\n",
    "            tools=[HoverTool()], \n",
    "            tooltips=\"Score:@y\"\n",
    "            )\n",
    "\n",
    "# Plot a line for each sister\n",
    "for sister, color in zip([\"kim\", \"khloe\", \"kourtney\", \"kendall\", \"kylie\"], Bokeh[5]):\n",
    "    p.line(trends.index, trends[sister], line_width=2, color=color, alpha=0.8, legend_label=sister)\n",
    "    \n",
    "show(p)"
   ]
  },
  {
   "attachments": {},
   "cell_type": "markdown",
   "metadata": {},
   "source": [
    "It can be seen that overall the sister who attracts the most research remains Kim Kardashian.She experienced a huge spike in popularity in June 2014 which corresponds to the release of her mobile game, \"Kim Kardashian: Hollywood.\"    \n",
    "\n",
    "We also see that Kim is not the most famous sister at all times. Kylie Jenner, her younger sister, surpasses her at times, as in 2017. This year searches for \"Kylie Jenner\" were relatively consistent throughout the year, with a slight increase in November, when the couple welcomed their daughter, Stormi Webster. Additionally, Kylie Cosmetics became one of the most popular makeup brand in the world and Kylie was featured in many magazines, events and fashion shows.   \n",
    "\n",
    "Same in 2018, Kylie was the most searched sister. In February 2018 when she gave birth to her daughter, Stormi Webster. The continued success of Kylie Cosmetics has kept her in the news, not to mention making her the \"The Youngest Self-Made Billionaire Ever\" <a href=\"https://www.forbes.com/sites/natalierobehmed/2019/03/05/at-21-kylie-jenner-becomes-the-youngest-self-made-billionaire-ever/#57e612c02794\">according to Forbes</a>.</p>"
   ]
  },
  {
   "attachments": {},
   "cell_type": "markdown",
   "metadata": {},
   "source": [
    "To better observe our data we can smooth the curves by resampling the frequencies. Thus we downsample from a monthly to a yearly visualization. "
   ]
  },
  {
   "cell_type": "code",
   "execution_count": 39,
   "metadata": {},
   "outputs": [
    {
     "data": {
      "text/html": [
       "\n",
       "\n",
       "\n",
       "\n",
       "\n",
       "\n",
       "  <div class=\"bk-root\" id=\"73cc0ad8-19d1-4aaa-80f3-bcbe901fd85c\" data-root-id=\"2163\"></div>\n"
      ]
     },
     "metadata": {},
     "output_type": "display_data"
    },
    {
     "data": {
      "application/javascript": "(function(root) {\n  function embed_document(root) {\n    \n  const docs_json = {\"3c011a41-7ec5-4d4e-ba29-de8bd1eeb9b4\":{\"defs\":[],\"roots\":{\"references\":[{\"attributes\":{\"below\":[{\"id\":\"2174\"}],\"center\":[{\"id\":\"2177\"},{\"id\":\"2181\"},{\"id\":\"2211\"}],\"height\":400,\"left\":[{\"id\":\"2178\"}],\"renderers\":[{\"id\":\"2188\"},{\"id\":\"2217\"},{\"id\":\"2247\"},{\"id\":\"2279\"},{\"id\":\"2313\"}],\"sizing_mode\":\"stretch_width\",\"title\":{\"id\":\"2164\"},\"toolbar\":{\"id\":\"2182\"},\"x_range\":{\"id\":\"2166\"},\"x_scale\":{\"id\":\"2170\"},\"y_range\":{\"id\":\"2168\"},\"y_scale\":{\"id\":\"2172\"}},\"id\":\"2163\",\"subtype\":\"Figure\",\"type\":\"Plot\"},{\"attributes\":{\"axis\":{\"id\":\"2174\"},\"coordinates\":null,\"group\":null,\"ticker\":null},\"id\":\"2177\",\"type\":\"Grid\"},{\"attributes\":{\"line_alpha\":0.8,\"line_color\":\"#A5CD39\",\"line_width\":2,\"x\":{\"field\":\"x\"},\"y\":{\"field\":\"y\"}},\"id\":\"2276\",\"type\":\"Line\"},{\"attributes\":{\"coordinates\":null,\"data_source\":{\"id\":\"2184\"},\"glyph\":{\"id\":\"2185\"},\"group\":null,\"hover_glyph\":null,\"muted_glyph\":{\"id\":\"2187\"},\"nonselection_glyph\":{\"id\":\"2186\"},\"view\":{\"id\":\"2189\"}},\"id\":\"2188\",\"type\":\"GlyphRenderer\"},{\"attributes\":{},\"id\":\"2170\",\"type\":\"LinearScale\"},{\"attributes\":{\"base\":60,\"mantissas\":[1,2,5,10,15,20,30],\"max_interval\":1800000.0,\"min_interval\":1000.0,\"num_minor_ticks\":0},\"id\":\"2200\",\"type\":\"AdaptiveTicker\"},{\"attributes\":{},\"id\":\"2192\",\"type\":\"BasicTickFormatter\"},{\"attributes\":{\"tools\":[{\"id\":\"2162\"}]},\"id\":\"2182\",\"type\":\"Toolbar\"},{\"attributes\":{\"source\":{\"id\":\"2184\"}},\"id\":\"2189\",\"type\":\"CDSView\"},{\"attributes\":{\"source\":{\"id\":\"2243\"}},\"id\":\"2248\",\"type\":\"CDSView\"},{\"attributes\":{\"label\":{\"value\":\"kendall\"},\"renderers\":[{\"id\":\"2279\"}]},\"id\":\"2308\",\"type\":\"LegendItem\"},{\"attributes\":{\"line_alpha\":0.8,\"line_color\":\"#20B254\",\"line_width\":2,\"x\":{\"field\":\"x\"},\"y\":{\"field\":\"y\"}},\"id\":\"2310\",\"type\":\"Line\"},{\"attributes\":{\"data\":{\"x\":{\"__ndarray__\":\"AACA9tdycUIAAABvpehxQgAAwIEgXnJCAACAlJvTckIAAECnFklzQgAAwB/kvnNCAACAMl80dEIAAEBF2ql0QgAAAFhVH3VCAACA0CKVdUIAAEDjnQp2QgAAAPYYgHZCAADACJT1dkIAAECBYWt3QgAAAJTc4HdCAADApldWeEIAAIC50st4Qg==\",\"dtype\":\"float64\",\"order\":\"little\",\"shape\":[17]},\"y\":[12,12,12,12,12,16,29,60,203,205,171,157,120,97,82,71,5]},\"selected\":{\"id\":\"2331\"},\"selection_policy\":{\"id\":\"2330\"}},\"id\":\"2309\",\"type\":\"ColumnDataSource\"},{\"attributes\":{\"source\":{\"id\":\"2213\"}},\"id\":\"2218\",\"type\":\"CDSView\"},{\"attributes\":{\"line_alpha\":0.1,\"line_color\":\"#20B254\",\"line_width\":2,\"x\":{\"field\":\"x\"},\"y\":{\"field\":\"y\"}},\"id\":\"2311\",\"type\":\"Line\"},{\"attributes\":{\"label\":{\"value\":\"kim\"},\"renderers\":[{\"id\":\"2188\"}]},\"id\":\"2212\",\"type\":\"LegendItem\"},{\"attributes\":{\"coordinates\":null,\"data_source\":{\"id\":\"2213\"},\"glyph\":{\"id\":\"2214\"},\"group\":null,\"hover_glyph\":null,\"muted_glyph\":{\"id\":\"2216\"},\"nonselection_glyph\":{\"id\":\"2215\"},\"view\":{\"id\":\"2218\"}},\"id\":\"2217\",\"type\":\"GlyphRenderer\"},{\"attributes\":{\"days\":[1,2,3,4,5,6,7,8,9,10,11,12,13,14,15,16,17,18,19,20,21,22,23,24,25,26,27,28,29,30,31]},\"id\":\"2202\",\"type\":\"DaysTicker\"},{\"attributes\":{\"data\":{\"x\":{\"__ndarray__\":\"AACA9tdycUIAAABvpehxQgAAwIEgXnJCAACAlJvTckIAAECnFklzQgAAwB/kvnNCAACAMl80dEIAAEBF2ql0QgAAAFhVH3VCAACA0CKVdUIAAEDjnQp2QgAAAPYYgHZCAADACJT1dkIAAECBYWt3QgAAAJTc4HdCAADApldWeEIAAIC50st4Qg==\",\"dtype\":\"float64\",\"order\":\"little\",\"shape\":[17]},\"y\":[12,12,12,13,17,26,40,66,98,89,60,53,41,41,45,41,2]},\"selected\":{\"id\":\"2295\"},\"selection_policy\":{\"id\":\"2294\"}},\"id\":\"2275\",\"type\":\"ColumnDataSource\"},{\"attributes\":{\"line_alpha\":0.1,\"line_color\":\"#F6A91B\",\"line_width\":2,\"x\":{\"field\":\"x\"},\"y\":{\"field\":\"y\"}},\"id\":\"2245\",\"type\":\"Line\"},{\"attributes\":{\"days\":[1,4,7,10,13,16,19,22,25,28]},\"id\":\"2203\",\"type\":\"DaysTicker\"},{\"attributes\":{\"coordinates\":null,\"formatter\":{\"id\":\"2195\"},\"group\":null,\"major_label_policy\":{\"id\":\"2196\"},\"ticker\":{\"id\":\"2175\"}},\"id\":\"2174\",\"type\":\"DatetimeAxis\"},{\"attributes\":{},\"id\":\"2228\",\"type\":\"UnionRenderers\"},{\"attributes\":{\"line_alpha\":0.8,\"line_color\":\"#EC1557\",\"line_width\":2,\"x\":{\"field\":\"x\"},\"y\":{\"field\":\"y\"}},\"id\":\"2185\",\"type\":\"Line\"},{\"attributes\":{},\"id\":\"2196\",\"type\":\"AllLabels\"},{\"attributes\":{\"mantissas\":[1,2,5],\"max_interval\":500.0,\"num_minor_ticks\":0},\"id\":\"2199\",\"type\":\"AdaptiveTicker\"},{\"attributes\":{\"source\":{\"id\":\"2275\"}},\"id\":\"2280\",\"type\":\"CDSView\"},{\"attributes\":{},\"id\":\"2166\",\"type\":\"DataRange1d\"},{\"attributes\":{\"line_alpha\":0.1,\"line_color\":\"#F05223\",\"line_width\":2,\"x\":{\"field\":\"x\"},\"y\":{\"field\":\"y\"}},\"id\":\"2215\",\"type\":\"Line\"},{\"attributes\":{\"coordinates\":null,\"data_source\":{\"id\":\"2243\"},\"glyph\":{\"id\":\"2244\"},\"group\":null,\"hover_glyph\":null,\"muted_glyph\":{\"id\":\"2246\"},\"nonselection_glyph\":{\"id\":\"2245\"},\"view\":{\"id\":\"2248\"}},\"id\":\"2247\",\"type\":\"GlyphRenderer\"},{\"attributes\":{\"line_alpha\":0.1,\"line_color\":\"#A5CD39\",\"line_width\":2,\"x\":{\"field\":\"x\"},\"y\":{\"field\":\"y\"}},\"id\":\"2277\",\"type\":\"Line\"},{\"attributes\":{\"source\":{\"id\":\"2309\"}},\"id\":\"2314\",\"type\":\"CDSView\"},{\"attributes\":{},\"id\":\"2193\",\"type\":\"AllLabels\"},{\"attributes\":{},\"id\":\"2294\",\"type\":\"UnionRenderers\"},{\"attributes\":{},\"id\":\"2295\",\"type\":\"Selection\"},{\"attributes\":{\"label\":{\"value\":\"kourtney\"},\"renderers\":[{\"id\":\"2247\"}]},\"id\":\"2274\",\"type\":\"LegendItem\"},{\"attributes\":{},\"id\":\"2331\",\"type\":\"Selection\"},{\"attributes\":{\"base\":24,\"mantissas\":[1,2,4,6,8,12],\"max_interval\":43200000.0,\"min_interval\":3600000.0,\"num_minor_ticks\":0},\"id\":\"2201\",\"type\":\"AdaptiveTicker\"},{\"attributes\":{\"months\":[0,6]},\"id\":\"2209\",\"type\":\"MonthsTicker\"},{\"attributes\":{\"line_alpha\":0.1,\"line_color\":\"#EC1557\",\"line_width\":2,\"x\":{\"field\":\"x\"},\"y\":{\"field\":\"y\"}},\"id\":\"2186\",\"type\":\"Line\"},{\"attributes\":{},\"id\":\"2198\",\"type\":\"Selection\"},{\"attributes\":{\"line_alpha\":0.2,\"line_color\":\"#F05223\",\"line_width\":2,\"x\":{\"field\":\"x\"},\"y\":{\"field\":\"y\"}},\"id\":\"2216\",\"type\":\"Line\"},{\"attributes\":{\"months\":[0,2,4,6,8,10]},\"id\":\"2207\",\"type\":\"MonthsTicker\"},{\"attributes\":{\"line_alpha\":0.8,\"line_color\":\"#F05223\",\"line_width\":2,\"x\":{\"field\":\"x\"},\"y\":{\"field\":\"y\"}},\"id\":\"2214\",\"type\":\"Line\"},{\"attributes\":{},\"id\":\"2210\",\"type\":\"YearsTicker\"},{\"attributes\":{\"line_alpha\":0.8,\"line_color\":\"#F6A91B\",\"line_width\":2,\"x\":{\"field\":\"x\"},\"y\":{\"field\":\"y\"}},\"id\":\"2244\",\"type\":\"Line\"},{\"attributes\":{\"line_alpha\":0.2,\"line_color\":\"#20B254\",\"line_width\":2,\"x\":{\"field\":\"x\"},\"y\":{\"field\":\"y\"}},\"id\":\"2312\",\"type\":\"Line\"},{\"attributes\":{\"callback\":null,\"tooltips\":\"Score:@y\"},\"id\":\"2162\",\"type\":\"HoverTool\"},{\"attributes\":{\"coordinates\":null,\"data_source\":{\"id\":\"2275\"},\"glyph\":{\"id\":\"2276\"},\"group\":null,\"hover_glyph\":null,\"muted_glyph\":{\"id\":\"2278\"},\"nonselection_glyph\":{\"id\":\"2277\"},\"view\":{\"id\":\"2280\"}},\"id\":\"2279\",\"type\":\"GlyphRenderer\"},{\"attributes\":{},\"id\":\"2195\",\"type\":\"DatetimeTickFormatter\"},{\"attributes\":{},\"id\":\"2260\",\"type\":\"UnionRenderers\"},{\"attributes\":{\"months\":[0,1,2,3,4,5,6,7,8,9,10,11]},\"id\":\"2206\",\"type\":\"MonthsTicker\"},{\"attributes\":{\"line_alpha\":0.2,\"line_color\":\"#F6A91B\",\"line_width\":2,\"x\":{\"field\":\"x\"},\"y\":{\"field\":\"y\"}},\"id\":\"2246\",\"type\":\"Line\"},{\"attributes\":{},\"id\":\"2229\",\"type\":\"Selection\"},{\"attributes\":{\"coordinates\":null,\"data_source\":{\"id\":\"2309\"},\"glyph\":{\"id\":\"2310\"},\"group\":null,\"hover_glyph\":null,\"muted_glyph\":{\"id\":\"2312\"},\"nonselection_glyph\":{\"id\":\"2311\"},\"view\":{\"id\":\"2314\"}},\"id\":\"2313\",\"type\":\"GlyphRenderer\"},{\"attributes\":{\"label\":{\"value\":\"khloe\"},\"renderers\":[{\"id\":\"2217\"}]},\"id\":\"2242\",\"type\":\"LegendItem\"},{\"attributes\":{},\"id\":\"2197\",\"type\":\"UnionRenderers\"},{\"attributes\":{\"line_alpha\":0.2,\"line_color\":\"#A5CD39\",\"line_width\":2,\"x\":{\"field\":\"x\"},\"y\":{\"field\":\"y\"}},\"id\":\"2278\",\"type\":\"Line\"},{\"attributes\":{\"line_alpha\":0.2,\"line_color\":\"#EC1557\",\"line_width\":2,\"x\":{\"field\":\"x\"},\"y\":{\"field\":\"y\"}},\"id\":\"2187\",\"type\":\"Line\"},{\"attributes\":{\"data\":{\"x\":{\"__ndarray__\":\"AACA9tdycUIAAABvpehxQgAAwIEgXnJCAACAlJvTckIAAECnFklzQgAAwB/kvnNCAACAMl80dEIAAEBF2ql0QgAAAFhVH3VCAACA0CKVdUIAAEDjnQp2QgAAAPYYgHZCAADACJT1dkIAAECBYWt3QgAAAJTc4HdCAADApldWeEIAAIC50st4Qg==\",\"dtype\":\"float64\",\"order\":\"little\",\"shape\":[17]},\"y\":[12,12,21,27,32,43,34,39,52,43,31,33,22,22,30,30,1]},\"selected\":{\"id\":\"2261\"},\"selection_policy\":{\"id\":\"2260\"}},\"id\":\"2243\",\"type\":\"ColumnDataSource\"},{\"attributes\":{\"num_minor_ticks\":5,\"tickers\":[{\"id\":\"2199\"},{\"id\":\"2200\"},{\"id\":\"2201\"},{\"id\":\"2202\"},{\"id\":\"2203\"},{\"id\":\"2204\"},{\"id\":\"2205\"},{\"id\":\"2206\"},{\"id\":\"2207\"},{\"id\":\"2208\"},{\"id\":\"2209\"},{\"id\":\"2210\"}]},\"id\":\"2175\",\"type\":\"DatetimeTicker\"},{\"attributes\":{\"data\":{\"x\":{\"__ndarray__\":\"AACA9tdycUIAAABvpehxQgAAwIEgXnJCAACAlJvTckIAAECnFklzQgAAwB/kvnNCAACAMl80dEIAAEBF2ql0QgAAAFhVH3VCAACA0CKVdUIAAEDjnQp2QgAAAPYYgHZCAADACJT1dkIAAECBYWt3QgAAAJTc4HdCAADApldWeEIAAIC50st4Qg==\",\"dtype\":\"float64\",\"order\":\"little\",\"shape\":[17]},\"y\":[12,12,26,30,39,48,59,64,79,68,52,73,42,31,36,37,2]},\"selected\":{\"id\":\"2229\"},\"selection_policy\":{\"id\":\"2228\"}},\"id\":\"2213\",\"type\":\"ColumnDataSource\"},{\"attributes\":{\"days\":[1,8,15,22]},\"id\":\"2204\",\"type\":\"DaysTicker\"},{\"attributes\":{},\"id\":\"2172\",\"type\":\"LinearScale\"},{\"attributes\":{\"label\":{\"value\":\"kylie\"},\"renderers\":[{\"id\":\"2313\"}]},\"id\":\"2344\",\"type\":\"LegendItem\"},{\"attributes\":{},\"id\":\"2261\",\"type\":\"Selection\"},{\"attributes\":{},\"id\":\"2168\",\"type\":\"DataRange1d\"},{\"attributes\":{},\"id\":\"2330\",\"type\":\"UnionRenderers\"},{\"attributes\":{\"days\":[1,15]},\"id\":\"2205\",\"type\":\"DaysTicker\"},{\"attributes\":{\"months\":[0,4,8]},\"id\":\"2208\",\"type\":\"MonthsTicker\"},{\"attributes\":{\"axis_label\":\"Google Trends Score\",\"coordinates\":null,\"formatter\":{\"id\":\"2192\"},\"group\":null,\"major_label_policy\":{\"id\":\"2193\"},\"ticker\":{\"id\":\"2179\"}},\"id\":\"2178\",\"type\":\"LinearAxis\"},{\"attributes\":{\"data\":{\"x\":{\"__ndarray__\":\"AACA9tdycUIAAABvpehxQgAAwIEgXnJCAACAlJvTckIAAECnFklzQgAAwB/kvnNCAACAMl80dEIAAEBF2ql0QgAAAFhVH3VCAACA0CKVdUIAAEDjnQp2QgAAAPYYgHZCAADACJT1dkIAAECBYWt3QgAAAJTc4HdCAADApldWeEIAAIC50st4Qg==\",\"dtype\":\"float64\",\"order\":\"little\",\"shape\":[17]},\"y\":[113,164,170,268,366,320,395,442,382,331,204,199,142,124,137,142,8]},\"selected\":{\"id\":\"2198\"},\"selection_policy\":{\"id\":\"2197\"}},\"id\":\"2184\",\"type\":\"ColumnDataSource\"},{\"attributes\":{\"coordinates\":null,\"group\":null,\"text\":\"Google trends for the Kardashian/Jenner family\"},\"id\":\"2164\",\"type\":\"Title\"},{\"attributes\":{\"coordinates\":null,\"group\":null,\"items\":[{\"id\":\"2212\"},{\"id\":\"2242\"},{\"id\":\"2274\"},{\"id\":\"2308\"},{\"id\":\"2344\"}]},\"id\":\"2211\",\"type\":\"Legend\"},{\"attributes\":{\"axis\":{\"id\":\"2178\"},\"coordinates\":null,\"dimension\":1,\"group\":null,\"ticker\":null},\"id\":\"2181\",\"type\":\"Grid\"},{\"attributes\":{},\"id\":\"2179\",\"type\":\"BasicTicker\"}],\"root_ids\":[\"2163\"]},\"title\":\"Bokeh Application\",\"version\":\"2.4.2\"}};\n  const render_items = [{\"docid\":\"3c011a41-7ec5-4d4e-ba29-de8bd1eeb9b4\",\"root_ids\":[\"2163\"],\"roots\":{\"2163\":\"73cc0ad8-19d1-4aaa-80f3-bcbe901fd85c\"}}];\n  root.Bokeh.embed.embed_items_notebook(docs_json, render_items);\n\n  }\n  if (root.Bokeh !== undefined) {\n    embed_document(root);\n  } else {\n    let attempts = 0;\n    const timer = setInterval(function(root) {\n      if (root.Bokeh !== undefined) {\n        clearInterval(timer);\n        embed_document(root);\n      } else {\n        attempts++;\n        if (attempts > 100) {\n          clearInterval(timer);\n          console.log(\"Bokeh: ERROR: Unable to run BokehJS code because BokehJS library is missing\");\n        }\n      }\n    }, 10, root)\n  }\n})(window);",
      "application/vnd.bokehjs_exec.v0+json": ""
     },
     "metadata": {
      "application/vnd.bokehjs_exec.v0+json": {
       "id": "2163"
      }
     },
     "output_type": "display_data"
    }
   ],
   "source": [
    "trends_annual_rolling =  trends.resample('Y').sum()\n",
    "\n",
    "# Figure params\n",
    "q = figure(title=\"Google trends for the Kardashian/Jenner family\", \n",
    "            y_axis_label = 'Google Trends Score',\n",
    "            sizing_mode=\"stretch_width\",\n",
    "            height=400, \n",
    "            x_axis_type=\"datetime\",\n",
    "            tools=[HoverTool()], \n",
    "            tooltips=\"Score:@y\"\n",
    "            )\n",
    "            \n",
    "# Plot a line for each sister\n",
    "for sister, color in zip([\"kim\", \"khloe\", \"kourtney\", \"kendall\", \"kylie\"],  Bokeh[5]):\n",
    "    q.line(trends_annual_rolling.index, trends_annual_rolling[sister], line_width=2, color=color, alpha=0.8, legend_label=sister)\n",
    "\n",
    "show(q)"
   ]
  },
  {
   "attachments": {},
   "cell_type": "markdown",
   "metadata": {},
   "source": [
    "### 3.2 What about the other sisters ? "
   ]
  },
  {
   "attachments": {},
   "cell_type": "markdown",
   "metadata": {},
   "source": [
    "As we understand it Kim is the one who drives the popularity of the family. But what about the other sisters. \n",
    "\n",
    "To answer this question we have chosen to make an animation of the evolution of the popularity rankings over time of the four other sisters. For that we use the Plotly library. "
   ]
  },
  {
   "cell_type": "code",
   "execution_count": 40,
   "metadata": {},
   "outputs": [],
   "source": [
    "#Data Preparation\n",
    "interest_sum_per_year = trends.groupby(trends.index.year).sum()\n",
    "interest_sum_per_year = interest_sum_per_year.loc['2007':'2022', 'khloe':'kylie']\n",
    "interest_sum_per_year.reset_index(inplace=True)\n",
    "\n",
    "interest_sum_per_year = interest_sum_per_year.melt(id_vars=[\"month\"], \n",
    "        var_name=\"name\", \n",
    "        value_name=\"sum\")\n",
    "\n",
    "# Add a rank column\n",
    "interest_sum_per_year[\"rank\"] = interest_sum_per_year.groupby(\"month\")[\"sum\"].rank(method=\"dense\", ascending=False)"
   ]
  },
  {
   "cell_type": "code",
   "execution_count": 41,
   "metadata": {},
   "outputs": [
    {
     "data": {
      "application/vnd.plotly.v1+json": {
       "config": {
        "plotlyServerURL": "https://plot.ly"
       },
       "data": [
        {
         "alignmentgroup": "True",
         "hovertemplate": "=%{x}<br>month=2007<br>Sum of Interest Score=%{y}<br>rank=%{text}<extra></extra>",
         "legendgroup": "khloe",
         "marker": {
          "color": "rgb(225, 83, 131)",
          "pattern": {
           "shape": ""
          }
         },
         "name": "khloe",
         "offsetgroup": "khloe",
         "orientation": "v",
         "showlegend": true,
         "text": [
          1
         ],
         "textangle": 0,
         "textfont": {
          "size": 16
         },
         "textposition": "auto",
         "type": "bar",
         "x": [
          "khloe"
         ],
         "xaxis": "x",
         "y": [
          12
         ],
         "yaxis": "y"
        },
        {
         "alignmentgroup": "True",
         "hovertemplate": "=%{x}<br>month=2007<br>Sum of Interest Score=%{y}<br>rank=%{text}<extra></extra>",
         "legendgroup": "kourtney",
         "marker": {
          "color": "rgb(241, 109, 122)",
          "pattern": {
           "shape": ""
          }
         },
         "name": "kourtney",
         "offsetgroup": "kourtney",
         "orientation": "v",
         "showlegend": true,
         "text": [
          1
         ],
         "textangle": 0,
         "textfont": {
          "size": 16
         },
         "textposition": "auto",
         "type": "bar",
         "x": [
          "kourtney"
         ],
         "xaxis": "x",
         "y": [
          12
         ],
         "yaxis": "y"
        },
        {
         "alignmentgroup": "True",
         "hovertemplate": "=%{x}<br>month=2007<br>Sum of Interest Score=%{y}<br>rank=%{text}<extra></extra>",
         "legendgroup": "kendall",
         "marker": {
          "color": "rgb(250, 138, 118)",
          "pattern": {
           "shape": ""
          }
         },
         "name": "kendall",
         "offsetgroup": "kendall",
         "orientation": "v",
         "showlegend": true,
         "text": [
          1
         ],
         "textangle": 0,
         "textfont": {
          "size": 16
         },
         "textposition": "auto",
         "type": "bar",
         "x": [
          "kendall"
         ],
         "xaxis": "x",
         "y": [
          12
         ],
         "yaxis": "y"
        },
        {
         "alignmentgroup": "True",
         "hovertemplate": "=%{x}<br>month=2007<br>Sum of Interest Score=%{y}<br>rank=%{text}<extra></extra>",
         "legendgroup": "kylie",
         "marker": {
          "color": "rgb(255, 166, 121)",
          "pattern": {
           "shape": ""
          }
         },
         "name": "kylie",
         "offsetgroup": "kylie",
         "orientation": "v",
         "showlegend": true,
         "text": [
          1
         ],
         "textangle": 0,
         "textfont": {
          "size": 16
         },
         "textposition": "auto",
         "type": "bar",
         "x": [
          "kylie"
         ],
         "xaxis": "x",
         "y": [
          12
         ],
         "yaxis": "y"
        }
       ],
       "frames": [
        {
         "data": [
          {
           "alignmentgroup": "True",
           "hovertemplate": "=%{x}<br>month=2007<br>Sum of Interest Score=%{y}<br>rank=%{text}<extra></extra>",
           "legendgroup": "khloe",
           "marker": {
            "color": "rgb(225, 83, 131)",
            "pattern": {
             "shape": ""
            }
           },
           "name": "khloe",
           "offsetgroup": "khloe",
           "orientation": "v",
           "showlegend": true,
           "text": [
            1
           ],
           "textposition": "auto",
           "type": "bar",
           "x": [
            "khloe"
           ],
           "xaxis": "x",
           "y": [
            12
           ],
           "yaxis": "y"
          },
          {
           "alignmentgroup": "True",
           "hovertemplate": "=%{x}<br>month=2007<br>Sum of Interest Score=%{y}<br>rank=%{text}<extra></extra>",
           "legendgroup": "kourtney",
           "marker": {
            "color": "rgb(241, 109, 122)",
            "pattern": {
             "shape": ""
            }
           },
           "name": "kourtney",
           "offsetgroup": "kourtney",
           "orientation": "v",
           "showlegend": true,
           "text": [
            1
           ],
           "textposition": "auto",
           "type": "bar",
           "x": [
            "kourtney"
           ],
           "xaxis": "x",
           "y": [
            12
           ],
           "yaxis": "y"
          },
          {
           "alignmentgroup": "True",
           "hovertemplate": "=%{x}<br>month=2007<br>Sum of Interest Score=%{y}<br>rank=%{text}<extra></extra>",
           "legendgroup": "kendall",
           "marker": {
            "color": "rgb(250, 138, 118)",
            "pattern": {
             "shape": ""
            }
           },
           "name": "kendall",
           "offsetgroup": "kendall",
           "orientation": "v",
           "showlegend": true,
           "text": [
            1
           ],
           "textposition": "auto",
           "type": "bar",
           "x": [
            "kendall"
           ],
           "xaxis": "x",
           "y": [
            12
           ],
           "yaxis": "y"
          },
          {
           "alignmentgroup": "True",
           "hovertemplate": "=%{x}<br>month=2007<br>Sum of Interest Score=%{y}<br>rank=%{text}<extra></extra>",
           "legendgroup": "kylie",
           "marker": {
            "color": "rgb(255, 166, 121)",
            "pattern": {
             "shape": ""
            }
           },
           "name": "kylie",
           "offsetgroup": "kylie",
           "orientation": "v",
           "showlegend": true,
           "text": [
            1
           ],
           "textposition": "auto",
           "type": "bar",
           "x": [
            "kylie"
           ],
           "xaxis": "x",
           "y": [
            12
           ],
           "yaxis": "y"
          }
         ],
         "name": "2007"
        },
        {
         "data": [
          {
           "alignmentgroup": "True",
           "hovertemplate": "=%{x}<br>month=2008<br>Sum of Interest Score=%{y}<br>rank=%{text}<extra></extra>",
           "legendgroup": "khloe",
           "marker": {
            "color": "rgb(225, 83, 131)",
            "pattern": {
             "shape": ""
            }
           },
           "name": "khloe",
           "offsetgroup": "khloe",
           "orientation": "v",
           "showlegend": true,
           "text": [
            1
           ],
           "textposition": "auto",
           "type": "bar",
           "x": [
            "khloe"
           ],
           "xaxis": "x",
           "y": [
            12
           ],
           "yaxis": "y"
          },
          {
           "alignmentgroup": "True",
           "hovertemplate": "=%{x}<br>month=2008<br>Sum of Interest Score=%{y}<br>rank=%{text}<extra></extra>",
           "legendgroup": "kourtney",
           "marker": {
            "color": "rgb(241, 109, 122)",
            "pattern": {
             "shape": ""
            }
           },
           "name": "kourtney",
           "offsetgroup": "kourtney",
           "orientation": "v",
           "showlegend": true,
           "text": [
            1
           ],
           "textposition": "auto",
           "type": "bar",
           "x": [
            "kourtney"
           ],
           "xaxis": "x",
           "y": [
            12
           ],
           "yaxis": "y"
          },
          {
           "alignmentgroup": "True",
           "hovertemplate": "=%{x}<br>month=2008<br>Sum of Interest Score=%{y}<br>rank=%{text}<extra></extra>",
           "legendgroup": "kendall",
           "marker": {
            "color": "rgb(250, 138, 118)",
            "pattern": {
             "shape": ""
            }
           },
           "name": "kendall",
           "offsetgroup": "kendall",
           "orientation": "v",
           "showlegend": true,
           "text": [
            1
           ],
           "textposition": "auto",
           "type": "bar",
           "x": [
            "kendall"
           ],
           "xaxis": "x",
           "y": [
            12
           ],
           "yaxis": "y"
          },
          {
           "alignmentgroup": "True",
           "hovertemplate": "=%{x}<br>month=2008<br>Sum of Interest Score=%{y}<br>rank=%{text}<extra></extra>",
           "legendgroup": "kylie",
           "marker": {
            "color": "rgb(255, 166, 121)",
            "pattern": {
             "shape": ""
            }
           },
           "name": "kylie",
           "offsetgroup": "kylie",
           "orientation": "v",
           "showlegend": true,
           "text": [
            1
           ],
           "textposition": "auto",
           "type": "bar",
           "x": [
            "kylie"
           ],
           "xaxis": "x",
           "y": [
            12
           ],
           "yaxis": "y"
          }
         ],
         "name": "2008"
        },
        {
         "data": [
          {
           "alignmentgroup": "True",
           "hovertemplate": "=%{x}<br>month=2009<br>Sum of Interest Score=%{y}<br>rank=%{text}<extra></extra>",
           "legendgroup": "khloe",
           "marker": {
            "color": "rgb(225, 83, 131)",
            "pattern": {
             "shape": ""
            }
           },
           "name": "khloe",
           "offsetgroup": "khloe",
           "orientation": "v",
           "showlegend": true,
           "text": [
            1
           ],
           "textposition": "auto",
           "type": "bar",
           "x": [
            "khloe"
           ],
           "xaxis": "x",
           "y": [
            26
           ],
           "yaxis": "y"
          },
          {
           "alignmentgroup": "True",
           "hovertemplate": "=%{x}<br>month=2009<br>Sum of Interest Score=%{y}<br>rank=%{text}<extra></extra>",
           "legendgroup": "kourtney",
           "marker": {
            "color": "rgb(241, 109, 122)",
            "pattern": {
             "shape": ""
            }
           },
           "name": "kourtney",
           "offsetgroup": "kourtney",
           "orientation": "v",
           "showlegend": true,
           "text": [
            2
           ],
           "textposition": "auto",
           "type": "bar",
           "x": [
            "kourtney"
           ],
           "xaxis": "x",
           "y": [
            21
           ],
           "yaxis": "y"
          },
          {
           "alignmentgroup": "True",
           "hovertemplate": "=%{x}<br>month=2009<br>Sum of Interest Score=%{y}<br>rank=%{text}<extra></extra>",
           "legendgroup": "kendall",
           "marker": {
            "color": "rgb(250, 138, 118)",
            "pattern": {
             "shape": ""
            }
           },
           "name": "kendall",
           "offsetgroup": "kendall",
           "orientation": "v",
           "showlegend": true,
           "text": [
            3
           ],
           "textposition": "auto",
           "type": "bar",
           "x": [
            "kendall"
           ],
           "xaxis": "x",
           "y": [
            12
           ],
           "yaxis": "y"
          },
          {
           "alignmentgroup": "True",
           "hovertemplate": "=%{x}<br>month=2009<br>Sum of Interest Score=%{y}<br>rank=%{text}<extra></extra>",
           "legendgroup": "kylie",
           "marker": {
            "color": "rgb(255, 166, 121)",
            "pattern": {
             "shape": ""
            }
           },
           "name": "kylie",
           "offsetgroup": "kylie",
           "orientation": "v",
           "showlegend": true,
           "text": [
            3
           ],
           "textposition": "auto",
           "type": "bar",
           "x": [
            "kylie"
           ],
           "xaxis": "x",
           "y": [
            12
           ],
           "yaxis": "y"
          }
         ],
         "name": "2009"
        },
        {
         "data": [
          {
           "alignmentgroup": "True",
           "hovertemplate": "=%{x}<br>month=2010<br>Sum of Interest Score=%{y}<br>rank=%{text}<extra></extra>",
           "legendgroup": "khloe",
           "marker": {
            "color": "rgb(225, 83, 131)",
            "pattern": {
             "shape": ""
            }
           },
           "name": "khloe",
           "offsetgroup": "khloe",
           "orientation": "v",
           "showlegend": true,
           "text": [
            1
           ],
           "textposition": "auto",
           "type": "bar",
           "x": [
            "khloe"
           ],
           "xaxis": "x",
           "y": [
            30
           ],
           "yaxis": "y"
          },
          {
           "alignmentgroup": "True",
           "hovertemplate": "=%{x}<br>month=2010<br>Sum of Interest Score=%{y}<br>rank=%{text}<extra></extra>",
           "legendgroup": "kourtney",
           "marker": {
            "color": "rgb(241, 109, 122)",
            "pattern": {
             "shape": ""
            }
           },
           "name": "kourtney",
           "offsetgroup": "kourtney",
           "orientation": "v",
           "showlegend": true,
           "text": [
            2
           ],
           "textposition": "auto",
           "type": "bar",
           "x": [
            "kourtney"
           ],
           "xaxis": "x",
           "y": [
            27
           ],
           "yaxis": "y"
          },
          {
           "alignmentgroup": "True",
           "hovertemplate": "=%{x}<br>month=2010<br>Sum of Interest Score=%{y}<br>rank=%{text}<extra></extra>",
           "legendgroup": "kendall",
           "marker": {
            "color": "rgb(250, 138, 118)",
            "pattern": {
             "shape": ""
            }
           },
           "name": "kendall",
           "offsetgroup": "kendall",
           "orientation": "v",
           "showlegend": true,
           "text": [
            3
           ],
           "textposition": "auto",
           "type": "bar",
           "x": [
            "kendall"
           ],
           "xaxis": "x",
           "y": [
            13
           ],
           "yaxis": "y"
          },
          {
           "alignmentgroup": "True",
           "hovertemplate": "=%{x}<br>month=2010<br>Sum of Interest Score=%{y}<br>rank=%{text}<extra></extra>",
           "legendgroup": "kylie",
           "marker": {
            "color": "rgb(255, 166, 121)",
            "pattern": {
             "shape": ""
            }
           },
           "name": "kylie",
           "offsetgroup": "kylie",
           "orientation": "v",
           "showlegend": true,
           "text": [
            4
           ],
           "textposition": "auto",
           "type": "bar",
           "x": [
            "kylie"
           ],
           "xaxis": "x",
           "y": [
            12
           ],
           "yaxis": "y"
          }
         ],
         "name": "2010"
        },
        {
         "data": [
          {
           "alignmentgroup": "True",
           "hovertemplate": "=%{x}<br>month=2011<br>Sum of Interest Score=%{y}<br>rank=%{text}<extra></extra>",
           "legendgroup": "khloe",
           "marker": {
            "color": "rgb(225, 83, 131)",
            "pattern": {
             "shape": ""
            }
           },
           "name": "khloe",
           "offsetgroup": "khloe",
           "orientation": "v",
           "showlegend": true,
           "text": [
            1
           ],
           "textposition": "auto",
           "type": "bar",
           "x": [
            "khloe"
           ],
           "xaxis": "x",
           "y": [
            39
           ],
           "yaxis": "y"
          },
          {
           "alignmentgroup": "True",
           "hovertemplate": "=%{x}<br>month=2011<br>Sum of Interest Score=%{y}<br>rank=%{text}<extra></extra>",
           "legendgroup": "kourtney",
           "marker": {
            "color": "rgb(241, 109, 122)",
            "pattern": {
             "shape": ""
            }
           },
           "name": "kourtney",
           "offsetgroup": "kourtney",
           "orientation": "v",
           "showlegend": true,
           "text": [
            2
           ],
           "textposition": "auto",
           "type": "bar",
           "x": [
            "kourtney"
           ],
           "xaxis": "x",
           "y": [
            32
           ],
           "yaxis": "y"
          },
          {
           "alignmentgroup": "True",
           "hovertemplate": "=%{x}<br>month=2011<br>Sum of Interest Score=%{y}<br>rank=%{text}<extra></extra>",
           "legendgroup": "kendall",
           "marker": {
            "color": "rgb(250, 138, 118)",
            "pattern": {
             "shape": ""
            }
           },
           "name": "kendall",
           "offsetgroup": "kendall",
           "orientation": "v",
           "showlegend": true,
           "text": [
            3
           ],
           "textposition": "auto",
           "type": "bar",
           "x": [
            "kendall"
           ],
           "xaxis": "x",
           "y": [
            17
           ],
           "yaxis": "y"
          },
          {
           "alignmentgroup": "True",
           "hovertemplate": "=%{x}<br>month=2011<br>Sum of Interest Score=%{y}<br>rank=%{text}<extra></extra>",
           "legendgroup": "kylie",
           "marker": {
            "color": "rgb(255, 166, 121)",
            "pattern": {
             "shape": ""
            }
           },
           "name": "kylie",
           "offsetgroup": "kylie",
           "orientation": "v",
           "showlegend": true,
           "text": [
            4
           ],
           "textposition": "auto",
           "type": "bar",
           "x": [
            "kylie"
           ],
           "xaxis": "x",
           "y": [
            12
           ],
           "yaxis": "y"
          }
         ],
         "name": "2011"
        },
        {
         "data": [
          {
           "alignmentgroup": "True",
           "hovertemplate": "=%{x}<br>month=2012<br>Sum of Interest Score=%{y}<br>rank=%{text}<extra></extra>",
           "legendgroup": "khloe",
           "marker": {
            "color": "rgb(225, 83, 131)",
            "pattern": {
             "shape": ""
            }
           },
           "name": "khloe",
           "offsetgroup": "khloe",
           "orientation": "v",
           "showlegend": true,
           "text": [
            1
           ],
           "textposition": "auto",
           "type": "bar",
           "x": [
            "khloe"
           ],
           "xaxis": "x",
           "y": [
            48
           ],
           "yaxis": "y"
          },
          {
           "alignmentgroup": "True",
           "hovertemplate": "=%{x}<br>month=2012<br>Sum of Interest Score=%{y}<br>rank=%{text}<extra></extra>",
           "legendgroup": "kourtney",
           "marker": {
            "color": "rgb(241, 109, 122)",
            "pattern": {
             "shape": ""
            }
           },
           "name": "kourtney",
           "offsetgroup": "kourtney",
           "orientation": "v",
           "showlegend": true,
           "text": [
            2
           ],
           "textposition": "auto",
           "type": "bar",
           "x": [
            "kourtney"
           ],
           "xaxis": "x",
           "y": [
            43
           ],
           "yaxis": "y"
          },
          {
           "alignmentgroup": "True",
           "hovertemplate": "=%{x}<br>month=2012<br>Sum of Interest Score=%{y}<br>rank=%{text}<extra></extra>",
           "legendgroup": "kendall",
           "marker": {
            "color": "rgb(250, 138, 118)",
            "pattern": {
             "shape": ""
            }
           },
           "name": "kendall",
           "offsetgroup": "kendall",
           "orientation": "v",
           "showlegend": true,
           "text": [
            3
           ],
           "textposition": "auto",
           "type": "bar",
           "x": [
            "kendall"
           ],
           "xaxis": "x",
           "y": [
            26
           ],
           "yaxis": "y"
          },
          {
           "alignmentgroup": "True",
           "hovertemplate": "=%{x}<br>month=2012<br>Sum of Interest Score=%{y}<br>rank=%{text}<extra></extra>",
           "legendgroup": "kylie",
           "marker": {
            "color": "rgb(255, 166, 121)",
            "pattern": {
             "shape": ""
            }
           },
           "name": "kylie",
           "offsetgroup": "kylie",
           "orientation": "v",
           "showlegend": true,
           "text": [
            4
           ],
           "textposition": "auto",
           "type": "bar",
           "x": [
            "kylie"
           ],
           "xaxis": "x",
           "y": [
            16
           ],
           "yaxis": "y"
          }
         ],
         "name": "2012"
        },
        {
         "data": [
          {
           "alignmentgroup": "True",
           "hovertemplate": "=%{x}<br>month=2013<br>Sum of Interest Score=%{y}<br>rank=%{text}<extra></extra>",
           "legendgroup": "khloe",
           "marker": {
            "color": "rgb(225, 83, 131)",
            "pattern": {
             "shape": ""
            }
           },
           "name": "khloe",
           "offsetgroup": "khloe",
           "orientation": "v",
           "showlegend": true,
           "text": [
            1
           ],
           "textposition": "auto",
           "type": "bar",
           "x": [
            "khloe"
           ],
           "xaxis": "x",
           "y": [
            59
           ],
           "yaxis": "y"
          },
          {
           "alignmentgroup": "True",
           "hovertemplate": "=%{x}<br>month=2013<br>Sum of Interest Score=%{y}<br>rank=%{text}<extra></extra>",
           "legendgroup": "kourtney",
           "marker": {
            "color": "rgb(241, 109, 122)",
            "pattern": {
             "shape": ""
            }
           },
           "name": "kourtney",
           "offsetgroup": "kourtney",
           "orientation": "v",
           "showlegend": true,
           "text": [
            3
           ],
           "textposition": "auto",
           "type": "bar",
           "x": [
            "kourtney"
           ],
           "xaxis": "x",
           "y": [
            34
           ],
           "yaxis": "y"
          },
          {
           "alignmentgroup": "True",
           "hovertemplate": "=%{x}<br>month=2013<br>Sum of Interest Score=%{y}<br>rank=%{text}<extra></extra>",
           "legendgroup": "kendall",
           "marker": {
            "color": "rgb(250, 138, 118)",
            "pattern": {
             "shape": ""
            }
           },
           "name": "kendall",
           "offsetgroup": "kendall",
           "orientation": "v",
           "showlegend": true,
           "text": [
            2
           ],
           "textposition": "auto",
           "type": "bar",
           "x": [
            "kendall"
           ],
           "xaxis": "x",
           "y": [
            40
           ],
           "yaxis": "y"
          },
          {
           "alignmentgroup": "True",
           "hovertemplate": "=%{x}<br>month=2013<br>Sum of Interest Score=%{y}<br>rank=%{text}<extra></extra>",
           "legendgroup": "kylie",
           "marker": {
            "color": "rgb(255, 166, 121)",
            "pattern": {
             "shape": ""
            }
           },
           "name": "kylie",
           "offsetgroup": "kylie",
           "orientation": "v",
           "showlegend": true,
           "text": [
            4
           ],
           "textposition": "auto",
           "type": "bar",
           "x": [
            "kylie"
           ],
           "xaxis": "x",
           "y": [
            29
           ],
           "yaxis": "y"
          }
         ],
         "name": "2013"
        },
        {
         "data": [
          {
           "alignmentgroup": "True",
           "hovertemplate": "=%{x}<br>month=2014<br>Sum of Interest Score=%{y}<br>rank=%{text}<extra></extra>",
           "legendgroup": "khloe",
           "marker": {
            "color": "rgb(225, 83, 131)",
            "pattern": {
             "shape": ""
            }
           },
           "name": "khloe",
           "offsetgroup": "khloe",
           "orientation": "v",
           "showlegend": true,
           "text": [
            2
           ],
           "textposition": "auto",
           "type": "bar",
           "x": [
            "khloe"
           ],
           "xaxis": "x",
           "y": [
            64
           ],
           "yaxis": "y"
          },
          {
           "alignmentgroup": "True",
           "hovertemplate": "=%{x}<br>month=2014<br>Sum of Interest Score=%{y}<br>rank=%{text}<extra></extra>",
           "legendgroup": "kourtney",
           "marker": {
            "color": "rgb(241, 109, 122)",
            "pattern": {
             "shape": ""
            }
           },
           "name": "kourtney",
           "offsetgroup": "kourtney",
           "orientation": "v",
           "showlegend": true,
           "text": [
            4
           ],
           "textposition": "auto",
           "type": "bar",
           "x": [
            "kourtney"
           ],
           "xaxis": "x",
           "y": [
            39
           ],
           "yaxis": "y"
          },
          {
           "alignmentgroup": "True",
           "hovertemplate": "=%{x}<br>month=2014<br>Sum of Interest Score=%{y}<br>rank=%{text}<extra></extra>",
           "legendgroup": "kendall",
           "marker": {
            "color": "rgb(250, 138, 118)",
            "pattern": {
             "shape": ""
            }
           },
           "name": "kendall",
           "offsetgroup": "kendall",
           "orientation": "v",
           "showlegend": true,
           "text": [
            1
           ],
           "textposition": "auto",
           "type": "bar",
           "x": [
            "kendall"
           ],
           "xaxis": "x",
           "y": [
            66
           ],
           "yaxis": "y"
          },
          {
           "alignmentgroup": "True",
           "hovertemplate": "=%{x}<br>month=2014<br>Sum of Interest Score=%{y}<br>rank=%{text}<extra></extra>",
           "legendgroup": "kylie",
           "marker": {
            "color": "rgb(255, 166, 121)",
            "pattern": {
             "shape": ""
            }
           },
           "name": "kylie",
           "offsetgroup": "kylie",
           "orientation": "v",
           "showlegend": true,
           "text": [
            3
           ],
           "textposition": "auto",
           "type": "bar",
           "x": [
            "kylie"
           ],
           "xaxis": "x",
           "y": [
            60
           ],
           "yaxis": "y"
          }
         ],
         "name": "2014"
        },
        {
         "data": [
          {
           "alignmentgroup": "True",
           "hovertemplate": "=%{x}<br>month=2015<br>Sum of Interest Score=%{y}<br>rank=%{text}<extra></extra>",
           "legendgroup": "khloe",
           "marker": {
            "color": "rgb(225, 83, 131)",
            "pattern": {
             "shape": ""
            }
           },
           "name": "khloe",
           "offsetgroup": "khloe",
           "orientation": "v",
           "showlegend": true,
           "text": [
            3
           ],
           "textposition": "auto",
           "type": "bar",
           "x": [
            "khloe"
           ],
           "xaxis": "x",
           "y": [
            79
           ],
           "yaxis": "y"
          },
          {
           "alignmentgroup": "True",
           "hovertemplate": "=%{x}<br>month=2015<br>Sum of Interest Score=%{y}<br>rank=%{text}<extra></extra>",
           "legendgroup": "kourtney",
           "marker": {
            "color": "rgb(241, 109, 122)",
            "pattern": {
             "shape": ""
            }
           },
           "name": "kourtney",
           "offsetgroup": "kourtney",
           "orientation": "v",
           "showlegend": true,
           "text": [
            4
           ],
           "textposition": "auto",
           "type": "bar",
           "x": [
            "kourtney"
           ],
           "xaxis": "x",
           "y": [
            52
           ],
           "yaxis": "y"
          },
          {
           "alignmentgroup": "True",
           "hovertemplate": "=%{x}<br>month=2015<br>Sum of Interest Score=%{y}<br>rank=%{text}<extra></extra>",
           "legendgroup": "kendall",
           "marker": {
            "color": "rgb(250, 138, 118)",
            "pattern": {
             "shape": ""
            }
           },
           "name": "kendall",
           "offsetgroup": "kendall",
           "orientation": "v",
           "showlegend": true,
           "text": [
            2
           ],
           "textposition": "auto",
           "type": "bar",
           "x": [
            "kendall"
           ],
           "xaxis": "x",
           "y": [
            98
           ],
           "yaxis": "y"
          },
          {
           "alignmentgroup": "True",
           "hovertemplate": "=%{x}<br>month=2015<br>Sum of Interest Score=%{y}<br>rank=%{text}<extra></extra>",
           "legendgroup": "kylie",
           "marker": {
            "color": "rgb(255, 166, 121)",
            "pattern": {
             "shape": ""
            }
           },
           "name": "kylie",
           "offsetgroup": "kylie",
           "orientation": "v",
           "showlegend": true,
           "text": [
            1
           ],
           "textposition": "auto",
           "type": "bar",
           "x": [
            "kylie"
           ],
           "xaxis": "x",
           "y": [
            203
           ],
           "yaxis": "y"
          }
         ],
         "name": "2015"
        },
        {
         "data": [
          {
           "alignmentgroup": "True",
           "hovertemplate": "=%{x}<br>month=2016<br>Sum of Interest Score=%{y}<br>rank=%{text}<extra></extra>",
           "legendgroup": "khloe",
           "marker": {
            "color": "rgb(225, 83, 131)",
            "pattern": {
             "shape": ""
            }
           },
           "name": "khloe",
           "offsetgroup": "khloe",
           "orientation": "v",
           "showlegend": true,
           "text": [
            3
           ],
           "textposition": "auto",
           "type": "bar",
           "x": [
            "khloe"
           ],
           "xaxis": "x",
           "y": [
            68
           ],
           "yaxis": "y"
          },
          {
           "alignmentgroup": "True",
           "hovertemplate": "=%{x}<br>month=2016<br>Sum of Interest Score=%{y}<br>rank=%{text}<extra></extra>",
           "legendgroup": "kourtney",
           "marker": {
            "color": "rgb(241, 109, 122)",
            "pattern": {
             "shape": ""
            }
           },
           "name": "kourtney",
           "offsetgroup": "kourtney",
           "orientation": "v",
           "showlegend": true,
           "text": [
            4
           ],
           "textposition": "auto",
           "type": "bar",
           "x": [
            "kourtney"
           ],
           "xaxis": "x",
           "y": [
            43
           ],
           "yaxis": "y"
          },
          {
           "alignmentgroup": "True",
           "hovertemplate": "=%{x}<br>month=2016<br>Sum of Interest Score=%{y}<br>rank=%{text}<extra></extra>",
           "legendgroup": "kendall",
           "marker": {
            "color": "rgb(250, 138, 118)",
            "pattern": {
             "shape": ""
            }
           },
           "name": "kendall",
           "offsetgroup": "kendall",
           "orientation": "v",
           "showlegend": true,
           "text": [
            2
           ],
           "textposition": "auto",
           "type": "bar",
           "x": [
            "kendall"
           ],
           "xaxis": "x",
           "y": [
            89
           ],
           "yaxis": "y"
          },
          {
           "alignmentgroup": "True",
           "hovertemplate": "=%{x}<br>month=2016<br>Sum of Interest Score=%{y}<br>rank=%{text}<extra></extra>",
           "legendgroup": "kylie",
           "marker": {
            "color": "rgb(255, 166, 121)",
            "pattern": {
             "shape": ""
            }
           },
           "name": "kylie",
           "offsetgroup": "kylie",
           "orientation": "v",
           "showlegend": true,
           "text": [
            1
           ],
           "textposition": "auto",
           "type": "bar",
           "x": [
            "kylie"
           ],
           "xaxis": "x",
           "y": [
            205
           ],
           "yaxis": "y"
          }
         ],
         "name": "2016"
        },
        {
         "data": [
          {
           "alignmentgroup": "True",
           "hovertemplate": "=%{x}<br>month=2017<br>Sum of Interest Score=%{y}<br>rank=%{text}<extra></extra>",
           "legendgroup": "khloe",
           "marker": {
            "color": "rgb(225, 83, 131)",
            "pattern": {
             "shape": ""
            }
           },
           "name": "khloe",
           "offsetgroup": "khloe",
           "orientation": "v",
           "showlegend": true,
           "text": [
            3
           ],
           "textposition": "auto",
           "type": "bar",
           "x": [
            "khloe"
           ],
           "xaxis": "x",
           "y": [
            52
           ],
           "yaxis": "y"
          },
          {
           "alignmentgroup": "True",
           "hovertemplate": "=%{x}<br>month=2017<br>Sum of Interest Score=%{y}<br>rank=%{text}<extra></extra>",
           "legendgroup": "kourtney",
           "marker": {
            "color": "rgb(241, 109, 122)",
            "pattern": {
             "shape": ""
            }
           },
           "name": "kourtney",
           "offsetgroup": "kourtney",
           "orientation": "v",
           "showlegend": true,
           "text": [
            4
           ],
           "textposition": "auto",
           "type": "bar",
           "x": [
            "kourtney"
           ],
           "xaxis": "x",
           "y": [
            31
           ],
           "yaxis": "y"
          },
          {
           "alignmentgroup": "True",
           "hovertemplate": "=%{x}<br>month=2017<br>Sum of Interest Score=%{y}<br>rank=%{text}<extra></extra>",
           "legendgroup": "kendall",
           "marker": {
            "color": "rgb(250, 138, 118)",
            "pattern": {
             "shape": ""
            }
           },
           "name": "kendall",
           "offsetgroup": "kendall",
           "orientation": "v",
           "showlegend": true,
           "text": [
            2
           ],
           "textposition": "auto",
           "type": "bar",
           "x": [
            "kendall"
           ],
           "xaxis": "x",
           "y": [
            60
           ],
           "yaxis": "y"
          },
          {
           "alignmentgroup": "True",
           "hovertemplate": "=%{x}<br>month=2017<br>Sum of Interest Score=%{y}<br>rank=%{text}<extra></extra>",
           "legendgroup": "kylie",
           "marker": {
            "color": "rgb(255, 166, 121)",
            "pattern": {
             "shape": ""
            }
           },
           "name": "kylie",
           "offsetgroup": "kylie",
           "orientation": "v",
           "showlegend": true,
           "text": [
            1
           ],
           "textposition": "auto",
           "type": "bar",
           "x": [
            "kylie"
           ],
           "xaxis": "x",
           "y": [
            171
           ],
           "yaxis": "y"
          }
         ],
         "name": "2017"
        },
        {
         "data": [
          {
           "alignmentgroup": "True",
           "hovertemplate": "=%{x}<br>month=2018<br>Sum of Interest Score=%{y}<br>rank=%{text}<extra></extra>",
           "legendgroup": "khloe",
           "marker": {
            "color": "rgb(225, 83, 131)",
            "pattern": {
             "shape": ""
            }
           },
           "name": "khloe",
           "offsetgroup": "khloe",
           "orientation": "v",
           "showlegend": true,
           "text": [
            2
           ],
           "textposition": "auto",
           "type": "bar",
           "x": [
            "khloe"
           ],
           "xaxis": "x",
           "y": [
            73
           ],
           "yaxis": "y"
          },
          {
           "alignmentgroup": "True",
           "hovertemplate": "=%{x}<br>month=2018<br>Sum of Interest Score=%{y}<br>rank=%{text}<extra></extra>",
           "legendgroup": "kourtney",
           "marker": {
            "color": "rgb(241, 109, 122)",
            "pattern": {
             "shape": ""
            }
           },
           "name": "kourtney",
           "offsetgroup": "kourtney",
           "orientation": "v",
           "showlegend": true,
           "text": [
            4
           ],
           "textposition": "auto",
           "type": "bar",
           "x": [
            "kourtney"
           ],
           "xaxis": "x",
           "y": [
            33
           ],
           "yaxis": "y"
          },
          {
           "alignmentgroup": "True",
           "hovertemplate": "=%{x}<br>month=2018<br>Sum of Interest Score=%{y}<br>rank=%{text}<extra></extra>",
           "legendgroup": "kendall",
           "marker": {
            "color": "rgb(250, 138, 118)",
            "pattern": {
             "shape": ""
            }
           },
           "name": "kendall",
           "offsetgroup": "kendall",
           "orientation": "v",
           "showlegend": true,
           "text": [
            3
           ],
           "textposition": "auto",
           "type": "bar",
           "x": [
            "kendall"
           ],
           "xaxis": "x",
           "y": [
            53
           ],
           "yaxis": "y"
          },
          {
           "alignmentgroup": "True",
           "hovertemplate": "=%{x}<br>month=2018<br>Sum of Interest Score=%{y}<br>rank=%{text}<extra></extra>",
           "legendgroup": "kylie",
           "marker": {
            "color": "rgb(255, 166, 121)",
            "pattern": {
             "shape": ""
            }
           },
           "name": "kylie",
           "offsetgroup": "kylie",
           "orientation": "v",
           "showlegend": true,
           "text": [
            1
           ],
           "textposition": "auto",
           "type": "bar",
           "x": [
            "kylie"
           ],
           "xaxis": "x",
           "y": [
            157
           ],
           "yaxis": "y"
          }
         ],
         "name": "2018"
        },
        {
         "data": [
          {
           "alignmentgroup": "True",
           "hovertemplate": "=%{x}<br>month=2019<br>Sum of Interest Score=%{y}<br>rank=%{text}<extra></extra>",
           "legendgroup": "khloe",
           "marker": {
            "color": "rgb(225, 83, 131)",
            "pattern": {
             "shape": ""
            }
           },
           "name": "khloe",
           "offsetgroup": "khloe",
           "orientation": "v",
           "showlegend": true,
           "text": [
            2
           ],
           "textposition": "auto",
           "type": "bar",
           "x": [
            "khloe"
           ],
           "xaxis": "x",
           "y": [
            42
           ],
           "yaxis": "y"
          },
          {
           "alignmentgroup": "True",
           "hovertemplate": "=%{x}<br>month=2019<br>Sum of Interest Score=%{y}<br>rank=%{text}<extra></extra>",
           "legendgroup": "kourtney",
           "marker": {
            "color": "rgb(241, 109, 122)",
            "pattern": {
             "shape": ""
            }
           },
           "name": "kourtney",
           "offsetgroup": "kourtney",
           "orientation": "v",
           "showlegend": true,
           "text": [
            4
           ],
           "textposition": "auto",
           "type": "bar",
           "x": [
            "kourtney"
           ],
           "xaxis": "x",
           "y": [
            22
           ],
           "yaxis": "y"
          },
          {
           "alignmentgroup": "True",
           "hovertemplate": "=%{x}<br>month=2019<br>Sum of Interest Score=%{y}<br>rank=%{text}<extra></extra>",
           "legendgroup": "kendall",
           "marker": {
            "color": "rgb(250, 138, 118)",
            "pattern": {
             "shape": ""
            }
           },
           "name": "kendall",
           "offsetgroup": "kendall",
           "orientation": "v",
           "showlegend": true,
           "text": [
            3
           ],
           "textposition": "auto",
           "type": "bar",
           "x": [
            "kendall"
           ],
           "xaxis": "x",
           "y": [
            41
           ],
           "yaxis": "y"
          },
          {
           "alignmentgroup": "True",
           "hovertemplate": "=%{x}<br>month=2019<br>Sum of Interest Score=%{y}<br>rank=%{text}<extra></extra>",
           "legendgroup": "kylie",
           "marker": {
            "color": "rgb(255, 166, 121)",
            "pattern": {
             "shape": ""
            }
           },
           "name": "kylie",
           "offsetgroup": "kylie",
           "orientation": "v",
           "showlegend": true,
           "text": [
            1
           ],
           "textposition": "auto",
           "type": "bar",
           "x": [
            "kylie"
           ],
           "xaxis": "x",
           "y": [
            120
           ],
           "yaxis": "y"
          }
         ],
         "name": "2019"
        },
        {
         "data": [
          {
           "alignmentgroup": "True",
           "hovertemplate": "=%{x}<br>month=2020<br>Sum of Interest Score=%{y}<br>rank=%{text}<extra></extra>",
           "legendgroup": "khloe",
           "marker": {
            "color": "rgb(225, 83, 131)",
            "pattern": {
             "shape": ""
            }
           },
           "name": "khloe",
           "offsetgroup": "khloe",
           "orientation": "v",
           "showlegend": true,
           "text": [
            3
           ],
           "textposition": "auto",
           "type": "bar",
           "x": [
            "khloe"
           ],
           "xaxis": "x",
           "y": [
            31
           ],
           "yaxis": "y"
          },
          {
           "alignmentgroup": "True",
           "hovertemplate": "=%{x}<br>month=2020<br>Sum of Interest Score=%{y}<br>rank=%{text}<extra></extra>",
           "legendgroup": "kourtney",
           "marker": {
            "color": "rgb(241, 109, 122)",
            "pattern": {
             "shape": ""
            }
           },
           "name": "kourtney",
           "offsetgroup": "kourtney",
           "orientation": "v",
           "showlegend": true,
           "text": [
            4
           ],
           "textposition": "auto",
           "type": "bar",
           "x": [
            "kourtney"
           ],
           "xaxis": "x",
           "y": [
            22
           ],
           "yaxis": "y"
          },
          {
           "alignmentgroup": "True",
           "hovertemplate": "=%{x}<br>month=2020<br>Sum of Interest Score=%{y}<br>rank=%{text}<extra></extra>",
           "legendgroup": "kendall",
           "marker": {
            "color": "rgb(250, 138, 118)",
            "pattern": {
             "shape": ""
            }
           },
           "name": "kendall",
           "offsetgroup": "kendall",
           "orientation": "v",
           "showlegend": true,
           "text": [
            2
           ],
           "textposition": "auto",
           "type": "bar",
           "x": [
            "kendall"
           ],
           "xaxis": "x",
           "y": [
            41
           ],
           "yaxis": "y"
          },
          {
           "alignmentgroup": "True",
           "hovertemplate": "=%{x}<br>month=2020<br>Sum of Interest Score=%{y}<br>rank=%{text}<extra></extra>",
           "legendgroup": "kylie",
           "marker": {
            "color": "rgb(255, 166, 121)",
            "pattern": {
             "shape": ""
            }
           },
           "name": "kylie",
           "offsetgroup": "kylie",
           "orientation": "v",
           "showlegend": true,
           "text": [
            1
           ],
           "textposition": "auto",
           "type": "bar",
           "x": [
            "kylie"
           ],
           "xaxis": "x",
           "y": [
            97
           ],
           "yaxis": "y"
          }
         ],
         "name": "2020"
        },
        {
         "data": [
          {
           "alignmentgroup": "True",
           "hovertemplate": "=%{x}<br>month=2021<br>Sum of Interest Score=%{y}<br>rank=%{text}<extra></extra>",
           "legendgroup": "khloe",
           "marker": {
            "color": "rgb(225, 83, 131)",
            "pattern": {
             "shape": ""
            }
           },
           "name": "khloe",
           "offsetgroup": "khloe",
           "orientation": "v",
           "showlegend": true,
           "text": [
            3
           ],
           "textposition": "auto",
           "type": "bar",
           "x": [
            "khloe"
           ],
           "xaxis": "x",
           "y": [
            36
           ],
           "yaxis": "y"
          },
          {
           "alignmentgroup": "True",
           "hovertemplate": "=%{x}<br>month=2021<br>Sum of Interest Score=%{y}<br>rank=%{text}<extra></extra>",
           "legendgroup": "kourtney",
           "marker": {
            "color": "rgb(241, 109, 122)",
            "pattern": {
             "shape": ""
            }
           },
           "name": "kourtney",
           "offsetgroup": "kourtney",
           "orientation": "v",
           "showlegend": true,
           "text": [
            4
           ],
           "textposition": "auto",
           "type": "bar",
           "x": [
            "kourtney"
           ],
           "xaxis": "x",
           "y": [
            30
           ],
           "yaxis": "y"
          },
          {
           "alignmentgroup": "True",
           "hovertemplate": "=%{x}<br>month=2021<br>Sum of Interest Score=%{y}<br>rank=%{text}<extra></extra>",
           "legendgroup": "kendall",
           "marker": {
            "color": "rgb(250, 138, 118)",
            "pattern": {
             "shape": ""
            }
           },
           "name": "kendall",
           "offsetgroup": "kendall",
           "orientation": "v",
           "showlegend": true,
           "text": [
            2
           ],
           "textposition": "auto",
           "type": "bar",
           "x": [
            "kendall"
           ],
           "xaxis": "x",
           "y": [
            45
           ],
           "yaxis": "y"
          },
          {
           "alignmentgroup": "True",
           "hovertemplate": "=%{x}<br>month=2021<br>Sum of Interest Score=%{y}<br>rank=%{text}<extra></extra>",
           "legendgroup": "kylie",
           "marker": {
            "color": "rgb(255, 166, 121)",
            "pattern": {
             "shape": ""
            }
           },
           "name": "kylie",
           "offsetgroup": "kylie",
           "orientation": "v",
           "showlegend": true,
           "text": [
            1
           ],
           "textposition": "auto",
           "type": "bar",
           "x": [
            "kylie"
           ],
           "xaxis": "x",
           "y": [
            82
           ],
           "yaxis": "y"
          }
         ],
         "name": "2021"
        },
        {
         "data": [
          {
           "alignmentgroup": "True",
           "hovertemplate": "=%{x}<br>month=2022<br>Sum of Interest Score=%{y}<br>rank=%{text}<extra></extra>",
           "legendgroup": "khloe",
           "marker": {
            "color": "rgb(225, 83, 131)",
            "pattern": {
             "shape": ""
            }
           },
           "name": "khloe",
           "offsetgroup": "khloe",
           "orientation": "v",
           "showlegend": true,
           "text": [
            3
           ],
           "textposition": "auto",
           "type": "bar",
           "x": [
            "khloe"
           ],
           "xaxis": "x",
           "y": [
            37
           ],
           "yaxis": "y"
          },
          {
           "alignmentgroup": "True",
           "hovertemplate": "=%{x}<br>month=2022<br>Sum of Interest Score=%{y}<br>rank=%{text}<extra></extra>",
           "legendgroup": "kourtney",
           "marker": {
            "color": "rgb(241, 109, 122)",
            "pattern": {
             "shape": ""
            }
           },
           "name": "kourtney",
           "offsetgroup": "kourtney",
           "orientation": "v",
           "showlegend": true,
           "text": [
            4
           ],
           "textposition": "auto",
           "type": "bar",
           "x": [
            "kourtney"
           ],
           "xaxis": "x",
           "y": [
            30
           ],
           "yaxis": "y"
          },
          {
           "alignmentgroup": "True",
           "hovertemplate": "=%{x}<br>month=2022<br>Sum of Interest Score=%{y}<br>rank=%{text}<extra></extra>",
           "legendgroup": "kendall",
           "marker": {
            "color": "rgb(250, 138, 118)",
            "pattern": {
             "shape": ""
            }
           },
           "name": "kendall",
           "offsetgroup": "kendall",
           "orientation": "v",
           "showlegend": true,
           "text": [
            2
           ],
           "textposition": "auto",
           "type": "bar",
           "x": [
            "kendall"
           ],
           "xaxis": "x",
           "y": [
            41
           ],
           "yaxis": "y"
          },
          {
           "alignmentgroup": "True",
           "hovertemplate": "=%{x}<br>month=2022<br>Sum of Interest Score=%{y}<br>rank=%{text}<extra></extra>",
           "legendgroup": "kylie",
           "marker": {
            "color": "rgb(255, 166, 121)",
            "pattern": {
             "shape": ""
            }
           },
           "name": "kylie",
           "offsetgroup": "kylie",
           "orientation": "v",
           "showlegend": true,
           "text": [
            1
           ],
           "textposition": "auto",
           "type": "bar",
           "x": [
            "kylie"
           ],
           "xaxis": "x",
           "y": [
            71
           ],
           "yaxis": "y"
          }
         ],
         "name": "2022"
        }
       ],
       "layout": {
        "barmode": "relative",
        "height": 600,
        "legend": {
         "title": {
          "text": ""
         },
         "tracegroupgap": 0
        },
        "margin": {
         "t": 60
        },
        "plot_bgcolor": "#fff",
        "showlegend": false,
        "sliders": [
         {
          "active": 0,
          "currentvalue": {
           "prefix": "month="
          },
          "len": 0.9,
          "pad": {
           "b": 10,
           "t": 60
          },
          "steps": [
           {
            "args": [
             [
              "2007"
             ],
             {
              "frame": {
               "duration": 0,
               "redraw": true
              },
              "fromcurrent": true,
              "mode": "immediate",
              "transition": {
               "duration": 0,
               "easing": "linear"
              }
             }
            ],
            "label": "2007",
            "method": "animate"
           },
           {
            "args": [
             [
              "2008"
             ],
             {
              "frame": {
               "duration": 0,
               "redraw": true
              },
              "fromcurrent": true,
              "mode": "immediate",
              "transition": {
               "duration": 0,
               "easing": "linear"
              }
             }
            ],
            "label": "2008",
            "method": "animate"
           },
           {
            "args": [
             [
              "2009"
             ],
             {
              "frame": {
               "duration": 0,
               "redraw": true
              },
              "fromcurrent": true,
              "mode": "immediate",
              "transition": {
               "duration": 0,
               "easing": "linear"
              }
             }
            ],
            "label": "2009",
            "method": "animate"
           },
           {
            "args": [
             [
              "2010"
             ],
             {
              "frame": {
               "duration": 0,
               "redraw": true
              },
              "fromcurrent": true,
              "mode": "immediate",
              "transition": {
               "duration": 0,
               "easing": "linear"
              }
             }
            ],
            "label": "2010",
            "method": "animate"
           },
           {
            "args": [
             [
              "2011"
             ],
             {
              "frame": {
               "duration": 0,
               "redraw": true
              },
              "fromcurrent": true,
              "mode": "immediate",
              "transition": {
               "duration": 0,
               "easing": "linear"
              }
             }
            ],
            "label": "2011",
            "method": "animate"
           },
           {
            "args": [
             [
              "2012"
             ],
             {
              "frame": {
               "duration": 0,
               "redraw": true
              },
              "fromcurrent": true,
              "mode": "immediate",
              "transition": {
               "duration": 0,
               "easing": "linear"
              }
             }
            ],
            "label": "2012",
            "method": "animate"
           },
           {
            "args": [
             [
              "2013"
             ],
             {
              "frame": {
               "duration": 0,
               "redraw": true
              },
              "fromcurrent": true,
              "mode": "immediate",
              "transition": {
               "duration": 0,
               "easing": "linear"
              }
             }
            ],
            "label": "2013",
            "method": "animate"
           },
           {
            "args": [
             [
              "2014"
             ],
             {
              "frame": {
               "duration": 0,
               "redraw": true
              },
              "fromcurrent": true,
              "mode": "immediate",
              "transition": {
               "duration": 0,
               "easing": "linear"
              }
             }
            ],
            "label": "2014",
            "method": "animate"
           },
           {
            "args": [
             [
              "2015"
             ],
             {
              "frame": {
               "duration": 0,
               "redraw": true
              },
              "fromcurrent": true,
              "mode": "immediate",
              "transition": {
               "duration": 0,
               "easing": "linear"
              }
             }
            ],
            "label": "2015",
            "method": "animate"
           },
           {
            "args": [
             [
              "2016"
             ],
             {
              "frame": {
               "duration": 0,
               "redraw": true
              },
              "fromcurrent": true,
              "mode": "immediate",
              "transition": {
               "duration": 0,
               "easing": "linear"
              }
             }
            ],
            "label": "2016",
            "method": "animate"
           },
           {
            "args": [
             [
              "2017"
             ],
             {
              "frame": {
               "duration": 0,
               "redraw": true
              },
              "fromcurrent": true,
              "mode": "immediate",
              "transition": {
               "duration": 0,
               "easing": "linear"
              }
             }
            ],
            "label": "2017",
            "method": "animate"
           },
           {
            "args": [
             [
              "2018"
             ],
             {
              "frame": {
               "duration": 0,
               "redraw": true
              },
              "fromcurrent": true,
              "mode": "immediate",
              "transition": {
               "duration": 0,
               "easing": "linear"
              }
             }
            ],
            "label": "2018",
            "method": "animate"
           },
           {
            "args": [
             [
              "2019"
             ],
             {
              "frame": {
               "duration": 0,
               "redraw": true
              },
              "fromcurrent": true,
              "mode": "immediate",
              "transition": {
               "duration": 0,
               "easing": "linear"
              }
             }
            ],
            "label": "2019",
            "method": "animate"
           },
           {
            "args": [
             [
              "2020"
             ],
             {
              "frame": {
               "duration": 0,
               "redraw": true
              },
              "fromcurrent": true,
              "mode": "immediate",
              "transition": {
               "duration": 0,
               "easing": "linear"
              }
             }
            ],
            "label": "2020",
            "method": "animate"
           },
           {
            "args": [
             [
              "2021"
             ],
             {
              "frame": {
               "duration": 0,
               "redraw": true
              },
              "fromcurrent": true,
              "mode": "immediate",
              "transition": {
               "duration": 0,
               "easing": "linear"
              }
             }
            ],
            "label": "2021",
            "method": "animate"
           },
           {
            "args": [
             [
              "2022"
             ],
             {
              "frame": {
               "duration": 0,
               "redraw": true
              },
              "fromcurrent": true,
              "mode": "immediate",
              "transition": {
               "duration": 0,
               "easing": "linear"
              }
             }
            ],
            "label": "2022",
            "method": "animate"
           }
          ],
          "x": 0.1,
          "xanchor": "left",
          "y": 0,
          "yanchor": "top"
         }
        ],
        "template": {
         "data": {
          "bar": [
           {
            "error_x": {
             "color": "#2a3f5f"
            },
            "error_y": {
             "color": "#2a3f5f"
            },
            "marker": {
             "line": {
              "color": "#E5ECF6",
              "width": 0.5
             },
             "pattern": {
              "fillmode": "overlay",
              "size": 10,
              "solidity": 0.2
             }
            },
            "type": "bar"
           }
          ],
          "barpolar": [
           {
            "marker": {
             "line": {
              "color": "#E5ECF6",
              "width": 0.5
             },
             "pattern": {
              "fillmode": "overlay",
              "size": 10,
              "solidity": 0.2
             }
            },
            "type": "barpolar"
           }
          ],
          "carpet": [
           {
            "aaxis": {
             "endlinecolor": "#2a3f5f",
             "gridcolor": "white",
             "linecolor": "white",
             "minorgridcolor": "white",
             "startlinecolor": "#2a3f5f"
            },
            "baxis": {
             "endlinecolor": "#2a3f5f",
             "gridcolor": "white",
             "linecolor": "white",
             "minorgridcolor": "white",
             "startlinecolor": "#2a3f5f"
            },
            "type": "carpet"
           }
          ],
          "choropleth": [
           {
            "colorbar": {
             "outlinewidth": 0,
             "ticks": ""
            },
            "type": "choropleth"
           }
          ],
          "contour": [
           {
            "colorbar": {
             "outlinewidth": 0,
             "ticks": ""
            },
            "colorscale": [
             [
              0,
              "#0d0887"
             ],
             [
              0.1111111111111111,
              "#46039f"
             ],
             [
              0.2222222222222222,
              "#7201a8"
             ],
             [
              0.3333333333333333,
              "#9c179e"
             ],
             [
              0.4444444444444444,
              "#bd3786"
             ],
             [
              0.5555555555555556,
              "#d8576b"
             ],
             [
              0.6666666666666666,
              "#ed7953"
             ],
             [
              0.7777777777777778,
              "#fb9f3a"
             ],
             [
              0.8888888888888888,
              "#fdca26"
             ],
             [
              1,
              "#f0f921"
             ]
            ],
            "type": "contour"
           }
          ],
          "contourcarpet": [
           {
            "colorbar": {
             "outlinewidth": 0,
             "ticks": ""
            },
            "type": "contourcarpet"
           }
          ],
          "heatmap": [
           {
            "colorbar": {
             "outlinewidth": 0,
             "ticks": ""
            },
            "colorscale": [
             [
              0,
              "#0d0887"
             ],
             [
              0.1111111111111111,
              "#46039f"
             ],
             [
              0.2222222222222222,
              "#7201a8"
             ],
             [
              0.3333333333333333,
              "#9c179e"
             ],
             [
              0.4444444444444444,
              "#bd3786"
             ],
             [
              0.5555555555555556,
              "#d8576b"
             ],
             [
              0.6666666666666666,
              "#ed7953"
             ],
             [
              0.7777777777777778,
              "#fb9f3a"
             ],
             [
              0.8888888888888888,
              "#fdca26"
             ],
             [
              1,
              "#f0f921"
             ]
            ],
            "type": "heatmap"
           }
          ],
          "heatmapgl": [
           {
            "colorbar": {
             "outlinewidth": 0,
             "ticks": ""
            },
            "colorscale": [
             [
              0,
              "#0d0887"
             ],
             [
              0.1111111111111111,
              "#46039f"
             ],
             [
              0.2222222222222222,
              "#7201a8"
             ],
             [
              0.3333333333333333,
              "#9c179e"
             ],
             [
              0.4444444444444444,
              "#bd3786"
             ],
             [
              0.5555555555555556,
              "#d8576b"
             ],
             [
              0.6666666666666666,
              "#ed7953"
             ],
             [
              0.7777777777777778,
              "#fb9f3a"
             ],
             [
              0.8888888888888888,
              "#fdca26"
             ],
             [
              1,
              "#f0f921"
             ]
            ],
            "type": "heatmapgl"
           }
          ],
          "histogram": [
           {
            "marker": {
             "pattern": {
              "fillmode": "overlay",
              "size": 10,
              "solidity": 0.2
             }
            },
            "type": "histogram"
           }
          ],
          "histogram2d": [
           {
            "colorbar": {
             "outlinewidth": 0,
             "ticks": ""
            },
            "colorscale": [
             [
              0,
              "#0d0887"
             ],
             [
              0.1111111111111111,
              "#46039f"
             ],
             [
              0.2222222222222222,
              "#7201a8"
             ],
             [
              0.3333333333333333,
              "#9c179e"
             ],
             [
              0.4444444444444444,
              "#bd3786"
             ],
             [
              0.5555555555555556,
              "#d8576b"
             ],
             [
              0.6666666666666666,
              "#ed7953"
             ],
             [
              0.7777777777777778,
              "#fb9f3a"
             ],
             [
              0.8888888888888888,
              "#fdca26"
             ],
             [
              1,
              "#f0f921"
             ]
            ],
            "type": "histogram2d"
           }
          ],
          "histogram2dcontour": [
           {
            "colorbar": {
             "outlinewidth": 0,
             "ticks": ""
            },
            "colorscale": [
             [
              0,
              "#0d0887"
             ],
             [
              0.1111111111111111,
              "#46039f"
             ],
             [
              0.2222222222222222,
              "#7201a8"
             ],
             [
              0.3333333333333333,
              "#9c179e"
             ],
             [
              0.4444444444444444,
              "#bd3786"
             ],
             [
              0.5555555555555556,
              "#d8576b"
             ],
             [
              0.6666666666666666,
              "#ed7953"
             ],
             [
              0.7777777777777778,
              "#fb9f3a"
             ],
             [
              0.8888888888888888,
              "#fdca26"
             ],
             [
              1,
              "#f0f921"
             ]
            ],
            "type": "histogram2dcontour"
           }
          ],
          "mesh3d": [
           {
            "colorbar": {
             "outlinewidth": 0,
             "ticks": ""
            },
            "type": "mesh3d"
           }
          ],
          "parcoords": [
           {
            "line": {
             "colorbar": {
              "outlinewidth": 0,
              "ticks": ""
             }
            },
            "type": "parcoords"
           }
          ],
          "pie": [
           {
            "automargin": true,
            "type": "pie"
           }
          ],
          "scatter": [
           {
            "fillpattern": {
             "fillmode": "overlay",
             "size": 10,
             "solidity": 0.2
            },
            "type": "scatter"
           }
          ],
          "scatter3d": [
           {
            "line": {
             "colorbar": {
              "outlinewidth": 0,
              "ticks": ""
             }
            },
            "marker": {
             "colorbar": {
              "outlinewidth": 0,
              "ticks": ""
             }
            },
            "type": "scatter3d"
           }
          ],
          "scattercarpet": [
           {
            "marker": {
             "colorbar": {
              "outlinewidth": 0,
              "ticks": ""
             }
            },
            "type": "scattercarpet"
           }
          ],
          "scattergeo": [
           {
            "marker": {
             "colorbar": {
              "outlinewidth": 0,
              "ticks": ""
             }
            },
            "type": "scattergeo"
           }
          ],
          "scattergl": [
           {
            "marker": {
             "colorbar": {
              "outlinewidth": 0,
              "ticks": ""
             }
            },
            "type": "scattergl"
           }
          ],
          "scattermapbox": [
           {
            "marker": {
             "colorbar": {
              "outlinewidth": 0,
              "ticks": ""
             }
            },
            "type": "scattermapbox"
           }
          ],
          "scatterpolar": [
           {
            "marker": {
             "colorbar": {
              "outlinewidth": 0,
              "ticks": ""
             }
            },
            "type": "scatterpolar"
           }
          ],
          "scatterpolargl": [
           {
            "marker": {
             "colorbar": {
              "outlinewidth": 0,
              "ticks": ""
             }
            },
            "type": "scatterpolargl"
           }
          ],
          "scatterternary": [
           {
            "marker": {
             "colorbar": {
              "outlinewidth": 0,
              "ticks": ""
             }
            },
            "type": "scatterternary"
           }
          ],
          "surface": [
           {
            "colorbar": {
             "outlinewidth": 0,
             "ticks": ""
            },
            "colorscale": [
             [
              0,
              "#0d0887"
             ],
             [
              0.1111111111111111,
              "#46039f"
             ],
             [
              0.2222222222222222,
              "#7201a8"
             ],
             [
              0.3333333333333333,
              "#9c179e"
             ],
             [
              0.4444444444444444,
              "#bd3786"
             ],
             [
              0.5555555555555556,
              "#d8576b"
             ],
             [
              0.6666666666666666,
              "#ed7953"
             ],
             [
              0.7777777777777778,
              "#fb9f3a"
             ],
             [
              0.8888888888888888,
              "#fdca26"
             ],
             [
              1,
              "#f0f921"
             ]
            ],
            "type": "surface"
           }
          ],
          "table": [
           {
            "cells": {
             "fill": {
              "color": "#EBF0F8"
             },
             "line": {
              "color": "white"
             }
            },
            "header": {
             "fill": {
              "color": "#C8D4E3"
             },
             "line": {
              "color": "white"
             }
            },
            "type": "table"
           }
          ]
         },
         "layout": {
          "annotationdefaults": {
           "arrowcolor": "#2a3f5f",
           "arrowhead": 0,
           "arrowwidth": 1
          },
          "autotypenumbers": "strict",
          "coloraxis": {
           "colorbar": {
            "outlinewidth": 0,
            "ticks": ""
           }
          },
          "colorscale": {
           "diverging": [
            [
             0,
             "#8e0152"
            ],
            [
             0.1,
             "#c51b7d"
            ],
            [
             0.2,
             "#de77ae"
            ],
            [
             0.3,
             "#f1b6da"
            ],
            [
             0.4,
             "#fde0ef"
            ],
            [
             0.5,
             "#f7f7f7"
            ],
            [
             0.6,
             "#e6f5d0"
            ],
            [
             0.7,
             "#b8e186"
            ],
            [
             0.8,
             "#7fbc41"
            ],
            [
             0.9,
             "#4d9221"
            ],
            [
             1,
             "#276419"
            ]
           ],
           "sequential": [
            [
             0,
             "#0d0887"
            ],
            [
             0.1111111111111111,
             "#46039f"
            ],
            [
             0.2222222222222222,
             "#7201a8"
            ],
            [
             0.3333333333333333,
             "#9c179e"
            ],
            [
             0.4444444444444444,
             "#bd3786"
            ],
            [
             0.5555555555555556,
             "#d8576b"
            ],
            [
             0.6666666666666666,
             "#ed7953"
            ],
            [
             0.7777777777777778,
             "#fb9f3a"
            ],
            [
             0.8888888888888888,
             "#fdca26"
            ],
            [
             1,
             "#f0f921"
            ]
           ],
           "sequentialminus": [
            [
             0,
             "#0d0887"
            ],
            [
             0.1111111111111111,
             "#46039f"
            ],
            [
             0.2222222222222222,
             "#7201a8"
            ],
            [
             0.3333333333333333,
             "#9c179e"
            ],
            [
             0.4444444444444444,
             "#bd3786"
            ],
            [
             0.5555555555555556,
             "#d8576b"
            ],
            [
             0.6666666666666666,
             "#ed7953"
            ],
            [
             0.7777777777777778,
             "#fb9f3a"
            ],
            [
             0.8888888888888888,
             "#fdca26"
            ],
            [
             1,
             "#f0f921"
            ]
           ]
          },
          "colorway": [
           "#636efa",
           "#EF553B",
           "#00cc96",
           "#ab63fa",
           "#FFA15A",
           "#19d3f3",
           "#FF6692",
           "#B6E880",
           "#FF97FF",
           "#FECB52"
          ],
          "font": {
           "color": "#2a3f5f"
          },
          "geo": {
           "bgcolor": "white",
           "lakecolor": "white",
           "landcolor": "#E5ECF6",
           "showlakes": true,
           "showland": true,
           "subunitcolor": "white"
          },
          "hoverlabel": {
           "align": "left"
          },
          "hovermode": "closest",
          "mapbox": {
           "style": "light"
          },
          "paper_bgcolor": "white",
          "plot_bgcolor": "#E5ECF6",
          "polar": {
           "angularaxis": {
            "gridcolor": "white",
            "linecolor": "white",
            "ticks": ""
           },
           "bgcolor": "#E5ECF6",
           "radialaxis": {
            "gridcolor": "white",
            "linecolor": "white",
            "ticks": ""
           }
          },
          "scene": {
           "xaxis": {
            "backgroundcolor": "#E5ECF6",
            "gridcolor": "white",
            "gridwidth": 2,
            "linecolor": "white",
            "showbackground": true,
            "ticks": "",
            "zerolinecolor": "white"
           },
           "yaxis": {
            "backgroundcolor": "#E5ECF6",
            "gridcolor": "white",
            "gridwidth": 2,
            "linecolor": "white",
            "showbackground": true,
            "ticks": "",
            "zerolinecolor": "white"
           },
           "zaxis": {
            "backgroundcolor": "#E5ECF6",
            "gridcolor": "white",
            "gridwidth": 2,
            "linecolor": "white",
            "showbackground": true,
            "ticks": "",
            "zerolinecolor": "white"
           }
          },
          "shapedefaults": {
           "line": {
            "color": "#2a3f5f"
           }
          },
          "ternary": {
           "aaxis": {
            "gridcolor": "white",
            "linecolor": "white",
            "ticks": ""
           },
           "baxis": {
            "gridcolor": "white",
            "linecolor": "white",
            "ticks": ""
           },
           "bgcolor": "#E5ECF6",
           "caxis": {
            "gridcolor": "white",
            "linecolor": "white",
            "ticks": ""
           }
          },
          "title": {
           "x": 0.05
          },
          "xaxis": {
           "automargin": true,
           "gridcolor": "white",
           "linecolor": "white",
           "ticks": "",
           "title": {
            "standoff": 15
           },
           "zerolinecolor": "white",
           "zerolinewidth": 2
          },
          "yaxis": {
           "automargin": true,
           "gridcolor": "white",
           "linecolor": "white",
           "ticks": "",
           "title": {
            "standoff": 15
           },
           "zerolinecolor": "white",
           "zerolinewidth": 2
          }
         }
        },
        "updatemenus": [
         {
          "buttons": [
           {
            "args": [
             null,
             {
              "frame": {
               "duration": 500,
               "redraw": true
              },
              "fromcurrent": true,
              "mode": "immediate",
              "transition": {
               "duration": 500,
               "easing": "linear"
              }
             }
            ],
            "label": "&#9654;",
            "method": "animate"
           },
           {
            "args": [
             [
              null
             ],
             {
              "frame": {
               "duration": 0,
               "redraw": true
              },
              "fromcurrent": true,
              "mode": "immediate",
              "transition": {
               "duration": 0,
               "easing": "linear"
              }
             }
            ],
            "label": "&#9724;",
            "method": "animate"
           }
          ],
          "direction": "left",
          "pad": {
           "r": 10,
           "t": 70
          },
          "showactive": false,
          "type": "buttons",
          "x": 0.1,
          "xanchor": "right",
          "y": 0,
          "yanchor": "top"
         }
        ],
        "width": 1000,
        "xaxis": {
         "anchor": "y",
         "categoryarray": [
          "khloe",
          "kourtney",
          "kendall",
          "kylie"
         ],
         "categoryorder": "array",
         "domain": [
          0,
          1
         ],
         "dtick": 1,
         "tickmode": "linear",
         "title": {
          "text": ""
         }
        },
        "yaxis": {
         "anchor": "x",
         "categoryorder": "total ascending",
         "domain": [
          0,
          1
         ],
         "range": [
          0,
          200
         ],
         "showgrid": false,
         "showline": false,
         "ticksuffix": " ",
         "title": {
          "text": "Sum of Interest Score"
         }
        }
       }
      }
     },
     "metadata": {},
     "output_type": "display_data"
    }
   ],
   "source": [
    "fig = px.bar(interest_sum_per_year, x='name', y='sum',\n",
    "            text='rank', \n",
    "             color='name',\n",
    "             animation_frame='month', \n",
    "             color_discrete_sequence=px.colors.sequential.Pinkyl_r,\n",
    "             labels={\n",
    "                     \"sum\": \"Sum of Interest Score\",\n",
    "                     \"name\": \"\"\n",
    "                 }\n",
    "            )\n",
    "\n",
    "#Aesthetic\n",
    "fig.update_yaxes(showgrid=False, categoryorder='total ascending', \n",
    "                 ticksuffix=' ', showline=False, range=[0,200])\n",
    "fig.update_layout(width=1000, height=600, showlegend=False,\n",
    "                  xaxis = dict(tickmode = 'linear', dtick = 1), \n",
    "                  plot_bgcolor = '#fff')\n",
    "fig.update_traces(textfont_size=16, textangle=0)\n",
    "\n",
    "fig.show()"
   ]
  },
  {
   "attachments": {},
   "cell_type": "markdown",
   "metadata": {},
   "source": [
    "The place of each varies greatly over time. We notice however that Kourtney is the one who is more discreet. Despite being a part of the family and appearing on the show for many seasons, Kourtney has not gained the same level of fame and attention as her sisters Kim, Khloe, and Kylie.\n",
    "There are a few reasons why Kourtney may be considered the \"least famous\" sister. One reason could be that she is less active on social media compared to her sisters, and therefore has less of a presence online. Another reason could be that she has focused more on her personal life and raising her children, rather than on building her public image and brand. Additionally, Kourtney has been less active in the reality show in the recent years which could have contributed to less attention on her.\n",
    "It's worth noting that fame and attention are subjective and people are drawn to different things, so what one person finds interesting or exciting may not be the same for another person."
   ]
  },
  {
   "attachments": {},
   "cell_type": "markdown",
   "metadata": {},
   "source": [
    "### 3.3 What to remember from 2022 ? "
   ]
  },
  {
   "cell_type": "code",
   "execution_count": 42,
   "metadata": {},
   "outputs": [],
   "source": [
    "# Data Preparation\n",
    "annual_mean_for_2022 = trends.loc['2022-01-01':'2022-12-31', :]\n",
    "annual_mean_for_2022 = annual_mean_for_2022.groupby(annual_mean_for_2022.index.day).mean()\n",
    "annual_mean_for_2022.reset_index(inplace=True)\n",
    "annual_mean_for_2022 = annual_mean_for_2022.melt(id_vars=['month'], \n",
    "                        value_vars=['kim', \"khloe\", \"kourtney\", \"kendall\", \"kylie\"], \n",
    "                        var_name='name', value_name='annual_mean')\n",
    "annual_mean_for_2022 = annual_mean_for_2022.sort_values('annual_mean', ascending = False)"
   ]
  },
  {
   "cell_type": "code",
   "execution_count": 43,
   "metadata": {},
   "outputs": [
    {
     "data": {
      "image/png": "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",
      "text/plain": [
       "<Figure size 1080x648 with 1 Axes>"
      ]
     },
     "metadata": {},
     "output_type": "display_data"
    }
   ],
   "source": [
    "# Fig params\n",
    "plt.style.use('ggplot')\n",
    "plt.rcParams['figure.figsize'] = [15, 9]\n",
    "ax = plt.axes()\n",
    "ax.set_facecolor(\"white\")\n",
    "\n",
    "# Bar chart\n",
    "plt.bar(annual_mean_for_2022['name'], annual_mean_for_2022['annual_mean'], color = 'pink')\n",
    "\n",
    "# Picture\n",
    "img = plt.imread('img/kimk.png')\n",
    "plt.imshow(img, extent=[-0.5, 0.6, 11.8, 15.8], aspect='auto', zorder=2)\n",
    "\n",
    "# Aesthetic\n",
    "plt.ylim(0, 16)\n",
    "plt.xlim(-0.5, 4.5)\n",
    "plt.grid(False)\n",
    "plt.ylabel('Average interest score per month')\n",
    "plt.title('Ranking by interest for 2022')\n",
    "plt.tick_params(\n",
    "    axis='x',          # changes apply to the x-axis\n",
    "    which='both',      # both major and minor ticks are affected\n",
    "    bottom=False)"
   ]
  },
  {
   "attachments": {},
   "cell_type": "markdown",
   "metadata": {},
   "source": [
    "Kim Kardashian West succeed to stay the most famous sister among the Kardashian-Jenner family due to her ability to maintain a high level of visibility and public attention over the years.\n",
    "\n",
    "One reason for her fame could be her active presence on social media platforms, such as Instagram and Twitter, where she has a large following. She has been able to leverage her social media presence to promote her various business ventures and personal brand.\n",
    "\n",
    "Another reason for her fame is her reality TV show \"Keeping Up with the Kardashians\" which gave her a platform to showcase her personal and professional life. Kim has been one of the main cast of the show from the beginning, and her character has been one of the most followed and talked about.\n",
    "\n",
    "Additionally, Kim has been able to successfully branch out into different industries, such as fashion and beauty, with her own clothing and makeup lines. She is also known for her philanthropic work, which has earned her a lot of respect and admiration.\n",
    "\n",
    "Overall, Kim's fame can be attributed to a combination of her active social media presence, her role on the reality show, her business ventures, and her overall public image.\n",
   ]
  }
 ],
 "metadata": {
  "kernelspec": {
   "display_name": "base",
   "language": "python",
   "name": "python3"
  },
  "language_info": {
   "codemirror_mode": {
    "name": "ipython",
    "version": 3
   },
   "file_extension": ".py",
   "mimetype": "text/x-python",
   "name": "python",
   "nbconvert_exporter": "python",
   "pygments_lexer": "ipython3",
   "version": "3.9.7"
  },
  "orig_nbformat": 4,
  "vscode": {
   "interpreter": {
    "hash": "40d3a090f54c6569ab1632332b64b2c03c39dcf918b08424e98f38b5ae0af88f"
   }
  }
 },
 "nbformat": 4,
 "nbformat_minor": 2
}
