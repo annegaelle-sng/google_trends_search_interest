{
 "cells": [
  {
   "attachments": {},
   "cell_type": "markdown",
   "metadata": {},
   "source": [
    "# Which Kardashian/Jenner sister is the most famous ?  - Google Search Trends Analysis\n",
    "\n",
    "The Kardashian/Jenner clan are sisters who have gained fame and success in various industries. The sisters include Kourtney, Kim, Khloe, Kendall, and Kylie. They first rose to fame through their reality TV show, \"Keeping Up with the Kardashians,\" which premiered in 2007 and has since become one of the longest-running reality TV shows in history.\n",
    "\n",
    "<p><img src=\"https://images.ctfassets.net/iyiurthvosft/3m77F6haKwcXqNoKExLISu/fe04d04b910d06269a93dba967d91d3d/Kardashian_Jenner_Family.jpg?fm=jpg&fl=progressive&q=50&w=1200\" alt=\"Kardashian Jenner family\"></p> \n",
    "\n",
    "- **Kim Kardashian**: known for her successful career in the entertainment industry, including her reality TV show, her various business ventures, and her social media presence. She is also known for her role as a legal advocate and her work to reform the criminal justice system.\n",
    "\n",
    "- **Kourtney Kardashian**: known for her minimalistic lifestyle and her focus on health and wellness. She is also known for her various business ventures and her social media presence.\n",
    "\n",
    "- **Khloe Kardashian**: known for her successful career as a television personality and her work as a fitness and lifestyle influencer. She is also known for her role as a legal advocate and her work to reform the criminal justice system.\n",
    "\n",
    "- **Kendall Jenner**: a successful model, who has walked in various fashion shows and has modeled for some of the most famous fashion brands in the world. She is also known for her work as a television personality and her social media presence.\n",
    "\n",
    "- **Kylie Jenner**: a businesswoman and social media influencer, she founded Kylie Cosmetics, which became one of the most successful makeup companies in the world. She is also known for her successful career as a television personality.\n",
    "\n",
    "The Kardashian/Jenner sisters have become household names and have a significant influence in the entertainment industry and the fashion world. They are known for their unique personalities, their business acumen, and their ability to adapt to changing trends and technologies.\n"
   ]
  },
  {
   "cell_type": "code",
   "execution_count": 193,
   "metadata": {},
   "outputs": [],
   "source": [
    "#Libraries \n",
    "import pandas as pd\n",
    "from bokeh.io import show, output_notebook, push_notebook\n",
    "from bokeh.plotting import figure\n",
    "from bokeh.models import HoverTool, Legend, LegendItem\n",
    "from bokeh.palettes import Set1, Bokeh\n",
    "import matplotlib.pyplot as plt\n",
    "import plotly.express as px"
   ]
  },
  {
   "cell_type": "code",
   "execution_count": 5,
   "metadata": {},
   "outputs": [
    {
     "data": {
      "text/html": [
       "<div>\n",
       "<style scoped>\n",
       "    .dataframe tbody tr th:only-of-type {\n",
       "        vertical-align: middle;\n",
       "    }\n",
       "\n",
       "    .dataframe tbody tr th {\n",
       "        vertical-align: top;\n",
       "    }\n",
       "\n",
       "    .dataframe thead th {\n",
       "        text-align: right;\n",
       "    }\n",
       "</style>\n",
       "<table border=\"1\" class=\"dataframe\">\n",
       "  <thead>\n",
       "    <tr style=\"text-align: right;\">\n",
       "      <th></th>\n",
       "      <th>Mois</th>\n",
       "      <th>Kim Kardashian: (Dans tous les pays)</th>\n",
       "      <th>Khloé Kardashian: (Dans tous les pays)</th>\n",
       "      <th>Kourtney Kardashian: (Dans tous les pays)</th>\n",
       "      <th>Kendall Jenner: (Dans tous les pays)</th>\n",
       "      <th>Kylie Jenner: (Dans tous les pays)</th>\n",
       "    </tr>\n",
       "  </thead>\n",
       "  <tbody>\n",
       "    <tr>\n",
       "      <th>0</th>\n",
       "      <td>2007-01</td>\n",
       "      <td>3</td>\n",
       "      <td>&lt; 1</td>\n",
       "      <td>&lt; 1</td>\n",
       "      <td>&lt; 1</td>\n",
       "      <td>1</td>\n",
       "    </tr>\n",
       "    <tr>\n",
       "      <th>1</th>\n",
       "      <td>2007-02</td>\n",
       "      <td>13</td>\n",
       "      <td>&lt; 1</td>\n",
       "      <td>&lt; 1</td>\n",
       "      <td>&lt; 1</td>\n",
       "      <td>1</td>\n",
       "    </tr>\n",
       "    <tr>\n",
       "      <th>2</th>\n",
       "      <td>2007-03</td>\n",
       "      <td>9</td>\n",
       "      <td>&lt; 1</td>\n",
       "      <td>&lt; 1</td>\n",
       "      <td>&lt; 1</td>\n",
       "      <td>1</td>\n",
       "    </tr>\n",
       "    <tr>\n",
       "      <th>3</th>\n",
       "      <td>2007-04</td>\n",
       "      <td>6</td>\n",
       "      <td>&lt; 1</td>\n",
       "      <td>&lt; 1</td>\n",
       "      <td>&lt; 1</td>\n",
       "      <td>1</td>\n",
       "    </tr>\n",
       "    <tr>\n",
       "      <th>4</th>\n",
       "      <td>2007-05</td>\n",
       "      <td>6</td>\n",
       "      <td>&lt; 1</td>\n",
       "      <td>&lt; 1</td>\n",
       "      <td>&lt; 1</td>\n",
       "      <td>1</td>\n",
       "    </tr>\n",
       "  </tbody>\n",
       "</table>\n",
       "</div>"
      ],
      "text/plain": [
       "      Mois  Kim Kardashian: (Dans tous les pays)  \\\n",
       "0  2007-01                                     3   \n",
       "1  2007-02                                    13   \n",
       "2  2007-03                                     9   \n",
       "3  2007-04                                     6   \n",
       "4  2007-05                                     6   \n",
       "\n",
       "  Khloé Kardashian: (Dans tous les pays)  \\\n",
       "0                                    < 1   \n",
       "1                                    < 1   \n",
       "2                                    < 1   \n",
       "3                                    < 1   \n",
       "4                                    < 1   \n",
       "\n",
       "  Kourtney Kardashian: (Dans tous les pays)  \\\n",
       "0                                       < 1   \n",
       "1                                       < 1   \n",
       "2                                       < 1   \n",
       "3                                       < 1   \n",
       "4                                       < 1   \n",
       "\n",
       "  Kendall Jenner: (Dans tous les pays) Kylie Jenner: (Dans tous les pays)  \n",
       "0                                  < 1                                  1  \n",
       "1                                  < 1                                  1  \n",
       "2                                  < 1                                  1  \n",
       "3                                  < 1                                  1  \n",
       "4                                  < 1                                  1  "
      ]
     },
     "execution_count": 5,
     "metadata": {},
     "output_type": "execute_result"
    }
   ],
   "source": [
    "# Read in dataset\n",
    "trends = pd.read_csv('datasets/google_trends_kardashian_jenner.csv', skiprows=1)\n",
    "trends.head()"
   ]
  },
  {
   "attachments": {},
   "cell_type": "markdown",
   "metadata": {},
   "source": [
    "## Data Cleaning"
   ]
  },
  {
   "cell_type": "code",
   "execution_count": 6,
   "metadata": {},
   "outputs": [
    {
     "name": "stdout",
     "output_type": "stream",
     "text": [
      "<class 'pandas.core.frame.DataFrame'>\n",
      "RangeIndex: 193 entries, 0 to 192\n",
      "Data columns (total 6 columns):\n",
      " #   Column                                     Non-Null Count  Dtype \n",
      "---  ------                                     --------------  ----- \n",
      " 0   Mois                                       193 non-null    object\n",
      " 1   Kim Kardashian: (Dans tous les pays)       193 non-null    int64 \n",
      " 2   Khloé Kardashian: (Dans tous les pays)     193 non-null    object\n",
      " 3   Kourtney Kardashian: (Dans tous les pays)  193 non-null    object\n",
      " 4   Kendall Jenner: (Dans tous les pays)       193 non-null    object\n",
      " 5   Kylie Jenner: (Dans tous les pays)         193 non-null    object\n",
      "dtypes: int64(1), object(5)\n",
      "memory usage: 9.2+ KB\n"
     ]
    }
   ],
   "source": [
    "trends.info()"
   ]
  },
  {
   "cell_type": "code",
   "execution_count": 7,
   "metadata": {},
   "outputs": [],
   "source": [
    "# Rename the columns\n",
    "trends.columns = [\"month\", \"kim\", \"khloe\", \"kourtney\", \"kendall\", \"kylie\"]"
   ]
  },
  {
   "cell_type": "code",
   "execution_count": 8,
   "metadata": {},
   "outputs": [
    {
     "name": "stdout",
     "output_type": "stream",
     "text": [
      "<class 'pandas.core.frame.DataFrame'>\n",
      "DatetimeIndex: 193 entries, 2007-01-01 to 2023-01-01\n",
      "Data columns (total 5 columns):\n",
      " #   Column    Non-Null Count  Dtype\n",
      "---  ------    --------------  -----\n",
      " 0   kim       193 non-null    int64\n",
      " 1   khloe     193 non-null    int64\n",
      " 2   kourtney  193 non-null    int64\n",
      " 3   kendall   193 non-null    int64\n",
      " 4   kylie     193 non-null    int64\n",
      "dtypes: int64(5)\n",
      "memory usage: 9.0 KB\n"
     ]
    },
    {
     "data": {
      "text/html": [
       "<div>\n",
       "<style scoped>\n",
       "    .dataframe tbody tr th:only-of-type {\n",
       "        vertical-align: middle;\n",
       "    }\n",
       "\n",
       "    .dataframe tbody tr th {\n",
       "        vertical-align: top;\n",
       "    }\n",
       "\n",
       "    .dataframe thead th {\n",
       "        text-align: right;\n",
       "    }\n",
       "</style>\n",
       "<table border=\"1\" class=\"dataframe\">\n",
       "  <thead>\n",
       "    <tr style=\"text-align: right;\">\n",
       "      <th></th>\n",
       "      <th>kim</th>\n",
       "      <th>khloe</th>\n",
       "      <th>kourtney</th>\n",
       "      <th>kendall</th>\n",
       "      <th>kylie</th>\n",
       "    </tr>\n",
       "    <tr>\n",
       "      <th>month</th>\n",
       "      <th></th>\n",
       "      <th></th>\n",
       "      <th></th>\n",
       "      <th></th>\n",
       "      <th></th>\n",
       "    </tr>\n",
       "  </thead>\n",
       "  <tbody>\n",
       "    <tr>\n",
       "      <th>2007-01-01</th>\n",
       "      <td>3</td>\n",
       "      <td>1</td>\n",
       "      <td>1</td>\n",
       "      <td>1</td>\n",
       "      <td>1</td>\n",
       "    </tr>\n",
       "    <tr>\n",
       "      <th>2007-02-01</th>\n",
       "      <td>13</td>\n",
       "      <td>1</td>\n",
       "      <td>1</td>\n",
       "      <td>1</td>\n",
       "      <td>1</td>\n",
       "    </tr>\n",
       "    <tr>\n",
       "      <th>2007-03-01</th>\n",
       "      <td>9</td>\n",
       "      <td>1</td>\n",
       "      <td>1</td>\n",
       "      <td>1</td>\n",
       "      <td>1</td>\n",
       "    </tr>\n",
       "    <tr>\n",
       "      <th>2007-04-01</th>\n",
       "      <td>6</td>\n",
       "      <td>1</td>\n",
       "      <td>1</td>\n",
       "      <td>1</td>\n",
       "      <td>1</td>\n",
       "    </tr>\n",
       "    <tr>\n",
       "      <th>2007-05-01</th>\n",
       "      <td>6</td>\n",
       "      <td>1</td>\n",
       "      <td>1</td>\n",
       "      <td>1</td>\n",
       "      <td>1</td>\n",
       "    </tr>\n",
       "  </tbody>\n",
       "</table>\n",
       "</div>"
      ],
      "text/plain": [
       "            kim  khloe  kourtney  kendall  kylie\n",
       "month                                           \n",
       "2007-01-01    3      1         1        1      1\n",
       "2007-02-01   13      1         1        1      1\n",
       "2007-03-01    9      1         1        1      1\n",
       "2007-04-01    6      1         1        1      1\n",
       "2007-05-01    6      1         1        1      1"
      ]
     },
     "execution_count": 8,
     "metadata": {},
     "output_type": "execute_result"
    }
   ],
   "source": [
    "# Remove spaces and special characters\n",
    "for column in trends.columns:\n",
    "    if \"<\" in trends[column].to_string(): \n",
    "        trends[column] = trends[column].str.replace(\"<\", \"\").str.strip()\n",
    "        trends[column] = pd.to_numeric(trends[column])\n",
    "\n",
    "# Convert month and set index\n",
    "trends['month'] = pd.to_datetime(trends['month'])\n",
    "trends = trends.set_index('month')\n",
    "\n",
    "# Inspect data types and data\n",
    "trends.info()\n",
    "trends.head()"
   ]
  },
  {
   "attachments": {},
   "cell_type": "markdown",
   "metadata": {},
   "source": [
    "## Data Visualization"
   ]
  },
  {
   "cell_type": "code",
   "execution_count": 9,
   "metadata": {},
   "outputs": [
    {
     "data": {
      "text/html": [
       "\n",
       "    <div class=\"bk-root\">\n",
       "        <a href=\"https://bokeh.org\" target=\"_blank\" class=\"bk-logo bk-logo-small bk-logo-notebook\"></a>\n",
       "        <span id=\"1002\">Loading BokehJS ...</span>\n",
       "    </div>"
      ]
     },
     "metadata": {},
     "output_type": "display_data"
    },
    {
     "data": {
      "application/javascript": "\n(function(root) {\n  function now() {\n    return new Date();\n  }\n\n  const force = true;\n\n  if (typeof root._bokeh_onload_callbacks === \"undefined\" || force === true) {\n    root._bokeh_onload_callbacks = [];\n    root._bokeh_is_loading = undefined;\n  }\n\n  const JS_MIME_TYPE = 'application/javascript';\n  const HTML_MIME_TYPE = 'text/html';\n  const EXEC_MIME_TYPE = 'application/vnd.bokehjs_exec.v0+json';\n  const CLASS_NAME = 'output_bokeh rendered_html';\n\n  /**\n   * Render data to the DOM node\n   */\n  function render(props, node) {\n    const script = document.createElement(\"script\");\n    node.appendChild(script);\n  }\n\n  /**\n   * Handle when an output is cleared or removed\n   */\n  function handleClearOutput(event, handle) {\n    const cell = handle.cell;\n\n    const id = cell.output_area._bokeh_element_id;\n    const server_id = cell.output_area._bokeh_server_id;\n    // Clean up Bokeh references\n    if (id != null && id in Bokeh.index) {\n      Bokeh.index[id].model.document.clear();\n      delete Bokeh.index[id];\n    }\n\n    if (server_id !== undefined) {\n      // Clean up Bokeh references\n      const cmd_clean = \"from bokeh.io.state import curstate; print(curstate().uuid_to_server['\" + server_id + \"'].get_sessions()[0].document.roots[0]._id)\";\n      cell.notebook.kernel.execute(cmd_clean, {\n        iopub: {\n          output: function(msg) {\n            const id = msg.content.text.trim();\n            if (id in Bokeh.index) {\n              Bokeh.index[id].model.document.clear();\n              delete Bokeh.index[id];\n            }\n          }\n        }\n      });\n      // Destroy server and session\n      const cmd_destroy = \"import bokeh.io.notebook as ion; ion.destroy_server('\" + server_id + \"')\";\n      cell.notebook.kernel.execute(cmd_destroy);\n    }\n  }\n\n  /**\n   * Handle when a new output is added\n   */\n  function handleAddOutput(event, handle) {\n    const output_area = handle.output_area;\n    const output = handle.output;\n\n    // limit handleAddOutput to display_data with EXEC_MIME_TYPE content only\n    if ((output.output_type != \"display_data\") || (!Object.prototype.hasOwnProperty.call(output.data, EXEC_MIME_TYPE))) {\n      return\n    }\n\n    const toinsert = output_area.element.find(\".\" + CLASS_NAME.split(' ')[0]);\n\n    if (output.metadata[EXEC_MIME_TYPE][\"id\"] !== undefined) {\n      toinsert[toinsert.length - 1].firstChild.textContent = output.data[JS_MIME_TYPE];\n      // store reference to embed id on output_area\n      output_area._bokeh_element_id = output.metadata[EXEC_MIME_TYPE][\"id\"];\n    }\n    if (output.metadata[EXEC_MIME_TYPE][\"server_id\"] !== undefined) {\n      const bk_div = document.createElement(\"div\");\n      bk_div.innerHTML = output.data[HTML_MIME_TYPE];\n      const script_attrs = bk_div.children[0].attributes;\n      for (let i = 0; i < script_attrs.length; i++) {\n        toinsert[toinsert.length - 1].firstChild.setAttribute(script_attrs[i].name, script_attrs[i].value);\n        toinsert[toinsert.length - 1].firstChild.textContent = bk_div.children[0].textContent\n      }\n      // store reference to server id on output_area\n      output_area._bokeh_server_id = output.metadata[EXEC_MIME_TYPE][\"server_id\"];\n    }\n  }\n\n  function register_renderer(events, OutputArea) {\n\n    function append_mime(data, metadata, element) {\n      // create a DOM node to render to\n      const toinsert = this.create_output_subarea(\n        metadata,\n        CLASS_NAME,\n        EXEC_MIME_TYPE\n      );\n      this.keyboard_manager.register_events(toinsert);\n      // Render to node\n      const props = {data: data, metadata: metadata[EXEC_MIME_TYPE]};\n      render(props, toinsert[toinsert.length - 1]);\n      element.append(toinsert);\n      return toinsert\n    }\n\n    /* Handle when an output is cleared or removed */\n    events.on('clear_output.CodeCell', handleClearOutput);\n    events.on('delete.Cell', handleClearOutput);\n\n    /* Handle when a new output is added */\n    events.on('output_added.OutputArea', handleAddOutput);\n\n    /**\n     * Register the mime type and append_mime function with output_area\n     */\n    OutputArea.prototype.register_mime_type(EXEC_MIME_TYPE, append_mime, {\n      /* Is output safe? */\n      safe: true,\n      /* Index of renderer in `output_area.display_order` */\n      index: 0\n    });\n  }\n\n  // register the mime type if in Jupyter Notebook environment and previously unregistered\n  if (root.Jupyter !== undefined) {\n    const events = require('base/js/events');\n    const OutputArea = require('notebook/js/outputarea').OutputArea;\n\n    if (OutputArea.prototype.mime_types().indexOf(EXEC_MIME_TYPE) == -1) {\n      register_renderer(events, OutputArea);\n    }\n  }\n\n  \n  if (typeof (root._bokeh_timeout) === \"undefined\" || force === true) {\n    root._bokeh_timeout = Date.now() + 5000;\n    root._bokeh_failed_load = false;\n  }\n\n  const NB_LOAD_WARNING = {'data': {'text/html':\n     \"<div style='background-color: #fdd'>\\n\"+\n     \"<p>\\n\"+\n     \"BokehJS does not appear to have successfully loaded. If loading BokehJS from CDN, this \\n\"+\n     \"may be due to a slow or bad network connection. Possible fixes:\\n\"+\n     \"</p>\\n\"+\n     \"<ul>\\n\"+\n     \"<li>re-rerun `output_notebook()` to attempt to load from CDN again, or</li>\\n\"+\n     \"<li>use INLINE resources instead, as so:</li>\\n\"+\n     \"</ul>\\n\"+\n     \"<code>\\n\"+\n     \"from bokeh.resources import INLINE\\n\"+\n     \"output_notebook(resources=INLINE)\\n\"+\n     \"</code>\\n\"+\n     \"</div>\"}};\n\n  function display_loaded() {\n    const el = document.getElementById(\"1002\");\n    if (el != null) {\n      el.textContent = \"BokehJS is loading...\";\n    }\n    if (root.Bokeh !== undefined) {\n      if (el != null) {\n        el.textContent = \"BokehJS \" + root.Bokeh.version + \" successfully loaded.\";\n      }\n    } else if (Date.now() < root._bokeh_timeout) {\n      setTimeout(display_loaded, 100)\n    }\n  }\n\n\n  function run_callbacks() {\n    try {\n      root._bokeh_onload_callbacks.forEach(function(callback) {\n        if (callback != null)\n          callback();\n      });\n    } finally {\n      delete root._bokeh_onload_callbacks\n    }\n    console.debug(\"Bokeh: all callbacks have finished\");\n  }\n\n  function load_libs(css_urls, js_urls, callback) {\n    if (css_urls == null) css_urls = [];\n    if (js_urls == null) js_urls = [];\n\n    root._bokeh_onload_callbacks.push(callback);\n    if (root._bokeh_is_loading > 0) {\n      console.debug(\"Bokeh: BokehJS is being loaded, scheduling callback at\", now());\n      return null;\n    }\n    if (js_urls == null || js_urls.length === 0) {\n      run_callbacks();\n      return null;\n    }\n    console.debug(\"Bokeh: BokehJS not loaded, scheduling load and callback at\", now());\n    root._bokeh_is_loading = css_urls.length + js_urls.length;\n\n    function on_load() {\n      root._bokeh_is_loading--;\n      if (root._bokeh_is_loading === 0) {\n        console.debug(\"Bokeh: all BokehJS libraries/stylesheets loaded\");\n        run_callbacks()\n      }\n    }\n\n    function on_error(url) {\n      console.error(\"failed to load \" + url);\n    }\n\n    for (let i = 0; i < css_urls.length; i++) {\n      const url = css_urls[i];\n      const element = document.createElement(\"link\");\n      element.onload = on_load;\n      element.onerror = on_error.bind(null, url);\n      element.rel = \"stylesheet\";\n      element.type = \"text/css\";\n      element.href = url;\n      console.debug(\"Bokeh: injecting link tag for BokehJS stylesheet: \", url);\n      document.body.appendChild(element);\n    }\n\n    for (let i = 0; i < js_urls.length; i++) {\n      const url = js_urls[i];\n      const element = document.createElement('script');\n      element.onload = on_load;\n      element.onerror = on_error.bind(null, url);\n      element.async = false;\n      element.src = url;\n      console.debug(\"Bokeh: injecting script tag for BokehJS library: \", url);\n      document.head.appendChild(element);\n    }\n  };\n\n  function inject_raw_css(css) {\n    const element = document.createElement(\"style\");\n    element.appendChild(document.createTextNode(css));\n    document.body.appendChild(element);\n  }\n\n  \n  const js_urls = [\"https://cdn.bokeh.org/bokeh/release/bokeh-2.4.2.min.js\", \"https://cdn.bokeh.org/bokeh/release/bokeh-gl-2.4.2.min.js\", \"https://cdn.bokeh.org/bokeh/release/bokeh-widgets-2.4.2.min.js\", \"https://cdn.bokeh.org/bokeh/release/bokeh-tables-2.4.2.min.js\", \"https://cdn.bokeh.org/bokeh/release/bokeh-mathjax-2.4.2.min.js\"];\n  const css_urls = [];\n  \n\n  const inline_js = [\n    function(Bokeh) {\n      Bokeh.set_log_level(\"info\");\n    },\n    function(Bokeh) {\n    \n    \n    }\n  ];\n\n  function run_inline_js() {\n    \n    if (root.Bokeh !== undefined || force === true) {\n      \n    for (let i = 0; i < inline_js.length; i++) {\n      inline_js[i].call(root, root.Bokeh);\n    }\n    if (force === true) {\n        display_loaded();\n      }} else if (Date.now() < root._bokeh_timeout) {\n      setTimeout(run_inline_js, 100);\n    } else if (!root._bokeh_failed_load) {\n      console.log(\"Bokeh: BokehJS failed to load within specified timeout.\");\n      root._bokeh_failed_load = true;\n    } else if (force !== true) {\n      const cell = $(document.getElementById(\"1002\")).parents('.cell').data().cell;\n      cell.output_area.append_execute_result(NB_LOAD_WARNING)\n    }\n\n  }\n\n  if (root._bokeh_is_loading === 0) {\n    console.debug(\"Bokeh: BokehJS loaded, going straight to plotting\");\n    run_inline_js();\n  } else {\n    load_libs(css_urls, js_urls, function() {\n      console.debug(\"Bokeh: BokehJS plotting callback run at\", now());\n      run_inline_js();\n    });\n  }\n}(window));",
      "application/vnd.bokehjs_load.v0+json": ""
     },
     "metadata": {},
     "output_type": "display_data"
    }
   ],
   "source": [
    "output_notebook()"
   ]
  },
  {
   "cell_type": "code",
   "execution_count": 195,
   "metadata": {},
   "outputs": [
    {
     "data": {
      "text/html": [
       "\n",
       "\n",
       "\n",
       "\n",
       "\n",
       "\n",
       "  <div class=\"bk-root\" id=\"1905c5c3-5169-4ece-8cea-e410bdfbb4ce\" data-root-id=\"2628\"></div>\n"
      ]
     },
     "metadata": {},
     "output_type": "display_data"
    },
    {
     "data": {
      "application/javascript": "(function(root) {\n  function embed_document(root) {\n    \n  const docs_json = {\"1470e582-e6aa-4b4a-8dc3-f02be98bf91e\":{\"defs\":[],\"roots\":{\"references\":[{\"attributes\":{\"below\":[{\"id\":\"2639\"}],\"center\":[{\"id\":\"2642\"},{\"id\":\"2646\"},{\"id\":\"2676\"}],\"height\":400,\"left\":[{\"id\":\"2643\"}],\"renderers\":[{\"id\":\"2653\"},{\"id\":\"2682\"},{\"id\":\"2712\"},{\"id\":\"2744\"},{\"id\":\"2778\"}],\"sizing_mode\":\"stretch_width\",\"title\":{\"id\":\"2629\"},\"toolbar\":{\"id\":\"2647\"},\"x_range\":{\"id\":\"2631\"},\"x_scale\":{\"id\":\"2635\"},\"y_range\":{\"id\":\"2633\"},\"y_scale\":{\"id\":\"2637\"}},\"id\":\"2628\",\"subtype\":\"Figure\",\"type\":\"Plot\"},{\"attributes\":{},\"id\":\"2633\",\"type\":\"DataRange1d\"},{\"attributes\":{\"coordinates\":null,\"data_source\":{\"id\":\"2649\"},\"glyph\":{\"id\":\"2650\"},\"group\":null,\"hover_glyph\":null,\"muted_glyph\":{\"id\":\"2652\"},\"nonselection_glyph\":{\"id\":\"2651\"},\"view\":{\"id\":\"2654\"}},\"id\":\"2653\",\"type\":\"GlyphRenderer\"},{\"attributes\":{\"line_alpha\":0.1,\"line_color\":\"#F6A91B\",\"line_width\":2,\"x\":{\"field\":\"x\"},\"y\":{\"field\":\"y\"}},\"id\":\"2710\",\"type\":\"Line\"},{\"attributes\":{\"label\":{\"value\":\"kim\"},\"renderers\":[{\"id\":\"2653\"}]},\"id\":\"2677\",\"type\":\"LegendItem\"},{\"attributes\":{\"coordinates\":null,\"data_source\":{\"id\":\"2774\"},\"glyph\":{\"id\":\"2775\"},\"group\":null,\"hover_glyph\":null,\"muted_glyph\":{\"id\":\"2777\"},\"nonselection_glyph\":{\"id\":\"2776\"},\"view\":{\"id\":\"2779\"}},\"id\":\"2778\",\"type\":\"GlyphRenderer\"},{\"attributes\":{\"line_alpha\":0.1,\"line_color\":\"#A5CD39\",\"line_width\":2,\"x\":{\"field\":\"x\"},\"y\":{\"field\":\"y\"}},\"id\":\"2742\",\"type\":\"Line\"},{\"attributes\":{\"num_minor_ticks\":5,\"tickers\":[{\"id\":\"2664\"},{\"id\":\"2665\"},{\"id\":\"2666\"},{\"id\":\"2667\"},{\"id\":\"2668\"},{\"id\":\"2669\"},{\"id\":\"2670\"},{\"id\":\"2671\"},{\"id\":\"2672\"},{\"id\":\"2673\"},{\"id\":\"2674\"},{\"id\":\"2675\"}]},\"id\":\"2640\",\"type\":\"DatetimeTicker\"},{\"attributes\":{\"data\":{\"x\":{\"__ndarray__\":\"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\",\"dtype\":\"float64\",\"order\":\"little\",\"shape\":[193]},\"y\":[1,1,1,1,1,1,1,1,1,1,1,1,1,1,1,1,1,1,1,1,1,1,1,1,1,1,1,1,1,1,1,1,1,1,1,1,1,1,1,1,1,1,1,1,1,1,1,1,1,1,1,1,1,1,1,1,1,1,1,1,1,1,1,1,1,2,2,2,2,1,1,1,2,2,2,2,2,2,3,4,2,3,3,2,3,3,3,4,5,5,5,6,5,6,8,7,10,12,10,27,16,14,17,26,19,14,19,19,15,16,15,19,20,17,19,20,15,15,16,18,14,12,10,12,11,12,12,14,32,15,13,14,18,37,11,10,12,7,16,13,8,8,8,9,10,13,13,7,8,9,9,9,10,15,9,8,8,7,7,10,11,9,8,9,7,7,7,7,7,6,6,6,6,6,6,10,9,6,8,6,6,8,6,7,7,6,5,6,5,6,5,4,5]},\"selected\":{\"id\":\"2796\"},\"selection_policy\":{\"id\":\"2795\"}},\"id\":\"2774\",\"type\":\"ColumnDataSource\"},{\"attributes\":{},\"id\":\"2660\",\"type\":\"DatetimeTickFormatter\"},{\"attributes\":{\"source\":{\"id\":\"2649\"}},\"id\":\"2654\",\"type\":\"CDSView\"},{\"attributes\":{\"line_alpha\":0.1,\"line_color\":\"#20B254\",\"line_width\":2,\"x\":{\"field\":\"x\"},\"y\":{\"field\":\"y\"}},\"id\":\"2776\",\"type\":\"Line\"},{\"attributes\":{\"line_alpha\":0.2,\"line_color\":\"#EC1557\",\"line_width\":2,\"x\":{\"field\":\"x\"},\"y\":{\"field\":\"y\"}},\"id\":\"2652\",\"type\":\"Line\"},{\"attributes\":{\"label\":{\"value\":\"kourtney\"},\"renderers\":[{\"id\":\"2712\"}]},\"id\":\"2739\",\"type\":\"LegendItem\"},{\"attributes\":{\"coordinates\":null,\"group\":null,\"text\":\"Google trends for the Kardashian/Jenner family\"},\"id\":\"2629\",\"type\":\"Title\"},{\"attributes\":{},\"id\":\"2675\",\"type\":\"YearsTicker\"},{\"attributes\":{\"line_alpha\":0.2,\"line_color\":\"#F6A91B\",\"line_width\":2,\"x\":{\"field\":\"x\"},\"y\":{\"field\":\"y\"}},\"id\":\"2711\",\"type\":\"Line\"},{\"attributes\":{},\"id\":\"2644\",\"type\":\"BasicTicker\"},{\"attributes\":{\"source\":{\"id\":\"2774\"}},\"id\":\"2779\",\"type\":\"CDSView\"},{\"attributes\":{\"source\":{\"id\":\"2678\"}},\"id\":\"2683\",\"type\":\"CDSView\"},{\"attributes\":{\"line_alpha\":0.1,\"line_color\":\"#EC1557\",\"line_width\":2,\"x\":{\"field\":\"x\"},\"y\":{\"field\":\"y\"}},\"id\":\"2651\",\"type\":\"Line\"},{\"attributes\":{\"line_alpha\":0.2,\"line_color\":\"#20B254\",\"line_width\":2,\"x\":{\"field\":\"x\"},\"y\":{\"field\":\"y\"}},\"id\":\"2777\",\"type\":\"Line\"},{\"attributes\":{\"months\":[0,6]},\"id\":\"2674\",\"type\":\"MonthsTicker\"},{\"attributes\":{\"line_alpha\":0.8,\"line_color\":\"#F6A91B\",\"line_width\":2,\"x\":{\"field\":\"x\"},\"y\":{\"field\":\"y\"}},\"id\":\"2709\",\"type\":\"Line\"},{\"attributes\":{\"label\":{\"value\":\"kylie\"},\"renderers\":[{\"id\":\"2778\"}]},\"id\":\"2809\",\"type\":\"LegendItem\"},{\"attributes\":{\"months\":[0,1,2,3,4,5,6,7,8,9,10,11]},\"id\":\"2671\",\"type\":\"MonthsTicker\"},{\"attributes\":{\"axis\":{\"id\":\"2643\"},\"coordinates\":null,\"dimension\":1,\"group\":null,\"ticker\":null},\"id\":\"2646\",\"type\":\"Grid\"},{\"attributes\":{\"tools\":[{\"id\":\"2627\"}]},\"id\":\"2647\",\"type\":\"Toolbar\"},{\"attributes\":{\"line_alpha\":0.2,\"line_color\":\"#F05223\",\"line_width\":2,\"x\":{\"field\":\"x\"},\"y\":{\"field\":\"y\"}},\"id\":\"2681\",\"type\":\"Line\"},{\"attributes\":{},\"id\":\"2661\",\"type\":\"AllLabels\"},{\"attributes\":{\"mantissas\":[1,2,5],\"max_interval\":500.0,\"num_minor_ticks\":0},\"id\":\"2664\",\"type\":\"AdaptiveTicker\"},{\"attributes\":{\"days\":[1,8,15,22]},\"id\":\"2669\",\"type\":\"DaysTicker\"},{\"attributes\":{\"data\":{\"x\":{\"__ndarray__\":\"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\",\"dtype\":\"float64\",\"order\":\"little\",\"shape\":[193]},\"y\":[1,1,1,1,1,1,1,1,1,1,1,1,1,1,1,1,1,1,1,1,1,1,1,1,1,1,1,1,1,1,1,4,3,2,1,4,2,3,2,2,1,2,3,4,2,2,2,2,3,3,2,2,2,3,2,3,2,2,3,5,4,3,3,3,3,4,7,4,4,3,3,2,4,3,3,4,2,3,3,4,2,2,2,2,2,2,2,2,2,5,4,3,3,2,4,8,4,3,3,3,3,3,9,4,3,5,4,8,5,4,4,4,4,3,4,3,3,3,3,3,3,2,2,3,4,2,2,2,2,3,3,3,3,3,3,3,2,2,3,5,3,2,2,2,2,2,2,3,2,2,2,1,2,1,1,2,1,1,2,3,2,3,2,2,2,2,1,1,2,2,2,4,2,2,2,2,3,5,2,2,2,2,2,4,7,3,2,2,2,2,1,1,1]},\"selected\":{\"id\":\"2726\"},\"selection_policy\":{\"id\":\"2725\"}},\"id\":\"2708\",\"type\":\"ColumnDataSource\"},{\"attributes\":{},\"id\":\"2658\",\"type\":\"AllLabels\"},{\"attributes\":{},\"id\":\"2725\",\"type\":\"UnionRenderers\"},{\"attributes\":{},\"id\":\"2726\",\"type\":\"Selection\"},{\"attributes\":{\"days\":[1,4,7,10,13,16,19,22,25,28]},\"id\":\"2668\",\"type\":\"DaysTicker\"},{\"attributes\":{\"days\":[1,2,3,4,5,6,7,8,9,10,11,12,13,14,15,16,17,18,19,20,21,22,23,24,25,26,27,28,29,30,31]},\"id\":\"2667\",\"type\":\"DaysTicker\"},{\"attributes\":{\"months\":[0,4,8]},\"id\":\"2673\",\"type\":\"MonthsTicker\"},{\"attributes\":{\"label\":{\"value\":\"kendall\"},\"renderers\":[{\"id\":\"2744\"}]},\"id\":\"2773\",\"type\":\"LegendItem\"},{\"attributes\":{},\"id\":\"2693\",\"type\":\"UnionRenderers\"},{\"attributes\":{\"coordinates\":null,\"data_source\":{\"id\":\"2678\"},\"glyph\":{\"id\":\"2679\"},\"group\":null,\"hover_glyph\":null,\"muted_glyph\":{\"id\":\"2681\"},\"nonselection_glyph\":{\"id\":\"2680\"},\"view\":{\"id\":\"2683\"}},\"id\":\"2682\",\"type\":\"GlyphRenderer\"},{\"attributes\":{\"axis\":{\"id\":\"2639\"},\"coordinates\":null,\"group\":null,\"ticker\":null},\"id\":\"2642\",\"type\":\"Grid\"},{\"attributes\":{\"line_alpha\":0.8,\"line_color\":\"#EC1557\",\"line_width\":2,\"x\":{\"field\":\"x\"},\"y\":{\"field\":\"y\"}},\"id\":\"2650\",\"type\":\"Line\"},{\"attributes\":{\"source\":{\"id\":\"2740\"}},\"id\":\"2745\",\"type\":\"CDSView\"},{\"attributes\":{},\"id\":\"2694\",\"type\":\"Selection\"},{\"attributes\":{},\"id\":\"2795\",\"type\":\"UnionRenderers\"},{\"attributes\":{\"label\":{\"value\":\"khloe\"},\"renderers\":[{\"id\":\"2682\"}]},\"id\":\"2707\",\"type\":\"LegendItem\"},{\"attributes\":{\"base\":24,\"mantissas\":[1,2,4,6,8,12],\"max_interval\":43200000.0,\"min_interval\":3600000.0,\"num_minor_ticks\":0},\"id\":\"2666\",\"type\":\"AdaptiveTicker\"},{\"attributes\":{},\"id\":\"2796\",\"type\":\"Selection\"},{\"attributes\":{\"months\":[0,2,4,6,8,10]},\"id\":\"2672\",\"type\":\"MonthsTicker\"},{\"attributes\":{},\"id\":\"2657\",\"type\":\"BasicTickFormatter\"},{\"attributes\":{\"line_alpha\":0.2,\"line_color\":\"#A5CD39\",\"line_width\":2,\"x\":{\"field\":\"x\"},\"y\":{\"field\":\"y\"}},\"id\":\"2743\",\"type\":\"Line\"},{\"attributes\":{},\"id\":\"2631\",\"type\":\"DataRange1d\"},{\"attributes\":{},\"id\":\"2760\",\"type\":\"Selection\"},{\"attributes\":{\"data\":{\"x\":{\"__ndarray__\":\"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\",\"dtype\":\"float64\",\"order\":\"little\",\"shape\":[193]},\"y\":[1,1,1,1,1,1,1,1,1,1,1,1,1,1,1,1,1,1,1,1,1,1,1,1,1,1,1,1,1,1,1,2,6,4,3,4,2,2,2,2,2,4,3,4,2,2,2,3,3,2,2,4,4,5,3,3,3,3,3,4,6,4,4,5,5,3,3,3,3,4,5,3,4,3,3,4,3,4,5,8,7,6,5,7,6,5,6,4,5,6,6,5,4,4,7,6,5,7,5,5,5,5,7,6,5,13,8,8,8,8,6,5,5,7,6,4,5,5,5,4,4,4,4,3,3,5,3,3,6,6,5,6,6,5,5,24,7,5,4,4,3,3,4,3,3,9,7,3,3,4,3,2,2,2,2,2,2,2,2,3,5,3,3,2,3,2,2,2,2,2,3,10,3,3,2,2,2,2,2,3,4,3,2,3,3,4,4,2,4,3,3,2,2]},\"selected\":{\"id\":\"2694\"},\"selection_policy\":{\"id\":\"2693\"}},\"id\":\"2678\",\"type\":\"ColumnDataSource\"},{\"attributes\":{\"source\":{\"id\":\"2708\"}},\"id\":\"2713\",\"type\":\"CDSView\"},{\"attributes\":{},\"id\":\"2662\",\"type\":\"UnionRenderers\"},{\"attributes\":{\"coordinates\":null,\"data_source\":{\"id\":\"2740\"},\"glyph\":{\"id\":\"2741\"},\"group\":null,\"hover_glyph\":null,\"muted_glyph\":{\"id\":\"2743\"},\"nonselection_glyph\":{\"id\":\"2742\"},\"view\":{\"id\":\"2745\"}},\"id\":\"2744\",\"type\":\"GlyphRenderer\"},{\"attributes\":{\"line_alpha\":0.8,\"line_color\":\"#A5CD39\",\"line_width\":2,\"x\":{\"field\":\"x\"},\"y\":{\"field\":\"y\"}},\"id\":\"2741\",\"type\":\"Line\"},{\"attributes\":{},\"id\":\"2637\",\"type\":\"LinearScale\"},{\"attributes\":{},\"id\":\"2635\",\"type\":\"LinearScale\"},{\"attributes\":{\"line_alpha\":0.8,\"line_color\":\"#F05223\",\"line_width\":2,\"x\":{\"field\":\"x\"},\"y\":{\"field\":\"y\"}},\"id\":\"2679\",\"type\":\"Line\"},{\"attributes\":{\"days\":[1,15]},\"id\":\"2670\",\"type\":\"DaysTicker\"},{\"attributes\":{},\"id\":\"2759\",\"type\":\"UnionRenderers\"},{\"attributes\":{\"coordinates\":null,\"data_source\":{\"id\":\"2708\"},\"glyph\":{\"id\":\"2709\"},\"group\":null,\"hover_glyph\":null,\"muted_glyph\":{\"id\":\"2711\"},\"nonselection_glyph\":{\"id\":\"2710\"},\"view\":{\"id\":\"2713\"}},\"id\":\"2712\",\"type\":\"GlyphRenderer\"},{\"attributes\":{},\"id\":\"2663\",\"type\":\"Selection\"},{\"attributes\":{\"coordinates\":null,\"formatter\":{\"id\":\"2660\"},\"group\":null,\"major_label_policy\":{\"id\":\"2661\"},\"ticker\":{\"id\":\"2640\"}},\"id\":\"2639\",\"type\":\"DatetimeAxis\"},{\"attributes\":{\"data\":{\"x\":{\"__ndarray__\":\"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\",\"dtype\":\"float64\",\"order\":\"little\",\"shape\":[193]},\"y\":[3,13,9,6,6,5,7,6,7,15,19,17,13,10,14,16,15,14,13,16,14,14,12,13,13,11,14,16,15,13,15,17,14,13,13,16,18,19,18,26,20,21,22,25,26,27,21,25,26,36,22,18,23,25,22,48,28,36,52,30,28,25,25,29,26,31,27,28,26,23,23,29,36,30,32,35,31,64,30,27,21,34,28,27,25,22,24,24,37,31,34,35,44,28,100,38,32,40,35,31,32,35,31,33,27,26,23,37,25,27,45,25,24,23,28,25,25,43,20,21,20,16,14,20,16,16,17,14,17,18,21,15,23,21,15,18,17,16,15,17,13,16,15,13,13,12,11,13,17,12,10,10,11,11,11,11,10,9,10,12,10,11,16,9,9,11,8,9,17,12,10,10,9,11,8,9,14,10,15,12,12,13,12,14,18,13,10,13,10,10,9,8,8]},\"selected\":{\"id\":\"2663\"},\"selection_policy\":{\"id\":\"2662\"}},\"id\":\"2649\",\"type\":\"ColumnDataSource\"},{\"attributes\":{\"data\":{\"x\":{\"__ndarray__\":\"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\",\"dtype\":\"float64\",\"order\":\"little\",\"shape\":[193]},\"y\":[1,1,1,1,1,1,1,1,1,1,1,1,1,1,1,1,1,1,1,1,1,1,1,1,1,1,1,1,1,1,1,1,1,1,1,1,1,1,1,1,1,1,1,2,1,1,1,1,1,1,1,1,1,1,1,3,2,1,2,2,2,2,2,2,2,2,3,3,2,2,2,2,2,2,2,3,3,3,3,3,2,3,8,6,6,7,4,4,6,6,5,6,6,4,6,6,6,7,6,10,9,8,9,9,7,7,11,9,12,8,8,8,7,7,7,7,6,5,8,6,5,4,4,10,6,4,4,4,5,6,4,4,4,5,5,4,6,4,4,4,6,3,4,4,4,5,3,3,4,3,3,2,3,3,3,5,3,3,3,4,4,5,3,4,3,3,3,3,3,5,4,4,4,4,4,3,4,3,4,3,4,4,3,4,5,4,3,3,3,3,3,2,2]},\"selected\":{\"id\":\"2760\"},\"selection_policy\":{\"id\":\"2759\"}},\"id\":\"2740\",\"type\":\"ColumnDataSource\"},{\"attributes\":{\"line_alpha\":0.8,\"line_color\":\"#20B254\",\"line_width\":2,\"x\":{\"field\":\"x\"},\"y\":{\"field\":\"y\"}},\"id\":\"2775\",\"type\":\"Line\"},{\"attributes\":{\"coordinates\":null,\"group\":null,\"items\":[{\"id\":\"2677\"},{\"id\":\"2707\"},{\"id\":\"2739\"},{\"id\":\"2773\"},{\"id\":\"2809\"}]},\"id\":\"2676\",\"type\":\"Legend\"},{\"attributes\":{\"line_alpha\":0.1,\"line_color\":\"#F05223\",\"line_width\":2,\"x\":{\"field\":\"x\"},\"y\":{\"field\":\"y\"}},\"id\":\"2680\",\"type\":\"Line\"},{\"attributes\":{\"axis_label\":\"Google Trends Score\",\"coordinates\":null,\"formatter\":{\"id\":\"2657\"},\"group\":null,\"major_label_policy\":{\"id\":\"2658\"},\"ticker\":{\"id\":\"2644\"}},\"id\":\"2643\",\"type\":\"LinearAxis\"},{\"attributes\":{\"base\":60,\"mantissas\":[1,2,5,10,15,20,30],\"max_interval\":1800000.0,\"min_interval\":1000.0,\"num_minor_ticks\":0},\"id\":\"2665\",\"type\":\"AdaptiveTicker\"},{\"attributes\":{\"callback\":null,\"tooltips\":\"Score:@y\"},\"id\":\"2627\",\"type\":\"HoverTool\"}],\"root_ids\":[\"2628\"]},\"title\":\"Bokeh Application\",\"version\":\"2.4.2\"}};\n  const render_items = [{\"docid\":\"1470e582-e6aa-4b4a-8dc3-f02be98bf91e\",\"root_ids\":[\"2628\"],\"roots\":{\"2628\":\"1905c5c3-5169-4ece-8cea-e410bdfbb4ce\"}}];\n  root.Bokeh.embed.embed_items_notebook(docs_json, render_items);\n\n  }\n  if (root.Bokeh !== undefined) {\n    embed_document(root);\n  } else {\n    let attempts = 0;\n    const timer = setInterval(function(root) {\n      if (root.Bokeh !== undefined) {\n        clearInterval(timer);\n        embed_document(root);\n      } else {\n        attempts++;\n        if (attempts > 100) {\n          clearInterval(timer);\n          console.log(\"Bokeh: ERROR: Unable to run BokehJS code because BokehJS library is missing\");\n        }\n      }\n    }, 10, root)\n  }\n})(window);",
      "application/vnd.bokehjs_exec.v0+json": ""
     },
     "metadata": {
      "application/vnd.bokehjs_exec.v0+json": {
       "id": "2628"
      }
     },
     "output_type": "display_data"
    }
   ],
   "source": [
    "# Figure params\n",
    "p = figure(title=\"Google trends for the Kardashian/Jenner family\", \n",
    "            y_axis_label = 'Google Trends Score',\n",
    "            sizing_mode=\"stretch_width\",\n",
    "            height=400, \n",
    "            x_axis_type=\"datetime\",\n",
    "            tools=[HoverTool()], \n",
    "            tooltips=\"Score:@y\"\n",
    "            )\n",
    "\n",
    "# Plot a line for each sister\n",
    "for sister, color in zip([\"kim\", \"khloe\", \"kourtney\", \"kendall\", \"kylie\"], Bokeh[5]):\n",
    "    p.line(trends.index, trends[sister], line_width=2, color=color, alpha=0.8, legend_label=sister)\n",
    "    \n",
    "show(p)"
   ]
  },
  {
   "cell_type": "code",
   "execution_count": 194,
   "metadata": {},
   "outputs": [
    {
     "data": {
      "text/html": [
       "\n",
       "\n",
       "\n",
       "\n",
       "\n",
       "\n",
       "  <div class=\"bk-root\" id=\"b20e8ddc-57b4-476b-81ae-6eb81a8343c4\" data-root-id=\"2184\"></div>\n"
      ]
     },
     "metadata": {},
     "output_type": "display_data"
    },
    {
     "data": {
      "application/javascript": "(function(root) {\n  function embed_document(root) {\n    \n  const docs_json = {\"0a5eeda7-3800-41cc-a291-c0e32f535ded\":{\"defs\":[],\"roots\":{\"references\":[{\"attributes\":{\"below\":[{\"id\":\"2195\"}],\"center\":[{\"id\":\"2198\"},{\"id\":\"2202\"},{\"id\":\"2232\"}],\"height\":400,\"left\":[{\"id\":\"2199\"}],\"renderers\":[{\"id\":\"2209\"},{\"id\":\"2238\"},{\"id\":\"2268\"},{\"id\":\"2300\"},{\"id\":\"2334\"}],\"sizing_mode\":\"stretch_width\",\"title\":{\"id\":\"2185\"},\"toolbar\":{\"id\":\"2203\"},\"x_range\":{\"id\":\"2187\"},\"x_scale\":{\"id\":\"2191\"},\"y_range\":{\"id\":\"2189\"},\"y_scale\":{\"id\":\"2193\"}},\"id\":\"2184\",\"subtype\":\"Figure\",\"type\":\"Plot\"},{\"attributes\":{\"num_minor_ticks\":5,\"tickers\":[{\"id\":\"2220\"},{\"id\":\"2221\"},{\"id\":\"2222\"},{\"id\":\"2223\"},{\"id\":\"2224\"},{\"id\":\"2225\"},{\"id\":\"2226\"},{\"id\":\"2227\"},{\"id\":\"2228\"},{\"id\":\"2229\"},{\"id\":\"2230\"},{\"id\":\"2231\"}]},\"id\":\"2196\",\"type\":\"DatetimeTicker\"},{\"attributes\":{\"label\":{\"value\":\"khloe\"},\"renderers\":[{\"id\":\"2238\"}]},\"id\":\"2263\",\"type\":\"LegendItem\"},{\"attributes\":{\"days\":[1,8,15,22]},\"id\":\"2225\",\"type\":\"DaysTicker\"},{\"attributes\":{\"tools\":[{\"id\":\"2183\"}]},\"id\":\"2203\",\"type\":\"Toolbar\"},{\"attributes\":{},\"id\":\"2250\",\"type\":\"Selection\"},{\"attributes\":{\"source\":{\"id\":\"2296\"}},\"id\":\"2301\",\"type\":\"CDSView\"},{\"attributes\":{\"line_alpha\":0.2,\"line_color\":\"#20B254\",\"line_width\":2,\"x\":{\"field\":\"x\"},\"y\":{\"field\":\"y\"}},\"id\":\"2333\",\"type\":\"Line\"},{\"attributes\":{},\"id\":\"2231\",\"type\":\"YearsTicker\"},{\"attributes\":{\"coordinates\":null,\"data_source\":{\"id\":\"2296\"},\"glyph\":{\"id\":\"2297\"},\"group\":null,\"hover_glyph\":null,\"muted_glyph\":{\"id\":\"2299\"},\"nonselection_glyph\":{\"id\":\"2298\"},\"view\":{\"id\":\"2301\"}},\"id\":\"2300\",\"type\":\"GlyphRenderer\"},{\"attributes\":{\"axis_label\":\"Google Trends Score\",\"coordinates\":null,\"formatter\":{\"id\":\"2213\"},\"group\":null,\"major_label_policy\":{\"id\":\"2214\"},\"ticker\":{\"id\":\"2200\"}},\"id\":\"2199\",\"type\":\"LinearAxis\"},{\"attributes\":{},\"id\":\"2189\",\"type\":\"DataRange1d\"},{\"attributes\":{\"line_alpha\":0.8,\"line_color\":\"#EC1557\",\"line_width\":2,\"x\":{\"field\":\"x\"},\"y\":{\"field\":\"y\"}},\"id\":\"2206\",\"type\":\"Line\"},{\"attributes\":{},\"id\":\"2218\",\"type\":\"UnionRenderers\"},{\"attributes\":{\"base\":24,\"mantissas\":[1,2,4,6,8,12],\"max_interval\":43200000.0,\"min_interval\":3600000.0,\"num_minor_ticks\":0},\"id\":\"2222\",\"type\":\"AdaptiveTicker\"},{\"attributes\":{},\"id\":\"2191\",\"type\":\"LinearScale\"},{\"attributes\":{\"source\":{\"id\":\"2234\"}},\"id\":\"2239\",\"type\":\"CDSView\"},{\"attributes\":{\"coordinates\":null,\"formatter\":{\"id\":\"2216\"},\"group\":null,\"major_label_policy\":{\"id\":\"2217\"},\"ticker\":{\"id\":\"2196\"}},\"id\":\"2195\",\"type\":\"DatetimeAxis\"},{\"attributes\":{},\"id\":\"2249\",\"type\":\"UnionRenderers\"},{\"attributes\":{\"label\":{\"value\":\"kendall\"},\"renderers\":[{\"id\":\"2300\"}]},\"id\":\"2329\",\"type\":\"LegendItem\"},{\"attributes\":{\"coordinates\":null,\"group\":null,\"text\":\"Google trends for the Kardashian/Jenner family\"},\"id\":\"2185\",\"type\":\"Title\"},{\"attributes\":{\"coordinates\":null,\"data_source\":{\"id\":\"2205\"},\"glyph\":{\"id\":\"2206\"},\"group\":null,\"hover_glyph\":null,\"muted_glyph\":{\"id\":\"2208\"},\"nonselection_glyph\":{\"id\":\"2207\"},\"view\":{\"id\":\"2210\"}},\"id\":\"2209\",\"type\":\"GlyphRenderer\"},{\"attributes\":{\"data\":{\"x\":{\"__ndarray__\":\"AACA9tdycUIAAABvpehxQgAAwIEgXnJCAACAlJvTckIAAECnFklzQgAAwB/kvnNCAACAMl80dEIAAEBF2ql0QgAAAFhVH3VCAACA0CKVdUIAAEDjnQp2QgAAAPYYgHZCAADACJT1dkIAAECBYWt3QgAAAJTc4HdCAADApldWeEIAAIC50st4Qg==\",\"dtype\":\"float64\",\"order\":\"little\",\"shape\":[17]},\"y\":[113,164,170,268,366,320,395,442,382,331,204,199,142,124,137,142,8]},\"selected\":{\"id\":\"2219\"},\"selection_policy\":{\"id\":\"2218\"}},\"id\":\"2205\",\"type\":\"ColumnDataSource\"},{\"attributes\":{},\"id\":\"2351\",\"type\":\"UnionRenderers\"},{\"attributes\":{\"label\":{\"value\":\"kylie\"},\"renderers\":[{\"id\":\"2334\"}]},\"id\":\"2365\",\"type\":\"LegendItem\"},{\"attributes\":{\"days\":[1,4,7,10,13,16,19,22,25,28]},\"id\":\"2224\",\"type\":\"DaysTicker\"},{\"attributes\":{\"months\":[0,2,4,6,8,10]},\"id\":\"2228\",\"type\":\"MonthsTicker\"},{\"attributes\":{\"source\":{\"id\":\"2330\"}},\"id\":\"2335\",\"type\":\"CDSView\"},{\"attributes\":{\"base\":60,\"mantissas\":[1,2,5,10,15,20,30],\"max_interval\":1800000.0,\"min_interval\":1000.0,\"num_minor_ticks\":0},\"id\":\"2221\",\"type\":\"AdaptiveTicker\"},{\"attributes\":{},\"id\":\"2316\",\"type\":\"Selection\"},{\"attributes\":{\"months\":[0,6]},\"id\":\"2230\",\"type\":\"MonthsTicker\"},{\"attributes\":{\"source\":{\"id\":\"2205\"}},\"id\":\"2210\",\"type\":\"CDSView\"},{\"attributes\":{\"line_alpha\":0.8,\"line_color\":\"#F6A91B\",\"line_width\":2,\"x\":{\"field\":\"x\"},\"y\":{\"field\":\"y\"}},\"id\":\"2265\",\"type\":\"Line\"},{\"attributes\":{\"line_alpha\":0.2,\"line_color\":\"#A5CD39\",\"line_width\":2,\"x\":{\"field\":\"x\"},\"y\":{\"field\":\"y\"}},\"id\":\"2299\",\"type\":\"Line\"},{\"attributes\":{\"days\":[1,15]},\"id\":\"2226\",\"type\":\"DaysTicker\"},{\"attributes\":{\"line_alpha\":0.1,\"line_color\":\"#F05223\",\"line_width\":2,\"x\":{\"field\":\"x\"},\"y\":{\"field\":\"y\"}},\"id\":\"2236\",\"type\":\"Line\"},{\"attributes\":{\"days\":[1,2,3,4,5,6,7,8,9,10,11,12,13,14,15,16,17,18,19,20,21,22,23,24,25,26,27,28,29,30,31]},\"id\":\"2223\",\"type\":\"DaysTicker\"},{\"attributes\":{\"data\":{\"x\":{\"__ndarray__\":\"AACA9tdycUIAAABvpehxQgAAwIEgXnJCAACAlJvTckIAAECnFklzQgAAwB/kvnNCAACAMl80dEIAAEBF2ql0QgAAAFhVH3VCAACA0CKVdUIAAEDjnQp2QgAAAPYYgHZCAADACJT1dkIAAECBYWt3QgAAAJTc4HdCAADApldWeEIAAIC50st4Qg==\",\"dtype\":\"float64\",\"order\":\"little\",\"shape\":[17]},\"y\":[12,12,21,27,32,43,34,39,52,43,31,33,22,22,30,30,1]},\"selected\":{\"id\":\"2282\"},\"selection_policy\":{\"id\":\"2281\"}},\"id\":\"2264\",\"type\":\"ColumnDataSource\"},{\"attributes\":{},\"id\":\"2187\",\"type\":\"DataRange1d\"},{\"attributes\":{\"data\":{\"x\":{\"__ndarray__\":\"AACA9tdycUIAAABvpehxQgAAwIEgXnJCAACAlJvTckIAAECnFklzQgAAwB/kvnNCAACAMl80dEIAAEBF2ql0QgAAAFhVH3VCAACA0CKVdUIAAEDjnQp2QgAAAPYYgHZCAADACJT1dkIAAECBYWt3QgAAAJTc4HdCAADApldWeEIAAIC50st4Qg==\",\"dtype\":\"float64\",\"order\":\"little\",\"shape\":[17]},\"y\":[12,12,12,13,17,26,40,66,98,89,60,53,41,41,45,41,2]},\"selected\":{\"id\":\"2316\"},\"selection_policy\":{\"id\":\"2315\"}},\"id\":\"2296\",\"type\":\"ColumnDataSource\"},{\"attributes\":{},\"id\":\"2214\",\"type\":\"AllLabels\"},{\"attributes\":{\"line_alpha\":0.2,\"line_color\":\"#F05223\",\"line_width\":2,\"x\":{\"field\":\"x\"},\"y\":{\"field\":\"y\"}},\"id\":\"2237\",\"type\":\"Line\"},{\"attributes\":{},\"id\":\"2217\",\"type\":\"AllLabels\"},{\"attributes\":{\"label\":{\"value\":\"kim\"},\"renderers\":[{\"id\":\"2209\"}]},\"id\":\"2233\",\"type\":\"LegendItem\"},{\"attributes\":{},\"id\":\"2281\",\"type\":\"UnionRenderers\"},{\"attributes\":{\"line_alpha\":0.8,\"line_color\":\"#F05223\",\"line_width\":2,\"x\":{\"field\":\"x\"},\"y\":{\"field\":\"y\"}},\"id\":\"2235\",\"type\":\"Line\"},{\"attributes\":{},\"id\":\"2315\",\"type\":\"UnionRenderers\"},{\"attributes\":{\"data\":{\"x\":{\"__ndarray__\":\"AACA9tdycUIAAABvpehxQgAAwIEgXnJCAACAlJvTckIAAECnFklzQgAAwB/kvnNCAACAMl80dEIAAEBF2ql0QgAAAFhVH3VCAACA0CKVdUIAAEDjnQp2QgAAAPYYgHZCAADACJT1dkIAAECBYWt3QgAAAJTc4HdCAADApldWeEIAAIC50st4Qg==\",\"dtype\":\"float64\",\"order\":\"little\",\"shape\":[17]},\"y\":[12,12,12,12,12,16,29,60,203,205,171,157,120,97,82,71,5]},\"selected\":{\"id\":\"2352\"},\"selection_policy\":{\"id\":\"2351\"}},\"id\":\"2330\",\"type\":\"ColumnDataSource\"},{\"attributes\":{\"source\":{\"id\":\"2264\"}},\"id\":\"2269\",\"type\":\"CDSView\"},{\"attributes\":{},\"id\":\"2216\",\"type\":\"DatetimeTickFormatter\"},{\"attributes\":{},\"id\":\"2200\",\"type\":\"BasicTicker\"},{\"attributes\":{\"coordinates\":null,\"group\":null,\"items\":[{\"id\":\"2233\"},{\"id\":\"2263\"},{\"id\":\"2295\"},{\"id\":\"2329\"},{\"id\":\"2365\"}]},\"id\":\"2232\",\"type\":\"Legend\"},{\"attributes\":{\"line_alpha\":0.1,\"line_color\":\"#F6A91B\",\"line_width\":2,\"x\":{\"field\":\"x\"},\"y\":{\"field\":\"y\"}},\"id\":\"2266\",\"type\":\"Line\"},{\"attributes\":{},\"id\":\"2213\",\"type\":\"BasicTickFormatter\"},{\"attributes\":{\"data\":{\"x\":{\"__ndarray__\":\"AACA9tdycUIAAABvpehxQgAAwIEgXnJCAACAlJvTckIAAECnFklzQgAAwB/kvnNCAACAMl80dEIAAEBF2ql0QgAAAFhVH3VCAACA0CKVdUIAAEDjnQp2QgAAAPYYgHZCAADACJT1dkIAAECBYWt3QgAAAJTc4HdCAADApldWeEIAAIC50st4Qg==\",\"dtype\":\"float64\",\"order\":\"little\",\"shape\":[17]},\"y\":[12,12,26,30,39,48,59,64,79,68,52,73,42,31,36,37,2]},\"selected\":{\"id\":\"2250\"},\"selection_policy\":{\"id\":\"2249\"}},\"id\":\"2234\",\"type\":\"ColumnDataSource\"},{\"attributes\":{\"months\":[0,1,2,3,4,5,6,7,8,9,10,11]},\"id\":\"2227\",\"type\":\"MonthsTicker\"},{\"attributes\":{\"axis\":{\"id\":\"2195\"},\"coordinates\":null,\"group\":null,\"ticker\":null},\"id\":\"2198\",\"type\":\"Grid\"},{\"attributes\":{\"callback\":null,\"tooltips\":\"Score:@y\"},\"id\":\"2183\",\"type\":\"HoverTool\"},{\"attributes\":{\"label\":{\"value\":\"kourtney\"},\"renderers\":[{\"id\":\"2268\"}]},\"id\":\"2295\",\"type\":\"LegendItem\"},{\"attributes\":{\"line_alpha\":0.2,\"line_color\":\"#F6A91B\",\"line_width\":2,\"x\":{\"field\":\"x\"},\"y\":{\"field\":\"y\"}},\"id\":\"2267\",\"type\":\"Line\"},{\"attributes\":{\"line_alpha\":0.2,\"line_color\":\"#EC1557\",\"line_width\":2,\"x\":{\"field\":\"x\"},\"y\":{\"field\":\"y\"}},\"id\":\"2208\",\"type\":\"Line\"},{\"attributes\":{},\"id\":\"2219\",\"type\":\"Selection\"},{\"attributes\":{},\"id\":\"2193\",\"type\":\"LinearScale\"},{\"attributes\":{\"coordinates\":null,\"data_source\":{\"id\":\"2330\"},\"glyph\":{\"id\":\"2331\"},\"group\":null,\"hover_glyph\":null,\"muted_glyph\":{\"id\":\"2333\"},\"nonselection_glyph\":{\"id\":\"2332\"},\"view\":{\"id\":\"2335\"}},\"id\":\"2334\",\"type\":\"GlyphRenderer\"},{\"attributes\":{\"line_alpha\":0.1,\"line_color\":\"#A5CD39\",\"line_width\":2,\"x\":{\"field\":\"x\"},\"y\":{\"field\":\"y\"}},\"id\":\"2298\",\"type\":\"Line\"},{\"attributes\":{\"mantissas\":[1,2,5],\"max_interval\":500.0,\"num_minor_ticks\":0},\"id\":\"2220\",\"type\":\"AdaptiveTicker\"},{\"attributes\":{\"line_alpha\":0.8,\"line_color\":\"#20B254\",\"line_width\":2,\"x\":{\"field\":\"x\"},\"y\":{\"field\":\"y\"}},\"id\":\"2331\",\"type\":\"Line\"},{\"attributes\":{\"months\":[0,4,8]},\"id\":\"2229\",\"type\":\"MonthsTicker\"},{\"attributes\":{},\"id\":\"2352\",\"type\":\"Selection\"},{\"attributes\":{\"axis\":{\"id\":\"2199\"},\"coordinates\":null,\"dimension\":1,\"group\":null,\"ticker\":null},\"id\":\"2202\",\"type\":\"Grid\"},{\"attributes\":{\"line_alpha\":0.1,\"line_color\":\"#20B254\",\"line_width\":2,\"x\":{\"field\":\"x\"},\"y\":{\"field\":\"y\"}},\"id\":\"2332\",\"type\":\"Line\"},{\"attributes\":{},\"id\":\"2282\",\"type\":\"Selection\"},{\"attributes\":{\"line_alpha\":0.1,\"line_color\":\"#EC1557\",\"line_width\":2,\"x\":{\"field\":\"x\"},\"y\":{\"field\":\"y\"}},\"id\":\"2207\",\"type\":\"Line\"},{\"attributes\":{\"coordinates\":null,\"data_source\":{\"id\":\"2264\"},\"glyph\":{\"id\":\"2265\"},\"group\":null,\"hover_glyph\":null,\"muted_glyph\":{\"id\":\"2267\"},\"nonselection_glyph\":{\"id\":\"2266\"},\"view\":{\"id\":\"2269\"}},\"id\":\"2268\",\"type\":\"GlyphRenderer\"},{\"attributes\":{\"coordinates\":null,\"data_source\":{\"id\":\"2234\"},\"glyph\":{\"id\":\"2235\"},\"group\":null,\"hover_glyph\":null,\"muted_glyph\":{\"id\":\"2237\"},\"nonselection_glyph\":{\"id\":\"2236\"},\"view\":{\"id\":\"2239\"}},\"id\":\"2238\",\"type\":\"GlyphRenderer\"},{\"attributes\":{\"line_alpha\":0.8,\"line_color\":\"#A5CD39\",\"line_width\":2,\"x\":{\"field\":\"x\"},\"y\":{\"field\":\"y\"}},\"id\":\"2297\",\"type\":\"Line\"}],\"root_ids\":[\"2184\"]},\"title\":\"Bokeh Application\",\"version\":\"2.4.2\"}};\n  const render_items = [{\"docid\":\"0a5eeda7-3800-41cc-a291-c0e32f535ded\",\"root_ids\":[\"2184\"],\"roots\":{\"2184\":\"b20e8ddc-57b4-476b-81ae-6eb81a8343c4\"}}];\n  root.Bokeh.embed.embed_items_notebook(docs_json, render_items);\n\n  }\n  if (root.Bokeh !== undefined) {\n    embed_document(root);\n  } else {\n    let attempts = 0;\n    const timer = setInterval(function(root) {\n      if (root.Bokeh !== undefined) {\n        clearInterval(timer);\n        embed_document(root);\n      } else {\n        attempts++;\n        if (attempts > 100) {\n          clearInterval(timer);\n          console.log(\"Bokeh: ERROR: Unable to run BokehJS code because BokehJS library is missing\");\n        }\n      }\n    }, 10, root)\n  }\n})(window);",
      "application/vnd.bokehjs_exec.v0+json": ""
     },
     "metadata": {
      "application/vnd.bokehjs_exec.v0+json": {
       "id": "2184"
      }
     },
     "output_type": "display_data"
    }
   ],
   "source": [
    "trends_annual_rolling =  trends.resample('Y').sum()\n",
    "\n",
    "# Figure params\n",
    "q = figure(title=\"Google trends for the Kardashian/Jenner family\", \n",
    "            y_axis_label = 'Google Trends Score',\n",
    "            sizing_mode=\"stretch_width\",\n",
    "            height=400, \n",
    "            x_axis_type=\"datetime\",\n",
    "            tools=[HoverTool()], \n",
    "            tooltips=\"Score:@y\"\n",
    "            )\n",
    "            \n",
    "# Plot a line for each sister\n",
    "for sister, color in zip([\"kim\", \"khloe\", \"kourtney\", \"kendall\", \"kylie\"],  Bokeh[5]):\n",
    "    q.line(trends_annual_rolling.index, trends_annual_rolling[sister], line_width=2, color=color, alpha=0.8, legend_label=sister)\n",
    "\n",
    "show(q)"
   ]
  },
  {
   "cell_type": "code",
   "execution_count": 48,
   "metadata": {},
   "outputs": [],
   "source": [
    "average_per_year = trends.groupby(trends.index.year).sum()\n",
    "average_per_year = average_per_year.loc['2007':'2022', :]\n",
    "average_per_year.reset_index(inplace=True)\n",
    "\n",
    "average_per_year = average_per_year.melt(id_vars=[\"month\"], \n",
    "        var_name=\"Sister\", \n",
    "        value_name=\"Mean\")\n",
    "\n",
    "# Add a rank column\n",
    "average_per_year[\"rank\"] = average_per_year.groupby(\"month\")[\"Mean\"].rank(method=\"dense\", ascending=False)"
   ]
  },
  {
   "cell_type": "code",
   "execution_count": 180,
   "metadata": {},
   "outputs": [
    {
     "data": {
      "application/vnd.plotly.v1+json": {
       "config": {
        "plotlyServerURL": "https://plot.ly"
       },
       "data": [
        {
         "alignmentgroup": "True",
         "hovertemplate": "=%{x}<br>month=2007<br>Sum of Interest Score=%{y}<br>rank=%{text}<extra></extra>",
         "legendgroup": "kim",
         "marker": {
          "color": "rgb(225, 83, 131)",
          "pattern": {
           "shape": ""
          }
         },
         "name": "kim",
         "offsetgroup": "kim",
         "orientation": "v",
         "showlegend": true,
         "text": [
          1
         ],
         "textangle": 0,
         "textfont": {
          "size": 16
         },
         "textposition": "auto",
         "type": "bar",
         "x": [
          "kim"
         ],
         "xaxis": "x",
         "y": [
          113
         ],
         "yaxis": "y"
        },
        {
         "alignmentgroup": "True",
         "hovertemplate": "=%{x}<br>month=2007<br>Sum of Interest Score=%{y}<br>rank=%{text}<extra></extra>",
         "legendgroup": "khloe",
         "marker": {
          "color": "rgb(241, 109, 122)",
          "pattern": {
           "shape": ""
          }
         },
         "name": "khloe",
         "offsetgroup": "khloe",
         "orientation": "v",
         "showlegend": true,
         "text": [
          2
         ],
         "textangle": 0,
         "textfont": {
          "size": 16
         },
         "textposition": "auto",
         "type": "bar",
         "x": [
          "khloe"
         ],
         "xaxis": "x",
         "y": [
          12
         ],
         "yaxis": "y"
        },
        {
         "alignmentgroup": "True",
         "hovertemplate": "=%{x}<br>month=2007<br>Sum of Interest Score=%{y}<br>rank=%{text}<extra></extra>",
         "legendgroup": "kourtney",
         "marker": {
          "color": "rgb(250, 138, 118)",
          "pattern": {
           "shape": ""
          }
         },
         "name": "kourtney",
         "offsetgroup": "kourtney",
         "orientation": "v",
         "showlegend": true,
         "text": [
          2
         ],
         "textangle": 0,
         "textfont": {
          "size": 16
         },
         "textposition": "auto",
         "type": "bar",
         "x": [
          "kourtney"
         ],
         "xaxis": "x",
         "y": [
          12
         ],
         "yaxis": "y"
        },
        {
         "alignmentgroup": "True",
         "hovertemplate": "=%{x}<br>month=2007<br>Sum of Interest Score=%{y}<br>rank=%{text}<extra></extra>",
         "legendgroup": "kendall",
         "marker": {
          "color": "rgb(255, 166, 121)",
          "pattern": {
           "shape": ""
          }
         },
         "name": "kendall",
         "offsetgroup": "kendall",
         "orientation": "v",
         "showlegend": true,
         "text": [
          2
         ],
         "textangle": 0,
         "textfont": {
          "size": 16
         },
         "textposition": "auto",
         "type": "bar",
         "x": [
          "kendall"
         ],
         "xaxis": "x",
         "y": [
          12
         ],
         "yaxis": "y"
        },
        {
         "alignmentgroup": "True",
         "hovertemplate": "=%{x}<br>month=2007<br>Sum of Interest Score=%{y}<br>rank=%{text}<extra></extra>",
         "legendgroup": "kylie",
         "marker": {
          "color": "rgb(255, 194, 133)",
          "pattern": {
           "shape": ""
          }
         },
         "name": "kylie",
         "offsetgroup": "kylie",
         "orientation": "v",
         "showlegend": true,
         "text": [
          2
         ],
         "textangle": 0,
         "textfont": {
          "size": 16
         },
         "textposition": "auto",
         "type": "bar",
         "x": [
          "kylie"
         ],
         "xaxis": "x",
         "y": [
          12
         ],
         "yaxis": "y"
        }
       ],
       "frames": [
        {
         "data": [
          {
           "alignmentgroup": "True",
           "hovertemplate": "=%{x}<br>month=2007<br>Sum of Interest Score=%{y}<br>rank=%{text}<extra></extra>",
           "legendgroup": "kim",
           "marker": {
            "color": "rgb(225, 83, 131)",
            "pattern": {
             "shape": ""
            }
           },
           "name": "kim",
           "offsetgroup": "kim",
           "orientation": "v",
           "showlegend": true,
           "text": [
            1
           ],
           "textposition": "auto",
           "type": "bar",
           "x": [
            "kim"
           ],
           "xaxis": "x",
           "y": [
            113
           ],
           "yaxis": "y"
          },
          {
           "alignmentgroup": "True",
           "hovertemplate": "=%{x}<br>month=2007<br>Sum of Interest Score=%{y}<br>rank=%{text}<extra></extra>",
           "legendgroup": "khloe",
           "marker": {
            "color": "rgb(241, 109, 122)",
            "pattern": {
             "shape": ""
            }
           },
           "name": "khloe",
           "offsetgroup": "khloe",
           "orientation": "v",
           "showlegend": true,
           "text": [
            2
           ],
           "textposition": "auto",
           "type": "bar",
           "x": [
            "khloe"
           ],
           "xaxis": "x",
           "y": [
            12
           ],
           "yaxis": "y"
          },
          {
           "alignmentgroup": "True",
           "hovertemplate": "=%{x}<br>month=2007<br>Sum of Interest Score=%{y}<br>rank=%{text}<extra></extra>",
           "legendgroup": "kourtney",
           "marker": {
            "color": "rgb(250, 138, 118)",
            "pattern": {
             "shape": ""
            }
           },
           "name": "kourtney",
           "offsetgroup": "kourtney",
           "orientation": "v",
           "showlegend": true,
           "text": [
            2
           ],
           "textposition": "auto",
           "type": "bar",
           "x": [
            "kourtney"
           ],
           "xaxis": "x",
           "y": [
            12
           ],
           "yaxis": "y"
          },
          {
           "alignmentgroup": "True",
           "hovertemplate": "=%{x}<br>month=2007<br>Sum of Interest Score=%{y}<br>rank=%{text}<extra></extra>",
           "legendgroup": "kendall",
           "marker": {
            "color": "rgb(255, 166, 121)",
            "pattern": {
             "shape": ""
            }
           },
           "name": "kendall",
           "offsetgroup": "kendall",
           "orientation": "v",
           "showlegend": true,
           "text": [
            2
           ],
           "textposition": "auto",
           "type": "bar",
           "x": [
            "kendall"
           ],
           "xaxis": "x",
           "y": [
            12
           ],
           "yaxis": "y"
          },
          {
           "alignmentgroup": "True",
           "hovertemplate": "=%{x}<br>month=2007<br>Sum of Interest Score=%{y}<br>rank=%{text}<extra></extra>",
           "legendgroup": "kylie",
           "marker": {
            "color": "rgb(255, 194, 133)",
            "pattern": {
             "shape": ""
            }
           },
           "name": "kylie",
           "offsetgroup": "kylie",
           "orientation": "v",
           "showlegend": true,
           "text": [
            2
           ],
           "textposition": "auto",
           "type": "bar",
           "x": [
            "kylie"
           ],
           "xaxis": "x",
           "y": [
            12
           ],
           "yaxis": "y"
          }
         ],
         "name": "2007"
        },
        {
         "data": [
          {
           "alignmentgroup": "True",
           "hovertemplate": "=%{x}<br>month=2008<br>Sum of Interest Score=%{y}<br>rank=%{text}<extra></extra>",
           "legendgroup": "kim",
           "marker": {
            "color": "rgb(225, 83, 131)",
            "pattern": {
             "shape": ""
            }
           },
           "name": "kim",
           "offsetgroup": "kim",
           "orientation": "v",
           "showlegend": true,
           "text": [
            1
           ],
           "textposition": "auto",
           "type": "bar",
           "x": [
            "kim"
           ],
           "xaxis": "x",
           "y": [
            164
           ],
           "yaxis": "y"
          },
          {
           "alignmentgroup": "True",
           "hovertemplate": "=%{x}<br>month=2008<br>Sum of Interest Score=%{y}<br>rank=%{text}<extra></extra>",
           "legendgroup": "khloe",
           "marker": {
            "color": "rgb(241, 109, 122)",
            "pattern": {
             "shape": ""
            }
           },
           "name": "khloe",
           "offsetgroup": "khloe",
           "orientation": "v",
           "showlegend": true,
           "text": [
            2
           ],
           "textposition": "auto",
           "type": "bar",
           "x": [
            "khloe"
           ],
           "xaxis": "x",
           "y": [
            12
           ],
           "yaxis": "y"
          },
          {
           "alignmentgroup": "True",
           "hovertemplate": "=%{x}<br>month=2008<br>Sum of Interest Score=%{y}<br>rank=%{text}<extra></extra>",
           "legendgroup": "kourtney",
           "marker": {
            "color": "rgb(250, 138, 118)",
            "pattern": {
             "shape": ""
            }
           },
           "name": "kourtney",
           "offsetgroup": "kourtney",
           "orientation": "v",
           "showlegend": true,
           "text": [
            2
           ],
           "textposition": "auto",
           "type": "bar",
           "x": [
            "kourtney"
           ],
           "xaxis": "x",
           "y": [
            12
           ],
           "yaxis": "y"
          },
          {
           "alignmentgroup": "True",
           "hovertemplate": "=%{x}<br>month=2008<br>Sum of Interest Score=%{y}<br>rank=%{text}<extra></extra>",
           "legendgroup": "kendall",
           "marker": {
            "color": "rgb(255, 166, 121)",
            "pattern": {
             "shape": ""
            }
           },
           "name": "kendall",
           "offsetgroup": "kendall",
           "orientation": "v",
           "showlegend": true,
           "text": [
            2
           ],
           "textposition": "auto",
           "type": "bar",
           "x": [
            "kendall"
           ],
           "xaxis": "x",
           "y": [
            12
           ],
           "yaxis": "y"
          },
          {
           "alignmentgroup": "True",
           "hovertemplate": "=%{x}<br>month=2008<br>Sum of Interest Score=%{y}<br>rank=%{text}<extra></extra>",
           "legendgroup": "kylie",
           "marker": {
            "color": "rgb(255, 194, 133)",
            "pattern": {
             "shape": ""
            }
           },
           "name": "kylie",
           "offsetgroup": "kylie",
           "orientation": "v",
           "showlegend": true,
           "text": [
            2
           ],
           "textposition": "auto",
           "type": "bar",
           "x": [
            "kylie"
           ],
           "xaxis": "x",
           "y": [
            12
           ],
           "yaxis": "y"
          }
         ],
         "name": "2008"
        },
        {
         "data": [
          {
           "alignmentgroup": "True",
           "hovertemplate": "=%{x}<br>month=2009<br>Sum of Interest Score=%{y}<br>rank=%{text}<extra></extra>",
           "legendgroup": "kim",
           "marker": {
            "color": "rgb(225, 83, 131)",
            "pattern": {
             "shape": ""
            }
           },
           "name": "kim",
           "offsetgroup": "kim",
           "orientation": "v",
           "showlegend": true,
           "text": [
            1
           ],
           "textposition": "auto",
           "type": "bar",
           "x": [
            "kim"
           ],
           "xaxis": "x",
           "y": [
            170
           ],
           "yaxis": "y"
          },
          {
           "alignmentgroup": "True",
           "hovertemplate": "=%{x}<br>month=2009<br>Sum of Interest Score=%{y}<br>rank=%{text}<extra></extra>",
           "legendgroup": "khloe",
           "marker": {
            "color": "rgb(241, 109, 122)",
            "pattern": {
             "shape": ""
            }
           },
           "name": "khloe",
           "offsetgroup": "khloe",
           "orientation": "v",
           "showlegend": true,
           "text": [
            2
           ],
           "textposition": "auto",
           "type": "bar",
           "x": [
            "khloe"
           ],
           "xaxis": "x",
           "y": [
            26
           ],
           "yaxis": "y"
          },
          {
           "alignmentgroup": "True",
           "hovertemplate": "=%{x}<br>month=2009<br>Sum of Interest Score=%{y}<br>rank=%{text}<extra></extra>",
           "legendgroup": "kourtney",
           "marker": {
            "color": "rgb(250, 138, 118)",
            "pattern": {
             "shape": ""
            }
           },
           "name": "kourtney",
           "offsetgroup": "kourtney",
           "orientation": "v",
           "showlegend": true,
           "text": [
            3
           ],
           "textposition": "auto",
           "type": "bar",
           "x": [
            "kourtney"
           ],
           "xaxis": "x",
           "y": [
            21
           ],
           "yaxis": "y"
          },
          {
           "alignmentgroup": "True",
           "hovertemplate": "=%{x}<br>month=2009<br>Sum of Interest Score=%{y}<br>rank=%{text}<extra></extra>",
           "legendgroup": "kendall",
           "marker": {
            "color": "rgb(255, 166, 121)",
            "pattern": {
             "shape": ""
            }
           },
           "name": "kendall",
           "offsetgroup": "kendall",
           "orientation": "v",
           "showlegend": true,
           "text": [
            4
           ],
           "textposition": "auto",
           "type": "bar",
           "x": [
            "kendall"
           ],
           "xaxis": "x",
           "y": [
            12
           ],
           "yaxis": "y"
          },
          {
           "alignmentgroup": "True",
           "hovertemplate": "=%{x}<br>month=2009<br>Sum of Interest Score=%{y}<br>rank=%{text}<extra></extra>",
           "legendgroup": "kylie",
           "marker": {
            "color": "rgb(255, 194, 133)",
            "pattern": {
             "shape": ""
            }
           },
           "name": "kylie",
           "offsetgroup": "kylie",
           "orientation": "v",
           "showlegend": true,
           "text": [
            4
           ],
           "textposition": "auto",
           "type": "bar",
           "x": [
            "kylie"
           ],
           "xaxis": "x",
           "y": [
            12
           ],
           "yaxis": "y"
          }
         ],
         "name": "2009"
        },
        {
         "data": [
          {
           "alignmentgroup": "True",
           "hovertemplate": "=%{x}<br>month=2010<br>Sum of Interest Score=%{y}<br>rank=%{text}<extra></extra>",
           "legendgroup": "kim",
           "marker": {
            "color": "rgb(225, 83, 131)",
            "pattern": {
             "shape": ""
            }
           },
           "name": "kim",
           "offsetgroup": "kim",
           "orientation": "v",
           "showlegend": true,
           "text": [
            1
           ],
           "textposition": "auto",
           "type": "bar",
           "x": [
            "kim"
           ],
           "xaxis": "x",
           "y": [
            268
           ],
           "yaxis": "y"
          },
          {
           "alignmentgroup": "True",
           "hovertemplate": "=%{x}<br>month=2010<br>Sum of Interest Score=%{y}<br>rank=%{text}<extra></extra>",
           "legendgroup": "khloe",
           "marker": {
            "color": "rgb(241, 109, 122)",
            "pattern": {
             "shape": ""
            }
           },
           "name": "khloe",
           "offsetgroup": "khloe",
           "orientation": "v",
           "showlegend": true,
           "text": [
            2
           ],
           "textposition": "auto",
           "type": "bar",
           "x": [
            "khloe"
           ],
           "xaxis": "x",
           "y": [
            30
           ],
           "yaxis": "y"
          },
          {
           "alignmentgroup": "True",
           "hovertemplate": "=%{x}<br>month=2010<br>Sum of Interest Score=%{y}<br>rank=%{text}<extra></extra>",
           "legendgroup": "kourtney",
           "marker": {
            "color": "rgb(250, 138, 118)",
            "pattern": {
             "shape": ""
            }
           },
           "name": "kourtney",
           "offsetgroup": "kourtney",
           "orientation": "v",
           "showlegend": true,
           "text": [
            3
           ],
           "textposition": "auto",
           "type": "bar",
           "x": [
            "kourtney"
           ],
           "xaxis": "x",
           "y": [
            27
           ],
           "yaxis": "y"
          },
          {
           "alignmentgroup": "True",
           "hovertemplate": "=%{x}<br>month=2010<br>Sum of Interest Score=%{y}<br>rank=%{text}<extra></extra>",
           "legendgroup": "kendall",
           "marker": {
            "color": "rgb(255, 166, 121)",
            "pattern": {
             "shape": ""
            }
           },
           "name": "kendall",
           "offsetgroup": "kendall",
           "orientation": "v",
           "showlegend": true,
           "text": [
            4
           ],
           "textposition": "auto",
           "type": "bar",
           "x": [
            "kendall"
           ],
           "xaxis": "x",
           "y": [
            13
           ],
           "yaxis": "y"
          },
          {
           "alignmentgroup": "True",
           "hovertemplate": "=%{x}<br>month=2010<br>Sum of Interest Score=%{y}<br>rank=%{text}<extra></extra>",
           "legendgroup": "kylie",
           "marker": {
            "color": "rgb(255, 194, 133)",
            "pattern": {
             "shape": ""
            }
           },
           "name": "kylie",
           "offsetgroup": "kylie",
           "orientation": "v",
           "showlegend": true,
           "text": [
            5
           ],
           "textposition": "auto",
           "type": "bar",
           "x": [
            "kylie"
           ],
           "xaxis": "x",
           "y": [
            12
           ],
           "yaxis": "y"
          }
         ],
         "name": "2010"
        },
        {
         "data": [
          {
           "alignmentgroup": "True",
           "hovertemplate": "=%{x}<br>month=2011<br>Sum of Interest Score=%{y}<br>rank=%{text}<extra></extra>",
           "legendgroup": "kim",
           "marker": {
            "color": "rgb(225, 83, 131)",
            "pattern": {
             "shape": ""
            }
           },
           "name": "kim",
           "offsetgroup": "kim",
           "orientation": "v",
           "showlegend": true,
           "text": [
            1
           ],
           "textposition": "auto",
           "type": "bar",
           "x": [
            "kim"
           ],
           "xaxis": "x",
           "y": [
            366
           ],
           "yaxis": "y"
          },
          {
           "alignmentgroup": "True",
           "hovertemplate": "=%{x}<br>month=2011<br>Sum of Interest Score=%{y}<br>rank=%{text}<extra></extra>",
           "legendgroup": "khloe",
           "marker": {
            "color": "rgb(241, 109, 122)",
            "pattern": {
             "shape": ""
            }
           },
           "name": "khloe",
           "offsetgroup": "khloe",
           "orientation": "v",
           "showlegend": true,
           "text": [
            2
           ],
           "textposition": "auto",
           "type": "bar",
           "x": [
            "khloe"
           ],
           "xaxis": "x",
           "y": [
            39
           ],
           "yaxis": "y"
          },
          {
           "alignmentgroup": "True",
           "hovertemplate": "=%{x}<br>month=2011<br>Sum of Interest Score=%{y}<br>rank=%{text}<extra></extra>",
           "legendgroup": "kourtney",
           "marker": {
            "color": "rgb(250, 138, 118)",
            "pattern": {
             "shape": ""
            }
           },
           "name": "kourtney",
           "offsetgroup": "kourtney",
           "orientation": "v",
           "showlegend": true,
           "text": [
            3
           ],
           "textposition": "auto",
           "type": "bar",
           "x": [
            "kourtney"
           ],
           "xaxis": "x",
           "y": [
            32
           ],
           "yaxis": "y"
          },
          {
           "alignmentgroup": "True",
           "hovertemplate": "=%{x}<br>month=2011<br>Sum of Interest Score=%{y}<br>rank=%{text}<extra></extra>",
           "legendgroup": "kendall",
           "marker": {
            "color": "rgb(255, 166, 121)",
            "pattern": {
             "shape": ""
            }
           },
           "name": "kendall",
           "offsetgroup": "kendall",
           "orientation": "v",
           "showlegend": true,
           "text": [
            4
           ],
           "textposition": "auto",
           "type": "bar",
           "x": [
            "kendall"
           ],
           "xaxis": "x",
           "y": [
            17
           ],
           "yaxis": "y"
          },
          {
           "alignmentgroup": "True",
           "hovertemplate": "=%{x}<br>month=2011<br>Sum of Interest Score=%{y}<br>rank=%{text}<extra></extra>",
           "legendgroup": "kylie",
           "marker": {
            "color": "rgb(255, 194, 133)",
            "pattern": {
             "shape": ""
            }
           },
           "name": "kylie",
           "offsetgroup": "kylie",
           "orientation": "v",
           "showlegend": true,
           "text": [
            5
           ],
           "textposition": "auto",
           "type": "bar",
           "x": [
            "kylie"
           ],
           "xaxis": "x",
           "y": [
            12
           ],
           "yaxis": "y"
          }
         ],
         "name": "2011"
        },
        {
         "data": [
          {
           "alignmentgroup": "True",
           "hovertemplate": "=%{x}<br>month=2012<br>Sum of Interest Score=%{y}<br>rank=%{text}<extra></extra>",
           "legendgroup": "kim",
           "marker": {
            "color": "rgb(225, 83, 131)",
            "pattern": {
             "shape": ""
            }
           },
           "name": "kim",
           "offsetgroup": "kim",
           "orientation": "v",
           "showlegend": true,
           "text": [
            1
           ],
           "textposition": "auto",
           "type": "bar",
           "x": [
            "kim"
           ],
           "xaxis": "x",
           "y": [
            320
           ],
           "yaxis": "y"
          },
          {
           "alignmentgroup": "True",
           "hovertemplate": "=%{x}<br>month=2012<br>Sum of Interest Score=%{y}<br>rank=%{text}<extra></extra>",
           "legendgroup": "khloe",
           "marker": {
            "color": "rgb(241, 109, 122)",
            "pattern": {
             "shape": ""
            }
           },
           "name": "khloe",
           "offsetgroup": "khloe",
           "orientation": "v",
           "showlegend": true,
           "text": [
            2
           ],
           "textposition": "auto",
           "type": "bar",
           "x": [
            "khloe"
           ],
           "xaxis": "x",
           "y": [
            48
           ],
           "yaxis": "y"
          },
          {
           "alignmentgroup": "True",
           "hovertemplate": "=%{x}<br>month=2012<br>Sum of Interest Score=%{y}<br>rank=%{text}<extra></extra>",
           "legendgroup": "kourtney",
           "marker": {
            "color": "rgb(250, 138, 118)",
            "pattern": {
             "shape": ""
            }
           },
           "name": "kourtney",
           "offsetgroup": "kourtney",
           "orientation": "v",
           "showlegend": true,
           "text": [
            3
           ],
           "textposition": "auto",
           "type": "bar",
           "x": [
            "kourtney"
           ],
           "xaxis": "x",
           "y": [
            43
           ],
           "yaxis": "y"
          },
          {
           "alignmentgroup": "True",
           "hovertemplate": "=%{x}<br>month=2012<br>Sum of Interest Score=%{y}<br>rank=%{text}<extra></extra>",
           "legendgroup": "kendall",
           "marker": {
            "color": "rgb(255, 166, 121)",
            "pattern": {
             "shape": ""
            }
           },
           "name": "kendall",
           "offsetgroup": "kendall",
           "orientation": "v",
           "showlegend": true,
           "text": [
            4
           ],
           "textposition": "auto",
           "type": "bar",
           "x": [
            "kendall"
           ],
           "xaxis": "x",
           "y": [
            26
           ],
           "yaxis": "y"
          },
          {
           "alignmentgroup": "True",
           "hovertemplate": "=%{x}<br>month=2012<br>Sum of Interest Score=%{y}<br>rank=%{text}<extra></extra>",
           "legendgroup": "kylie",
           "marker": {
            "color": "rgb(255, 194, 133)",
            "pattern": {
             "shape": ""
            }
           },
           "name": "kylie",
           "offsetgroup": "kylie",
           "orientation": "v",
           "showlegend": true,
           "text": [
            5
           ],
           "textposition": "auto",
           "type": "bar",
           "x": [
            "kylie"
           ],
           "xaxis": "x",
           "y": [
            16
           ],
           "yaxis": "y"
          }
         ],
         "name": "2012"
        },
        {
         "data": [
          {
           "alignmentgroup": "True",
           "hovertemplate": "=%{x}<br>month=2013<br>Sum of Interest Score=%{y}<br>rank=%{text}<extra></extra>",
           "legendgroup": "kim",
           "marker": {
            "color": "rgb(225, 83, 131)",
            "pattern": {
             "shape": ""
            }
           },
           "name": "kim",
           "offsetgroup": "kim",
           "orientation": "v",
           "showlegend": true,
           "text": [
            1
           ],
           "textposition": "auto",
           "type": "bar",
           "x": [
            "kim"
           ],
           "xaxis": "x",
           "y": [
            395
           ],
           "yaxis": "y"
          },
          {
           "alignmentgroup": "True",
           "hovertemplate": "=%{x}<br>month=2013<br>Sum of Interest Score=%{y}<br>rank=%{text}<extra></extra>",
           "legendgroup": "khloe",
           "marker": {
            "color": "rgb(241, 109, 122)",
            "pattern": {
             "shape": ""
            }
           },
           "name": "khloe",
           "offsetgroup": "khloe",
           "orientation": "v",
           "showlegend": true,
           "text": [
            2
           ],
           "textposition": "auto",
           "type": "bar",
           "x": [
            "khloe"
           ],
           "xaxis": "x",
           "y": [
            59
           ],
           "yaxis": "y"
          },
          {
           "alignmentgroup": "True",
           "hovertemplate": "=%{x}<br>month=2013<br>Sum of Interest Score=%{y}<br>rank=%{text}<extra></extra>",
           "legendgroup": "kourtney",
           "marker": {
            "color": "rgb(250, 138, 118)",
            "pattern": {
             "shape": ""
            }
           },
           "name": "kourtney",
           "offsetgroup": "kourtney",
           "orientation": "v",
           "showlegend": true,
           "text": [
            4
           ],
           "textposition": "auto",
           "type": "bar",
           "x": [
            "kourtney"
           ],
           "xaxis": "x",
           "y": [
            34
           ],
           "yaxis": "y"
          },
          {
           "alignmentgroup": "True",
           "hovertemplate": "=%{x}<br>month=2013<br>Sum of Interest Score=%{y}<br>rank=%{text}<extra></extra>",
           "legendgroup": "kendall",
           "marker": {
            "color": "rgb(255, 166, 121)",
            "pattern": {
             "shape": ""
            }
           },
           "name": "kendall",
           "offsetgroup": "kendall",
           "orientation": "v",
           "showlegend": true,
           "text": [
            3
           ],
           "textposition": "auto",
           "type": "bar",
           "x": [
            "kendall"
           ],
           "xaxis": "x",
           "y": [
            40
           ],
           "yaxis": "y"
          },
          {
           "alignmentgroup": "True",
           "hovertemplate": "=%{x}<br>month=2013<br>Sum of Interest Score=%{y}<br>rank=%{text}<extra></extra>",
           "legendgroup": "kylie",
           "marker": {
            "color": "rgb(255, 194, 133)",
            "pattern": {
             "shape": ""
            }
           },
           "name": "kylie",
           "offsetgroup": "kylie",
           "orientation": "v",
           "showlegend": true,
           "text": [
            5
           ],
           "textposition": "auto",
           "type": "bar",
           "x": [
            "kylie"
           ],
           "xaxis": "x",
           "y": [
            29
           ],
           "yaxis": "y"
          }
         ],
         "name": "2013"
        },
        {
         "data": [
          {
           "alignmentgroup": "True",
           "hovertemplate": "=%{x}<br>month=2014<br>Sum of Interest Score=%{y}<br>rank=%{text}<extra></extra>",
           "legendgroup": "kim",
           "marker": {
            "color": "rgb(225, 83, 131)",
            "pattern": {
             "shape": ""
            }
           },
           "name": "kim",
           "offsetgroup": "kim",
           "orientation": "v",
           "showlegend": true,
           "text": [
            1
           ],
           "textposition": "auto",
           "type": "bar",
           "x": [
            "kim"
           ],
           "xaxis": "x",
           "y": [
            442
           ],
           "yaxis": "y"
          },
          {
           "alignmentgroup": "True",
           "hovertemplate": "=%{x}<br>month=2014<br>Sum of Interest Score=%{y}<br>rank=%{text}<extra></extra>",
           "legendgroup": "khloe",
           "marker": {
            "color": "rgb(241, 109, 122)",
            "pattern": {
             "shape": ""
            }
           },
           "name": "khloe",
           "offsetgroup": "khloe",
           "orientation": "v",
           "showlegend": true,
           "text": [
            3
           ],
           "textposition": "auto",
           "type": "bar",
           "x": [
            "khloe"
           ],
           "xaxis": "x",
           "y": [
            64
           ],
           "yaxis": "y"
          },
          {
           "alignmentgroup": "True",
           "hovertemplate": "=%{x}<br>month=2014<br>Sum of Interest Score=%{y}<br>rank=%{text}<extra></extra>",
           "legendgroup": "kourtney",
           "marker": {
            "color": "rgb(250, 138, 118)",
            "pattern": {
             "shape": ""
            }
           },
           "name": "kourtney",
           "offsetgroup": "kourtney",
           "orientation": "v",
           "showlegend": true,
           "text": [
            5
           ],
           "textposition": "auto",
           "type": "bar",
           "x": [
            "kourtney"
           ],
           "xaxis": "x",
           "y": [
            39
           ],
           "yaxis": "y"
          },
          {
           "alignmentgroup": "True",
           "hovertemplate": "=%{x}<br>month=2014<br>Sum of Interest Score=%{y}<br>rank=%{text}<extra></extra>",
           "legendgroup": "kendall",
           "marker": {
            "color": "rgb(255, 166, 121)",
            "pattern": {
             "shape": ""
            }
           },
           "name": "kendall",
           "offsetgroup": "kendall",
           "orientation": "v",
           "showlegend": true,
           "text": [
            2
           ],
           "textposition": "auto",
           "type": "bar",
           "x": [
            "kendall"
           ],
           "xaxis": "x",
           "y": [
            66
           ],
           "yaxis": "y"
          },
          {
           "alignmentgroup": "True",
           "hovertemplate": "=%{x}<br>month=2014<br>Sum of Interest Score=%{y}<br>rank=%{text}<extra></extra>",
           "legendgroup": "kylie",
           "marker": {
            "color": "rgb(255, 194, 133)",
            "pattern": {
             "shape": ""
            }
           },
           "name": "kylie",
           "offsetgroup": "kylie",
           "orientation": "v",
           "showlegend": true,
           "text": [
            4
           ],
           "textposition": "auto",
           "type": "bar",
           "x": [
            "kylie"
           ],
           "xaxis": "x",
           "y": [
            60
           ],
           "yaxis": "y"
          }
         ],
         "name": "2014"
        },
        {
         "data": [
          {
           "alignmentgroup": "True",
           "hovertemplate": "=%{x}<br>month=2015<br>Sum of Interest Score=%{y}<br>rank=%{text}<extra></extra>",
           "legendgroup": "kim",
           "marker": {
            "color": "rgb(225, 83, 131)",
            "pattern": {
             "shape": ""
            }
           },
           "name": "kim",
           "offsetgroup": "kim",
           "orientation": "v",
           "showlegend": true,
           "text": [
            1
           ],
           "textposition": "auto",
           "type": "bar",
           "x": [
            "kim"
           ],
           "xaxis": "x",
           "y": [
            382
           ],
           "yaxis": "y"
          },
          {
           "alignmentgroup": "True",
           "hovertemplate": "=%{x}<br>month=2015<br>Sum of Interest Score=%{y}<br>rank=%{text}<extra></extra>",
           "legendgroup": "khloe",
           "marker": {
            "color": "rgb(241, 109, 122)",
            "pattern": {
             "shape": ""
            }
           },
           "name": "khloe",
           "offsetgroup": "khloe",
           "orientation": "v",
           "showlegend": true,
           "text": [
            4
           ],
           "textposition": "auto",
           "type": "bar",
           "x": [
            "khloe"
           ],
           "xaxis": "x",
           "y": [
            79
           ],
           "yaxis": "y"
          },
          {
           "alignmentgroup": "True",
           "hovertemplate": "=%{x}<br>month=2015<br>Sum of Interest Score=%{y}<br>rank=%{text}<extra></extra>",
           "legendgroup": "kourtney",
           "marker": {
            "color": "rgb(250, 138, 118)",
            "pattern": {
             "shape": ""
            }
           },
           "name": "kourtney",
           "offsetgroup": "kourtney",
           "orientation": "v",
           "showlegend": true,
           "text": [
            5
           ],
           "textposition": "auto",
           "type": "bar",
           "x": [
            "kourtney"
           ],
           "xaxis": "x",
           "y": [
            52
           ],
           "yaxis": "y"
          },
          {
           "alignmentgroup": "True",
           "hovertemplate": "=%{x}<br>month=2015<br>Sum of Interest Score=%{y}<br>rank=%{text}<extra></extra>",
           "legendgroup": "kendall",
           "marker": {
            "color": "rgb(255, 166, 121)",
            "pattern": {
             "shape": ""
            }
           },
           "name": "kendall",
           "offsetgroup": "kendall",
           "orientation": "v",
           "showlegend": true,
           "text": [
            3
           ],
           "textposition": "auto",
           "type": "bar",
           "x": [
            "kendall"
           ],
           "xaxis": "x",
           "y": [
            98
           ],
           "yaxis": "y"
          },
          {
           "alignmentgroup": "True",
           "hovertemplate": "=%{x}<br>month=2015<br>Sum of Interest Score=%{y}<br>rank=%{text}<extra></extra>",
           "legendgroup": "kylie",
           "marker": {
            "color": "rgb(255, 194, 133)",
            "pattern": {
             "shape": ""
            }
           },
           "name": "kylie",
           "offsetgroup": "kylie",
           "orientation": "v",
           "showlegend": true,
           "text": [
            2
           ],
           "textposition": "auto",
           "type": "bar",
           "x": [
            "kylie"
           ],
           "xaxis": "x",
           "y": [
            203
           ],
           "yaxis": "y"
          }
         ],
         "name": "2015"
        },
        {
         "data": [
          {
           "alignmentgroup": "True",
           "hovertemplate": "=%{x}<br>month=2016<br>Sum of Interest Score=%{y}<br>rank=%{text}<extra></extra>",
           "legendgroup": "kim",
           "marker": {
            "color": "rgb(225, 83, 131)",
            "pattern": {
             "shape": ""
            }
           },
           "name": "kim",
           "offsetgroup": "kim",
           "orientation": "v",
           "showlegend": true,
           "text": [
            1
           ],
           "textposition": "auto",
           "type": "bar",
           "x": [
            "kim"
           ],
           "xaxis": "x",
           "y": [
            331
           ],
           "yaxis": "y"
          },
          {
           "alignmentgroup": "True",
           "hovertemplate": "=%{x}<br>month=2016<br>Sum of Interest Score=%{y}<br>rank=%{text}<extra></extra>",
           "legendgroup": "khloe",
           "marker": {
            "color": "rgb(241, 109, 122)",
            "pattern": {
             "shape": ""
            }
           },
           "name": "khloe",
           "offsetgroup": "khloe",
           "orientation": "v",
           "showlegend": true,
           "text": [
            4
           ],
           "textposition": "auto",
           "type": "bar",
           "x": [
            "khloe"
           ],
           "xaxis": "x",
           "y": [
            68
           ],
           "yaxis": "y"
          },
          {
           "alignmentgroup": "True",
           "hovertemplate": "=%{x}<br>month=2016<br>Sum of Interest Score=%{y}<br>rank=%{text}<extra></extra>",
           "legendgroup": "kourtney",
           "marker": {
            "color": "rgb(250, 138, 118)",
            "pattern": {
             "shape": ""
            }
           },
           "name": "kourtney",
           "offsetgroup": "kourtney",
           "orientation": "v",
           "showlegend": true,
           "text": [
            5
           ],
           "textposition": "auto",
           "type": "bar",
           "x": [
            "kourtney"
           ],
           "xaxis": "x",
           "y": [
            43
           ],
           "yaxis": "y"
          },
          {
           "alignmentgroup": "True",
           "hovertemplate": "=%{x}<br>month=2016<br>Sum of Interest Score=%{y}<br>rank=%{text}<extra></extra>",
           "legendgroup": "kendall",
           "marker": {
            "color": "rgb(255, 166, 121)",
            "pattern": {
             "shape": ""
            }
           },
           "name": "kendall",
           "offsetgroup": "kendall",
           "orientation": "v",
           "showlegend": true,
           "text": [
            3
           ],
           "textposition": "auto",
           "type": "bar",
           "x": [
            "kendall"
           ],
           "xaxis": "x",
           "y": [
            89
           ],
           "yaxis": "y"
          },
          {
           "alignmentgroup": "True",
           "hovertemplate": "=%{x}<br>month=2016<br>Sum of Interest Score=%{y}<br>rank=%{text}<extra></extra>",
           "legendgroup": "kylie",
           "marker": {
            "color": "rgb(255, 194, 133)",
            "pattern": {
             "shape": ""
            }
           },
           "name": "kylie",
           "offsetgroup": "kylie",
           "orientation": "v",
           "showlegend": true,
           "text": [
            2
           ],
           "textposition": "auto",
           "type": "bar",
           "x": [
            "kylie"
           ],
           "xaxis": "x",
           "y": [
            205
           ],
           "yaxis": "y"
          }
         ],
         "name": "2016"
        },
        {
         "data": [
          {
           "alignmentgroup": "True",
           "hovertemplate": "=%{x}<br>month=2017<br>Sum of Interest Score=%{y}<br>rank=%{text}<extra></extra>",
           "legendgroup": "kim",
           "marker": {
            "color": "rgb(225, 83, 131)",
            "pattern": {
             "shape": ""
            }
           },
           "name": "kim",
           "offsetgroup": "kim",
           "orientation": "v",
           "showlegend": true,
           "text": [
            1
           ],
           "textposition": "auto",
           "type": "bar",
           "x": [
            "kim"
           ],
           "xaxis": "x",
           "y": [
            204
           ],
           "yaxis": "y"
          },
          {
           "alignmentgroup": "True",
           "hovertemplate": "=%{x}<br>month=2017<br>Sum of Interest Score=%{y}<br>rank=%{text}<extra></extra>",
           "legendgroup": "khloe",
           "marker": {
            "color": "rgb(241, 109, 122)",
            "pattern": {
             "shape": ""
            }
           },
           "name": "khloe",
           "offsetgroup": "khloe",
           "orientation": "v",
           "showlegend": true,
           "text": [
            4
           ],
           "textposition": "auto",
           "type": "bar",
           "x": [
            "khloe"
           ],
           "xaxis": "x",
           "y": [
            52
           ],
           "yaxis": "y"
          },
          {
           "alignmentgroup": "True",
           "hovertemplate": "=%{x}<br>month=2017<br>Sum of Interest Score=%{y}<br>rank=%{text}<extra></extra>",
           "legendgroup": "kourtney",
           "marker": {
            "color": "rgb(250, 138, 118)",
            "pattern": {
             "shape": ""
            }
           },
           "name": "kourtney",
           "offsetgroup": "kourtney",
           "orientation": "v",
           "showlegend": true,
           "text": [
            5
           ],
           "textposition": "auto",
           "type": "bar",
           "x": [
            "kourtney"
           ],
           "xaxis": "x",
           "y": [
            31
           ],
           "yaxis": "y"
          },
          {
           "alignmentgroup": "True",
           "hovertemplate": "=%{x}<br>month=2017<br>Sum of Interest Score=%{y}<br>rank=%{text}<extra></extra>",
           "legendgroup": "kendall",
           "marker": {
            "color": "rgb(255, 166, 121)",
            "pattern": {
             "shape": ""
            }
           },
           "name": "kendall",
           "offsetgroup": "kendall",
           "orientation": "v",
           "showlegend": true,
           "text": [
            3
           ],
           "textposition": "auto",
           "type": "bar",
           "x": [
            "kendall"
           ],
           "xaxis": "x",
           "y": [
            60
           ],
           "yaxis": "y"
          },
          {
           "alignmentgroup": "True",
           "hovertemplate": "=%{x}<br>month=2017<br>Sum of Interest Score=%{y}<br>rank=%{text}<extra></extra>",
           "legendgroup": "kylie",
           "marker": {
            "color": "rgb(255, 194, 133)",
            "pattern": {
             "shape": ""
            }
           },
           "name": "kylie",
           "offsetgroup": "kylie",
           "orientation": "v",
           "showlegend": true,
           "text": [
            2
           ],
           "textposition": "auto",
           "type": "bar",
           "x": [
            "kylie"
           ],
           "xaxis": "x",
           "y": [
            171
           ],
           "yaxis": "y"
          }
         ],
         "name": "2017"
        },
        {
         "data": [
          {
           "alignmentgroup": "True",
           "hovertemplate": "=%{x}<br>month=2018<br>Sum of Interest Score=%{y}<br>rank=%{text}<extra></extra>",
           "legendgroup": "kim",
           "marker": {
            "color": "rgb(225, 83, 131)",
            "pattern": {
             "shape": ""
            }
           },
           "name": "kim",
           "offsetgroup": "kim",
           "orientation": "v",
           "showlegend": true,
           "text": [
            1
           ],
           "textposition": "auto",
           "type": "bar",
           "x": [
            "kim"
           ],
           "xaxis": "x",
           "y": [
            199
           ],
           "yaxis": "y"
          },
          {
           "alignmentgroup": "True",
           "hovertemplate": "=%{x}<br>month=2018<br>Sum of Interest Score=%{y}<br>rank=%{text}<extra></extra>",
           "legendgroup": "khloe",
           "marker": {
            "color": "rgb(241, 109, 122)",
            "pattern": {
             "shape": ""
            }
           },
           "name": "khloe",
           "offsetgroup": "khloe",
           "orientation": "v",
           "showlegend": true,
           "text": [
            3
           ],
           "textposition": "auto",
           "type": "bar",
           "x": [
            "khloe"
           ],
           "xaxis": "x",
           "y": [
            73
           ],
           "yaxis": "y"
          },
          {
           "alignmentgroup": "True",
           "hovertemplate": "=%{x}<br>month=2018<br>Sum of Interest Score=%{y}<br>rank=%{text}<extra></extra>",
           "legendgroup": "kourtney",
           "marker": {
            "color": "rgb(250, 138, 118)",
            "pattern": {
             "shape": ""
            }
           },
           "name": "kourtney",
           "offsetgroup": "kourtney",
           "orientation": "v",
           "showlegend": true,
           "text": [
            5
           ],
           "textposition": "auto",
           "type": "bar",
           "x": [
            "kourtney"
           ],
           "xaxis": "x",
           "y": [
            33
           ],
           "yaxis": "y"
          },
          {
           "alignmentgroup": "True",
           "hovertemplate": "=%{x}<br>month=2018<br>Sum of Interest Score=%{y}<br>rank=%{text}<extra></extra>",
           "legendgroup": "kendall",
           "marker": {
            "color": "rgb(255, 166, 121)",
            "pattern": {
             "shape": ""
            }
           },
           "name": "kendall",
           "offsetgroup": "kendall",
           "orientation": "v",
           "showlegend": true,
           "text": [
            4
           ],
           "textposition": "auto",
           "type": "bar",
           "x": [
            "kendall"
           ],
           "xaxis": "x",
           "y": [
            53
           ],
           "yaxis": "y"
          },
          {
           "alignmentgroup": "True",
           "hovertemplate": "=%{x}<br>month=2018<br>Sum of Interest Score=%{y}<br>rank=%{text}<extra></extra>",
           "legendgroup": "kylie",
           "marker": {
            "color": "rgb(255, 194, 133)",
            "pattern": {
             "shape": ""
            }
           },
           "name": "kylie",
           "offsetgroup": "kylie",
           "orientation": "v",
           "showlegend": true,
           "text": [
            2
           ],
           "textposition": "auto",
           "type": "bar",
           "x": [
            "kylie"
           ],
           "xaxis": "x",
           "y": [
            157
           ],
           "yaxis": "y"
          }
         ],
         "name": "2018"
        },
        {
         "data": [
          {
           "alignmentgroup": "True",
           "hovertemplate": "=%{x}<br>month=2019<br>Sum of Interest Score=%{y}<br>rank=%{text}<extra></extra>",
           "legendgroup": "kim",
           "marker": {
            "color": "rgb(225, 83, 131)",
            "pattern": {
             "shape": ""
            }
           },
           "name": "kim",
           "offsetgroup": "kim",
           "orientation": "v",
           "showlegend": true,
           "text": [
            1
           ],
           "textposition": "auto",
           "type": "bar",
           "x": [
            "kim"
           ],
           "xaxis": "x",
           "y": [
            142
           ],
           "yaxis": "y"
          },
          {
           "alignmentgroup": "True",
           "hovertemplate": "=%{x}<br>month=2019<br>Sum of Interest Score=%{y}<br>rank=%{text}<extra></extra>",
           "legendgroup": "khloe",
           "marker": {
            "color": "rgb(241, 109, 122)",
            "pattern": {
             "shape": ""
            }
           },
           "name": "khloe",
           "offsetgroup": "khloe",
           "orientation": "v",
           "showlegend": true,
           "text": [
            3
           ],
           "textposition": "auto",
           "type": "bar",
           "x": [
            "khloe"
           ],
           "xaxis": "x",
           "y": [
            42
           ],
           "yaxis": "y"
          },
          {
           "alignmentgroup": "True",
           "hovertemplate": "=%{x}<br>month=2019<br>Sum of Interest Score=%{y}<br>rank=%{text}<extra></extra>",
           "legendgroup": "kourtney",
           "marker": {
            "color": "rgb(250, 138, 118)",
            "pattern": {
             "shape": ""
            }
           },
           "name": "kourtney",
           "offsetgroup": "kourtney",
           "orientation": "v",
           "showlegend": true,
           "text": [
            5
           ],
           "textposition": "auto",
           "type": "bar",
           "x": [
            "kourtney"
           ],
           "xaxis": "x",
           "y": [
            22
           ],
           "yaxis": "y"
          },
          {
           "alignmentgroup": "True",
           "hovertemplate": "=%{x}<br>month=2019<br>Sum of Interest Score=%{y}<br>rank=%{text}<extra></extra>",
           "legendgroup": "kendall",
           "marker": {
            "color": "rgb(255, 166, 121)",
            "pattern": {
             "shape": ""
            }
           },
           "name": "kendall",
           "offsetgroup": "kendall",
           "orientation": "v",
           "showlegend": true,
           "text": [
            4
           ],
           "textposition": "auto",
           "type": "bar",
           "x": [
            "kendall"
           ],
           "xaxis": "x",
           "y": [
            41
           ],
           "yaxis": "y"
          },
          {
           "alignmentgroup": "True",
           "hovertemplate": "=%{x}<br>month=2019<br>Sum of Interest Score=%{y}<br>rank=%{text}<extra></extra>",
           "legendgroup": "kylie",
           "marker": {
            "color": "rgb(255, 194, 133)",
            "pattern": {
             "shape": ""
            }
           },
           "name": "kylie",
           "offsetgroup": "kylie",
           "orientation": "v",
           "showlegend": true,
           "text": [
            2
           ],
           "textposition": "auto",
           "type": "bar",
           "x": [
            "kylie"
           ],
           "xaxis": "x",
           "y": [
            120
           ],
           "yaxis": "y"
          }
         ],
         "name": "2019"
        },
        {
         "data": [
          {
           "alignmentgroup": "True",
           "hovertemplate": "=%{x}<br>month=2020<br>Sum of Interest Score=%{y}<br>rank=%{text}<extra></extra>",
           "legendgroup": "kim",
           "marker": {
            "color": "rgb(225, 83, 131)",
            "pattern": {
             "shape": ""
            }
           },
           "name": "kim",
           "offsetgroup": "kim",
           "orientation": "v",
           "showlegend": true,
           "text": [
            1
           ],
           "textposition": "auto",
           "type": "bar",
           "x": [
            "kim"
           ],
           "xaxis": "x",
           "y": [
            124
           ],
           "yaxis": "y"
          },
          {
           "alignmentgroup": "True",
           "hovertemplate": "=%{x}<br>month=2020<br>Sum of Interest Score=%{y}<br>rank=%{text}<extra></extra>",
           "legendgroup": "khloe",
           "marker": {
            "color": "rgb(241, 109, 122)",
            "pattern": {
             "shape": ""
            }
           },
           "name": "khloe",
           "offsetgroup": "khloe",
           "orientation": "v",
           "showlegend": true,
           "text": [
            4
           ],
           "textposition": "auto",
           "type": "bar",
           "x": [
            "khloe"
           ],
           "xaxis": "x",
           "y": [
            31
           ],
           "yaxis": "y"
          },
          {
           "alignmentgroup": "True",
           "hovertemplate": "=%{x}<br>month=2020<br>Sum of Interest Score=%{y}<br>rank=%{text}<extra></extra>",
           "legendgroup": "kourtney",
           "marker": {
            "color": "rgb(250, 138, 118)",
            "pattern": {
             "shape": ""
            }
           },
           "name": "kourtney",
           "offsetgroup": "kourtney",
           "orientation": "v",
           "showlegend": true,
           "text": [
            5
           ],
           "textposition": "auto",
           "type": "bar",
           "x": [
            "kourtney"
           ],
           "xaxis": "x",
           "y": [
            22
           ],
           "yaxis": "y"
          },
          {
           "alignmentgroup": "True",
           "hovertemplate": "=%{x}<br>month=2020<br>Sum of Interest Score=%{y}<br>rank=%{text}<extra></extra>",
           "legendgroup": "kendall",
           "marker": {
            "color": "rgb(255, 166, 121)",
            "pattern": {
             "shape": ""
            }
           },
           "name": "kendall",
           "offsetgroup": "kendall",
           "orientation": "v",
           "showlegend": true,
           "text": [
            3
           ],
           "textposition": "auto",
           "type": "bar",
           "x": [
            "kendall"
           ],
           "xaxis": "x",
           "y": [
            41
           ],
           "yaxis": "y"
          },
          {
           "alignmentgroup": "True",
           "hovertemplate": "=%{x}<br>month=2020<br>Sum of Interest Score=%{y}<br>rank=%{text}<extra></extra>",
           "legendgroup": "kylie",
           "marker": {
            "color": "rgb(255, 194, 133)",
            "pattern": {
             "shape": ""
            }
           },
           "name": "kylie",
           "offsetgroup": "kylie",
           "orientation": "v",
           "showlegend": true,
           "text": [
            2
           ],
           "textposition": "auto",
           "type": "bar",
           "x": [
            "kylie"
           ],
           "xaxis": "x",
           "y": [
            97
           ],
           "yaxis": "y"
          }
         ],
         "name": "2020"
        },
        {
         "data": [
          {
           "alignmentgroup": "True",
           "hovertemplate": "=%{x}<br>month=2021<br>Sum of Interest Score=%{y}<br>rank=%{text}<extra></extra>",
           "legendgroup": "kim",
           "marker": {
            "color": "rgb(225, 83, 131)",
            "pattern": {
             "shape": ""
            }
           },
           "name": "kim",
           "offsetgroup": "kim",
           "orientation": "v",
           "showlegend": true,
           "text": [
            1
           ],
           "textposition": "auto",
           "type": "bar",
           "x": [
            "kim"
           ],
           "xaxis": "x",
           "y": [
            137
           ],
           "yaxis": "y"
          },
          {
           "alignmentgroup": "True",
           "hovertemplate": "=%{x}<br>month=2021<br>Sum of Interest Score=%{y}<br>rank=%{text}<extra></extra>",
           "legendgroup": "khloe",
           "marker": {
            "color": "rgb(241, 109, 122)",
            "pattern": {
             "shape": ""
            }
           },
           "name": "khloe",
           "offsetgroup": "khloe",
           "orientation": "v",
           "showlegend": true,
           "text": [
            4
           ],
           "textposition": "auto",
           "type": "bar",
           "x": [
            "khloe"
           ],
           "xaxis": "x",
           "y": [
            36
           ],
           "yaxis": "y"
          },
          {
           "alignmentgroup": "True",
           "hovertemplate": "=%{x}<br>month=2021<br>Sum of Interest Score=%{y}<br>rank=%{text}<extra></extra>",
           "legendgroup": "kourtney",
           "marker": {
            "color": "rgb(250, 138, 118)",
            "pattern": {
             "shape": ""
            }
           },
           "name": "kourtney",
           "offsetgroup": "kourtney",
           "orientation": "v",
           "showlegend": true,
           "text": [
            5
           ],
           "textposition": "auto",
           "type": "bar",
           "x": [
            "kourtney"
           ],
           "xaxis": "x",
           "y": [
            30
           ],
           "yaxis": "y"
          },
          {
           "alignmentgroup": "True",
           "hovertemplate": "=%{x}<br>month=2021<br>Sum of Interest Score=%{y}<br>rank=%{text}<extra></extra>",
           "legendgroup": "kendall",
           "marker": {
            "color": "rgb(255, 166, 121)",
            "pattern": {
             "shape": ""
            }
           },
           "name": "kendall",
           "offsetgroup": "kendall",
           "orientation": "v",
           "showlegend": true,
           "text": [
            3
           ],
           "textposition": "auto",
           "type": "bar",
           "x": [
            "kendall"
           ],
           "xaxis": "x",
           "y": [
            45
           ],
           "yaxis": "y"
          },
          {
           "alignmentgroup": "True",
           "hovertemplate": "=%{x}<br>month=2021<br>Sum of Interest Score=%{y}<br>rank=%{text}<extra></extra>",
           "legendgroup": "kylie",
           "marker": {
            "color": "rgb(255, 194, 133)",
            "pattern": {
             "shape": ""
            }
           },
           "name": "kylie",
           "offsetgroup": "kylie",
           "orientation": "v",
           "showlegend": true,
           "text": [
            2
           ],
           "textposition": "auto",
           "type": "bar",
           "x": [
            "kylie"
           ],
           "xaxis": "x",
           "y": [
            82
           ],
           "yaxis": "y"
          }
         ],
         "name": "2021"
        },
        {
         "data": [
          {
           "alignmentgroup": "True",
           "hovertemplate": "=%{x}<br>month=2022<br>Sum of Interest Score=%{y}<br>rank=%{text}<extra></extra>",
           "legendgroup": "kim",
           "marker": {
            "color": "rgb(225, 83, 131)",
            "pattern": {
             "shape": ""
            }
           },
           "name": "kim",
           "offsetgroup": "kim",
           "orientation": "v",
           "showlegend": true,
           "text": [
            1
           ],
           "textposition": "auto",
           "type": "bar",
           "x": [
            "kim"
           ],
           "xaxis": "x",
           "y": [
            142
           ],
           "yaxis": "y"
          },
          {
           "alignmentgroup": "True",
           "hovertemplate": "=%{x}<br>month=2022<br>Sum of Interest Score=%{y}<br>rank=%{text}<extra></extra>",
           "legendgroup": "khloe",
           "marker": {
            "color": "rgb(241, 109, 122)",
            "pattern": {
             "shape": ""
            }
           },
           "name": "khloe",
           "offsetgroup": "khloe",
           "orientation": "v",
           "showlegend": true,
           "text": [
            4
           ],
           "textposition": "auto",
           "type": "bar",
           "x": [
            "khloe"
           ],
           "xaxis": "x",
           "y": [
            37
           ],
           "yaxis": "y"
          },
          {
           "alignmentgroup": "True",
           "hovertemplate": "=%{x}<br>month=2022<br>Sum of Interest Score=%{y}<br>rank=%{text}<extra></extra>",
           "legendgroup": "kourtney",
           "marker": {
            "color": "rgb(250, 138, 118)",
            "pattern": {
             "shape": ""
            }
           },
           "name": "kourtney",
           "offsetgroup": "kourtney",
           "orientation": "v",
           "showlegend": true,
           "text": [
            5
           ],
           "textposition": "auto",
           "type": "bar",
           "x": [
            "kourtney"
           ],
           "xaxis": "x",
           "y": [
            30
           ],
           "yaxis": "y"
          },
          {
           "alignmentgroup": "True",
           "hovertemplate": "=%{x}<br>month=2022<br>Sum of Interest Score=%{y}<br>rank=%{text}<extra></extra>",
           "legendgroup": "kendall",
           "marker": {
            "color": "rgb(255, 166, 121)",
            "pattern": {
             "shape": ""
            }
           },
           "name": "kendall",
           "offsetgroup": "kendall",
           "orientation": "v",
           "showlegend": true,
           "text": [
            3
           ],
           "textposition": "auto",
           "type": "bar",
           "x": [
            "kendall"
           ],
           "xaxis": "x",
           "y": [
            41
           ],
           "yaxis": "y"
          },
          {
           "alignmentgroup": "True",
           "hovertemplate": "=%{x}<br>month=2022<br>Sum of Interest Score=%{y}<br>rank=%{text}<extra></extra>",
           "legendgroup": "kylie",
           "marker": {
            "color": "rgb(255, 194, 133)",
            "pattern": {
             "shape": ""
            }
           },
           "name": "kylie",
           "offsetgroup": "kylie",
           "orientation": "v",
           "showlegend": true,
           "text": [
            2
           ],
           "textposition": "auto",
           "type": "bar",
           "x": [
            "kylie"
           ],
           "xaxis": "x",
           "y": [
            71
           ],
           "yaxis": "y"
          }
         ],
         "name": "2022"
        }
       ],
       "layout": {
        "barmode": "relative",
        "height": 600,
        "legend": {
         "title": {
          "text": ""
         },
         "tracegroupgap": 0
        },
        "margin": {
         "t": 60
        },
        "plot_bgcolor": "#fff",
        "showlegend": false,
        "sliders": [
         {
          "active": 0,
          "currentvalue": {
           "prefix": "month="
          },
          "len": 0.9,
          "pad": {
           "b": 10,
           "t": 60
          },
          "steps": [
           {
            "args": [
             [
              "2007"
             ],
             {
              "frame": {
               "duration": 0,
               "redraw": true
              },
              "fromcurrent": true,
              "mode": "immediate",
              "transition": {
               "duration": 0,
               "easing": "linear"
              }
             }
            ],
            "label": "2007",
            "method": "animate"
           },
           {
            "args": [
             [
              "2008"
             ],
             {
              "frame": {
               "duration": 0,
               "redraw": true
              },
              "fromcurrent": true,
              "mode": "immediate",
              "transition": {
               "duration": 0,
               "easing": "linear"
              }
             }
            ],
            "label": "2008",
            "method": "animate"
           },
           {
            "args": [
             [
              "2009"
             ],
             {
              "frame": {
               "duration": 0,
               "redraw": true
              },
              "fromcurrent": true,
              "mode": "immediate",
              "transition": {
               "duration": 0,
               "easing": "linear"
              }
             }
            ],
            "label": "2009",
            "method": "animate"
           },
           {
            "args": [
             [
              "2010"
             ],
             {
              "frame": {
               "duration": 0,
               "redraw": true
              },
              "fromcurrent": true,
              "mode": "immediate",
              "transition": {
               "duration": 0,
               "easing": "linear"
              }
             }
            ],
            "label": "2010",
            "method": "animate"
           },
           {
            "args": [
             [
              "2011"
             ],
             {
              "frame": {
               "duration": 0,
               "redraw": true
              },
              "fromcurrent": true,
              "mode": "immediate",
              "transition": {
               "duration": 0,
               "easing": "linear"
              }
             }
            ],
            "label": "2011",
            "method": "animate"
           },
           {
            "args": [
             [
              "2012"
             ],
             {
              "frame": {
               "duration": 0,
               "redraw": true
              },
              "fromcurrent": true,
              "mode": "immediate",
              "transition": {
               "duration": 0,
               "easing": "linear"
              }
             }
            ],
            "label": "2012",
            "method": "animate"
           },
           {
            "args": [
             [
              "2013"
             ],
             {
              "frame": {
               "duration": 0,
               "redraw": true
              },
              "fromcurrent": true,
              "mode": "immediate",
              "transition": {
               "duration": 0,
               "easing": "linear"
              }
             }
            ],
            "label": "2013",
            "method": "animate"
           },
           {
            "args": [
             [
              "2014"
             ],
             {
              "frame": {
               "duration": 0,
               "redraw": true
              },
              "fromcurrent": true,
              "mode": "immediate",
              "transition": {
               "duration": 0,
               "easing": "linear"
              }
             }
            ],
            "label": "2014",
            "method": "animate"
           },
           {
            "args": [
             [
              "2015"
             ],
             {
              "frame": {
               "duration": 0,
               "redraw": true
              },
              "fromcurrent": true,
              "mode": "immediate",
              "transition": {
               "duration": 0,
               "easing": "linear"
              }
             }
            ],
            "label": "2015",
            "method": "animate"
           },
           {
            "args": [
             [
              "2016"
             ],
             {
              "frame": {
               "duration": 0,
               "redraw": true
              },
              "fromcurrent": true,
              "mode": "immediate",
              "transition": {
               "duration": 0,
               "easing": "linear"
              }
             }
            ],
            "label": "2016",
            "method": "animate"
           },
           {
            "args": [
             [
              "2017"
             ],
             {
              "frame": {
               "duration": 0,
               "redraw": true
              },
              "fromcurrent": true,
              "mode": "immediate",
              "transition": {
               "duration": 0,
               "easing": "linear"
              }
             }
            ],
            "label": "2017",
            "method": "animate"
           },
           {
            "args": [
             [
              "2018"
             ],
             {
              "frame": {
               "duration": 0,
               "redraw": true
              },
              "fromcurrent": true,
              "mode": "immediate",
              "transition": {
               "duration": 0,
               "easing": "linear"
              }
             }
            ],
            "label": "2018",
            "method": "animate"
           },
           {
            "args": [
             [
              "2019"
             ],
             {
              "frame": {
               "duration": 0,
               "redraw": true
              },
              "fromcurrent": true,
              "mode": "immediate",
              "transition": {
               "duration": 0,
               "easing": "linear"
              }
             }
            ],
            "label": "2019",
            "method": "animate"
           },
           {
            "args": [
             [
              "2020"
             ],
             {
              "frame": {
               "duration": 0,
               "redraw": true
              },
              "fromcurrent": true,
              "mode": "immediate",
              "transition": {
               "duration": 0,
               "easing": "linear"
              }
             }
            ],
            "label": "2020",
            "method": "animate"
           },
           {
            "args": [
             [
              "2021"
             ],
             {
              "frame": {
               "duration": 0,
               "redraw": true
              },
              "fromcurrent": true,
              "mode": "immediate",
              "transition": {
               "duration": 0,
               "easing": "linear"
              }
             }
            ],
            "label": "2021",
            "method": "animate"
           },
           {
            "args": [
             [
              "2022"
             ],
             {
              "frame": {
               "duration": 0,
               "redraw": true
              },
              "fromcurrent": true,
              "mode": "immediate",
              "transition": {
               "duration": 0,
               "easing": "linear"
              }
             }
            ],
            "label": "2022",
            "method": "animate"
           }
          ],
          "x": 0.1,
          "xanchor": "left",
          "y": 0,
          "yanchor": "top"
         }
        ],
        "template": {
         "data": {
          "bar": [
           {
            "error_x": {
             "color": "#2a3f5f"
            },
            "error_y": {
             "color": "#2a3f5f"
            },
            "marker": {
             "line": {
              "color": "#E5ECF6",
              "width": 0.5
             },
             "pattern": {
              "fillmode": "overlay",
              "size": 10,
              "solidity": 0.2
             }
            },
            "type": "bar"
           }
          ],
          "barpolar": [
           {
            "marker": {
             "line": {
              "color": "#E5ECF6",
              "width": 0.5
             },
             "pattern": {
              "fillmode": "overlay",
              "size": 10,
              "solidity": 0.2
             }
            },
            "type": "barpolar"
           }
          ],
          "carpet": [
           {
            "aaxis": {
             "endlinecolor": "#2a3f5f",
             "gridcolor": "white",
             "linecolor": "white",
             "minorgridcolor": "white",
             "startlinecolor": "#2a3f5f"
            },
            "baxis": {
             "endlinecolor": "#2a3f5f",
             "gridcolor": "white",
             "linecolor": "white",
             "minorgridcolor": "white",
             "startlinecolor": "#2a3f5f"
            },
            "type": "carpet"
           }
          ],
          "choropleth": [
           {
            "colorbar": {
             "outlinewidth": 0,
             "ticks": ""
            },
            "type": "choropleth"
           }
          ],
          "contour": [
           {
            "colorbar": {
             "outlinewidth": 0,
             "ticks": ""
            },
            "colorscale": [
             [
              0,
              "#0d0887"
             ],
             [
              0.1111111111111111,
              "#46039f"
             ],
             [
              0.2222222222222222,
              "#7201a8"
             ],
             [
              0.3333333333333333,
              "#9c179e"
             ],
             [
              0.4444444444444444,
              "#bd3786"
             ],
             [
              0.5555555555555556,
              "#d8576b"
             ],
             [
              0.6666666666666666,
              "#ed7953"
             ],
             [
              0.7777777777777778,
              "#fb9f3a"
             ],
             [
              0.8888888888888888,
              "#fdca26"
             ],
             [
              1,
              "#f0f921"
             ]
            ],
            "type": "contour"
           }
          ],
          "contourcarpet": [
           {
            "colorbar": {
             "outlinewidth": 0,
             "ticks": ""
            },
            "type": "contourcarpet"
           }
          ],
          "heatmap": [
           {
            "colorbar": {
             "outlinewidth": 0,
             "ticks": ""
            },
            "colorscale": [
             [
              0,
              "#0d0887"
             ],
             [
              0.1111111111111111,
              "#46039f"
             ],
             [
              0.2222222222222222,
              "#7201a8"
             ],
             [
              0.3333333333333333,
              "#9c179e"
             ],
             [
              0.4444444444444444,
              "#bd3786"
             ],
             [
              0.5555555555555556,
              "#d8576b"
             ],
             [
              0.6666666666666666,
              "#ed7953"
             ],
             [
              0.7777777777777778,
              "#fb9f3a"
             ],
             [
              0.8888888888888888,
              "#fdca26"
             ],
             [
              1,
              "#f0f921"
             ]
            ],
            "type": "heatmap"
           }
          ],
          "heatmapgl": [
           {
            "colorbar": {
             "outlinewidth": 0,
             "ticks": ""
            },
            "colorscale": [
             [
              0,
              "#0d0887"
             ],
             [
              0.1111111111111111,
              "#46039f"
             ],
             [
              0.2222222222222222,
              "#7201a8"
             ],
             [
              0.3333333333333333,
              "#9c179e"
             ],
             [
              0.4444444444444444,
              "#bd3786"
             ],
             [
              0.5555555555555556,
              "#d8576b"
             ],
             [
              0.6666666666666666,
              "#ed7953"
             ],
             [
              0.7777777777777778,
              "#fb9f3a"
             ],
             [
              0.8888888888888888,
              "#fdca26"
             ],
             [
              1,
              "#f0f921"
             ]
            ],
            "type": "heatmapgl"
           }
          ],
          "histogram": [
           {
            "marker": {
             "pattern": {
              "fillmode": "overlay",
              "size": 10,
              "solidity": 0.2
             }
            },
            "type": "histogram"
           }
          ],
          "histogram2d": [
           {
            "colorbar": {
             "outlinewidth": 0,
             "ticks": ""
            },
            "colorscale": [
             [
              0,
              "#0d0887"
             ],
             [
              0.1111111111111111,
              "#46039f"
             ],
             [
              0.2222222222222222,
              "#7201a8"
             ],
             [
              0.3333333333333333,
              "#9c179e"
             ],
             [
              0.4444444444444444,
              "#bd3786"
             ],
             [
              0.5555555555555556,
              "#d8576b"
             ],
             [
              0.6666666666666666,
              "#ed7953"
             ],
             [
              0.7777777777777778,
              "#fb9f3a"
             ],
             [
              0.8888888888888888,
              "#fdca26"
             ],
             [
              1,
              "#f0f921"
             ]
            ],
            "type": "histogram2d"
           }
          ],
          "histogram2dcontour": [
           {
            "colorbar": {
             "outlinewidth": 0,
             "ticks": ""
            },
            "colorscale": [
             [
              0,
              "#0d0887"
             ],
             [
              0.1111111111111111,
              "#46039f"
             ],
             [
              0.2222222222222222,
              "#7201a8"
             ],
             [
              0.3333333333333333,
              "#9c179e"
             ],
             [
              0.4444444444444444,
              "#bd3786"
             ],
             [
              0.5555555555555556,
              "#d8576b"
             ],
             [
              0.6666666666666666,
              "#ed7953"
             ],
             [
              0.7777777777777778,
              "#fb9f3a"
             ],
             [
              0.8888888888888888,
              "#fdca26"
             ],
             [
              1,
              "#f0f921"
             ]
            ],
            "type": "histogram2dcontour"
           }
          ],
          "mesh3d": [
           {
            "colorbar": {
             "outlinewidth": 0,
             "ticks": ""
            },
            "type": "mesh3d"
           }
          ],
          "parcoords": [
           {
            "line": {
             "colorbar": {
              "outlinewidth": 0,
              "ticks": ""
             }
            },
            "type": "parcoords"
           }
          ],
          "pie": [
           {
            "automargin": true,
            "type": "pie"
           }
          ],
          "scatter": [
           {
            "fillpattern": {
             "fillmode": "overlay",
             "size": 10,
             "solidity": 0.2
            },
            "type": "scatter"
           }
          ],
          "scatter3d": [
           {
            "line": {
             "colorbar": {
              "outlinewidth": 0,
              "ticks": ""
             }
            },
            "marker": {
             "colorbar": {
              "outlinewidth": 0,
              "ticks": ""
             }
            },
            "type": "scatter3d"
           }
          ],
          "scattercarpet": [
           {
            "marker": {
             "colorbar": {
              "outlinewidth": 0,
              "ticks": ""
             }
            },
            "type": "scattercarpet"
           }
          ],
          "scattergeo": [
           {
            "marker": {
             "colorbar": {
              "outlinewidth": 0,
              "ticks": ""
             }
            },
            "type": "scattergeo"
           }
          ],
          "scattergl": [
           {
            "marker": {
             "colorbar": {
              "outlinewidth": 0,
              "ticks": ""
             }
            },
            "type": "scattergl"
           }
          ],
          "scattermapbox": [
           {
            "marker": {
             "colorbar": {
              "outlinewidth": 0,
              "ticks": ""
             }
            },
            "type": "scattermapbox"
           }
          ],
          "scatterpolar": [
           {
            "marker": {
             "colorbar": {
              "outlinewidth": 0,
              "ticks": ""
             }
            },
            "type": "scatterpolar"
           }
          ],
          "scatterpolargl": [
           {
            "marker": {
             "colorbar": {
              "outlinewidth": 0,
              "ticks": ""
             }
            },
            "type": "scatterpolargl"
           }
          ],
          "scatterternary": [
           {
            "marker": {
             "colorbar": {
              "outlinewidth": 0,
              "ticks": ""
             }
            },
            "type": "scatterternary"
           }
          ],
          "surface": [
           {
            "colorbar": {
             "outlinewidth": 0,
             "ticks": ""
            },
            "colorscale": [
             [
              0,
              "#0d0887"
             ],
             [
              0.1111111111111111,
              "#46039f"
             ],
             [
              0.2222222222222222,
              "#7201a8"
             ],
             [
              0.3333333333333333,
              "#9c179e"
             ],
             [
              0.4444444444444444,
              "#bd3786"
             ],
             [
              0.5555555555555556,
              "#d8576b"
             ],
             [
              0.6666666666666666,
              "#ed7953"
             ],
             [
              0.7777777777777778,
              "#fb9f3a"
             ],
             [
              0.8888888888888888,
              "#fdca26"
             ],
             [
              1,
              "#f0f921"
             ]
            ],
            "type": "surface"
           }
          ],
          "table": [
           {
            "cells": {
             "fill": {
              "color": "#EBF0F8"
             },
             "line": {
              "color": "white"
             }
            },
            "header": {
             "fill": {
              "color": "#C8D4E3"
             },
             "line": {
              "color": "white"
             }
            },
            "type": "table"
           }
          ]
         },
         "layout": {
          "annotationdefaults": {
           "arrowcolor": "#2a3f5f",
           "arrowhead": 0,
           "arrowwidth": 1
          },
          "autotypenumbers": "strict",
          "coloraxis": {
           "colorbar": {
            "outlinewidth": 0,
            "ticks": ""
           }
          },
          "colorscale": {
           "diverging": [
            [
             0,
             "#8e0152"
            ],
            [
             0.1,
             "#c51b7d"
            ],
            [
             0.2,
             "#de77ae"
            ],
            [
             0.3,
             "#f1b6da"
            ],
            [
             0.4,
             "#fde0ef"
            ],
            [
             0.5,
             "#f7f7f7"
            ],
            [
             0.6,
             "#e6f5d0"
            ],
            [
             0.7,
             "#b8e186"
            ],
            [
             0.8,
             "#7fbc41"
            ],
            [
             0.9,
             "#4d9221"
            ],
            [
             1,
             "#276419"
            ]
           ],
           "sequential": [
            [
             0,
             "#0d0887"
            ],
            [
             0.1111111111111111,
             "#46039f"
            ],
            [
             0.2222222222222222,
             "#7201a8"
            ],
            [
             0.3333333333333333,
             "#9c179e"
            ],
            [
             0.4444444444444444,
             "#bd3786"
            ],
            [
             0.5555555555555556,
             "#d8576b"
            ],
            [
             0.6666666666666666,
             "#ed7953"
            ],
            [
             0.7777777777777778,
             "#fb9f3a"
            ],
            [
             0.8888888888888888,
             "#fdca26"
            ],
            [
             1,
             "#f0f921"
            ]
           ],
           "sequentialminus": [
            [
             0,
             "#0d0887"
            ],
            [
             0.1111111111111111,
             "#46039f"
            ],
            [
             0.2222222222222222,
             "#7201a8"
            ],
            [
             0.3333333333333333,
             "#9c179e"
            ],
            [
             0.4444444444444444,
             "#bd3786"
            ],
            [
             0.5555555555555556,
             "#d8576b"
            ],
            [
             0.6666666666666666,
             "#ed7953"
            ],
            [
             0.7777777777777778,
             "#fb9f3a"
            ],
            [
             0.8888888888888888,
             "#fdca26"
            ],
            [
             1,
             "#f0f921"
            ]
           ]
          },
          "colorway": [
           "#636efa",
           "#EF553B",
           "#00cc96",
           "#ab63fa",
           "#FFA15A",
           "#19d3f3",
           "#FF6692",
           "#B6E880",
           "#FF97FF",
           "#FECB52"
          ],
          "font": {
           "color": "#2a3f5f"
          },
          "geo": {
           "bgcolor": "white",
           "lakecolor": "white",
           "landcolor": "#E5ECF6",
           "showlakes": true,
           "showland": true,
           "subunitcolor": "white"
          },
          "hoverlabel": {
           "align": "left"
          },
          "hovermode": "closest",
          "mapbox": {
           "style": "light"
          },
          "paper_bgcolor": "white",
          "plot_bgcolor": "#E5ECF6",
          "polar": {
           "angularaxis": {
            "gridcolor": "white",
            "linecolor": "white",
            "ticks": ""
           },
           "bgcolor": "#E5ECF6",
           "radialaxis": {
            "gridcolor": "white",
            "linecolor": "white",
            "ticks": ""
           }
          },
          "scene": {
           "xaxis": {
            "backgroundcolor": "#E5ECF6",
            "gridcolor": "white",
            "gridwidth": 2,
            "linecolor": "white",
            "showbackground": true,
            "ticks": "",
            "zerolinecolor": "white"
           },
           "yaxis": {
            "backgroundcolor": "#E5ECF6",
            "gridcolor": "white",
            "gridwidth": 2,
            "linecolor": "white",
            "showbackground": true,
            "ticks": "",
            "zerolinecolor": "white"
           },
           "zaxis": {
            "backgroundcolor": "#E5ECF6",
            "gridcolor": "white",
            "gridwidth": 2,
            "linecolor": "white",
            "showbackground": true,
            "ticks": "",
            "zerolinecolor": "white"
           }
          },
          "shapedefaults": {
           "line": {
            "color": "#2a3f5f"
           }
          },
          "ternary": {
           "aaxis": {
            "gridcolor": "white",
            "linecolor": "white",
            "ticks": ""
           },
           "baxis": {
            "gridcolor": "white",
            "linecolor": "white",
            "ticks": ""
           },
           "bgcolor": "#E5ECF6",
           "caxis": {
            "gridcolor": "white",
            "linecolor": "white",
            "ticks": ""
           }
          },
          "title": {
           "x": 0.05
          },
          "xaxis": {
           "automargin": true,
           "gridcolor": "white",
           "linecolor": "white",
           "ticks": "",
           "title": {
            "standoff": 15
           },
           "zerolinecolor": "white",
           "zerolinewidth": 2
          },
          "yaxis": {
           "automargin": true,
           "gridcolor": "white",
           "linecolor": "white",
           "ticks": "",
           "title": {
            "standoff": 15
           },
           "zerolinecolor": "white",
           "zerolinewidth": 2
          }
         }
        },
        "updatemenus": [
         {
          "buttons": [
           {
            "args": [
             null,
             {
              "frame": {
               "duration": 500,
               "redraw": true
              },
              "fromcurrent": true,
              "mode": "immediate",
              "transition": {
               "duration": 500,
               "easing": "linear"
              }
             }
            ],
            "label": "&#9654;",
            "method": "animate"
           },
           {
            "args": [
             [
              null
             ],
             {
              "frame": {
               "duration": 0,
               "redraw": true
              },
              "fromcurrent": true,
              "mode": "immediate",
              "transition": {
               "duration": 0,
               "easing": "linear"
              }
             }
            ],
            "label": "&#9724;",
            "method": "animate"
           }
          ],
          "direction": "left",
          "pad": {
           "r": 10,
           "t": 70
          },
          "showactive": false,
          "type": "buttons",
          "x": 0.1,
          "xanchor": "right",
          "y": 0,
          "yanchor": "top"
         }
        ],
        "width": 1000,
        "xaxis": {
         "anchor": "y",
         "categoryarray": [
          "kim",
          "khloe",
          "kourtney",
          "kendall",
          "kylie"
         ],
         "categoryorder": "array",
         "domain": [
          0,
          1
         ],
         "dtick": 1,
         "tickmode": "linear",
         "title": {
          "text": ""
         }
        },
        "yaxis": {
         "anchor": "x",
         "categoryorder": "total ascending",
         "domain": [
          0,
          1
         ],
         "showgrid": false,
         "showline": false,
         "ticksuffix": " ",
         "title": {
          "text": "Sum of Interest Score"
         }
        }
       }
      }
     },
     "metadata": {},
     "output_type": "display_data"
    }
   ],
   "source": [
    "fig = px.bar(average_per_year, x='Sister', y='Mean',\n",
    "            text='rank', \n",
    "             color='Sister',\n",
    "             animation_frame='month', \n",
    "             color_discrete_sequence=px.colors.sequential.Pinkyl_r,\n",
    "             labels={\n",
    "                     \"Mean\": \"Sum of Interest Score\",\n",
    "                     \"Sister\": \"\"\n",
    "                 }\n",
    "            )\n",
    "fig.update_yaxes(showgrid=False, categoryorder='total ascending', \n",
    "                 ticksuffix=' ', showline=False)\n",
    "fig.update_layout(width=1000, height=600, showlegend=False,\n",
    "                  xaxis = dict(tickmode = 'linear', dtick = 1), \n",
    "                  plot_bgcolor = '#fff')\n",
    "fig.update_traces(textfont_size=16, textangle=0)\n",
    "fig.show()"
   ]
  },
  {
   "cell_type": "code",
   "execution_count": 187,
   "metadata": {},
   "outputs": [
    {
     "data": {
      "text/plain": [
       "['rgb(225, 83, 131)',\n",
       " 'rgb(241, 109, 122)',\n",
       " 'rgb(250, 138, 118)',\n",
       " 'rgb(255, 166, 121)',\n",
       " 'rgb(255, 194, 133)']"
      ]
     },
     "execution_count": 187,
     "metadata": {},
     "output_type": "execute_result"
    }
   ],
   "source": [
    "px.colors.sequential.Pinkyl_r[0:5]"
   ]
  },
  {
   "cell_type": "code",
   "execution_count": 189,
   "metadata": {},
   "outputs": [
    {
     "data": {
      "image/png": "[encoded data removed]",
      "text/plain": [
       "<Figure size 1080x648 with 1 Axes>"
      ]
     },
     "metadata": {},
     "output_type": "display_data"
    }
   ],
   "source": [
    "average_per_month = trends.loc['2022-01-01':'2022-12-31', :]\n",
    "average_per_month = average_per_month.groupby(average_per_month.index.day).mean()\n",
    "average_per_month.reset_index(inplace=True)\n",
    "average_per_month = average_per_month.melt(id_vars=['month'], \n",
    "                        value_vars=['kim', \"khloe\", \"kourtney\", \"kendall\", \"kylie\"], \n",
    "                        var_name='name', value_name='annual_mean')\n",
    "average_per_month = average_per_month.sort_values('annual_mean', ascending = False)\n",
    "\n",
    "#plt.style.use('ggplot')\n",
    "plt.rcParams['figure.figsize'] = [15, 9]\n",
    "ax = plt.axes()\n",
    "ax.set_facecolor(\"white\")\n",
    "#average_per_month.plot(kind='barh')\n",
    "\n",
    "average_per_month.head()\n",
    "#plt.barh(data=average_per_month, y='Mean', width=values, height=height, color=colors, align='center')\n",
    "#plt.bar(range(len(average_per_month)), sorted(average_per_month), color='red', alpha=0.5)\n",
    "\n",
    "\n",
    "plt.bar(average_per_month['name'], average_per_month['annual_mean'], color = 'pink')\n",
    "#plt.show()\n",
    "#plt.bar(range(len(average_per_month)), sorted(average_per_month), color='red', alpha=0.5)\n",
    "\n",
    "img = plt.imread('img/kimk.png')\n",
    "plt.imshow(img, extent=[-0.5, 0.6, 11.8, 15.8], aspect='auto', zorder=2)\n",
    "plt.ylim(0, 16)\n",
    "plt.xlim(-0.5, 4.5)\n",
    "plt.grid(False)\n",
    "plt.ylabel('Average popularity score per month')\n",
    "plt.title('Ranking by interest for 2022')\n",
    "plt.tick_params(\n",
    "    axis='x',          # changes apply to the x-axis\n",
    "    which='both',      # both major and minor ticks are affected\n",
    "    bottom=False)"
   ]
  }
 ],
 "metadata": {
  "kernelspec": {
   "display_name": "base",
   "language": "python",
   "name": "python3"
  },
  "language_info": {
   "codemirror_mode": {
    "name": "ipython",
    "version": 3
   },
   "file_extension": ".py",
   "mimetype": "text/x-python",
   "name": "python",
   "nbconvert_exporter": "python",
   "pygments_lexer": "ipython3",
   "version": "3.9.7 (default, Sep 16 2021, 08:50:36) \n[Clang 10.0.0 ]"
  },
  "orig_nbformat": 4,
  "vscode": {
   "interpreter": {
    "hash": "40d3a090f54c6569ab1632332b64b2c03c39dcf918b08424e98f38b5ae0af88f"
   }
  }
 },
 "nbformat": 4,
 "nbformat_minor": 2
}
